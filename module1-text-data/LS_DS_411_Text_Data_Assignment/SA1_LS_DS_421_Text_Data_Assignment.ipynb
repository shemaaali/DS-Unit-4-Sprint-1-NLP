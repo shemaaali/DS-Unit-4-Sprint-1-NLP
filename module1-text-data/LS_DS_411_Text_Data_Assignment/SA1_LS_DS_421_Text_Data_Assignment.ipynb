{
  "nbformat": 4,
  "nbformat_minor": 0,
  "metadata": {
    "colab": {
      "name": "SA1_LS_DS_421_Text_Data_Assignment.ipynb",
      "provenance": [],
      "collapsed_sections": [],
      "include_colab_link": true
    },
    "kernelspec": {
      "display_name": "U4-S1-NLP (Python 3)",
      "language": "python",
      "name": "u4-s1-nlp"
    },
    "language_info": {
      "codemirror_mode": {
        "name": "ipython",
        "version": 3
      },
      "file_extension": ".py",
      "mimetype": "text/x-python",
      "name": "python",
      "nbconvert_exporter": "python",
      "pygments_lexer": "ipython3",
      "version": "3.7.3"
    },
    "toc-autonumbering": false
  },
  "cells": [
    {
      "cell_type": "markdown",
      "metadata": {
        "id": "view-in-github",
        "colab_type": "text"
      },
      "source": [
        "<a href=\"https://colab.research.google.com/github/shemaaali/DS-Unit-4-Sprint-1-NLP/blob/main/module1-text-data/LS_DS_411_Text_Data_Assignment/SA1_LS_DS_421_Text_Data_Assignment.ipynb\" target=\"_parent\"><img src=\"https://colab.research.google.com/assets/colab-badge.svg\" alt=\"Open In Colab\"/></a>"
      ]
    },
    {
      "cell_type": "markdown",
      "metadata": {
        "id": "KBE54fblPeIu"
      },
      "source": [
        "<img align=\"left\" src=\"https://lever-client-logos.s3.amazonaws.com/864372b1-534c-480e-acd5-9711f850815c-1524247202159.png\" width=200>\n",
        "<br></br>\n",
        "<br></br>\n",
        "\n",
        "# Natural Language Processing (NLP)\n",
        "## *Data Science Unit 4 Sprint 1 Assignment 1*\n",
        "\n",
        "Your goal in this assignment: find the attributes of the best & worst coffee shops in the dataset. The text is fairly raw: dates in the review, extra words in the `star_rating` column, etc. You'll probably want to clean that stuff up for a better analysis. \n",
        "\n",
        "Analyze the corpus of text using text visualizations of token frequency. Try cleaning the data as much as possible. Try the following techniques: \n",
        "- Lemmatization\n",
        "- Custom stopword removal\n",
        "\n",
        "Keep in mind the attributes of good tokens. Once you have a solid baseline, layer in the star rating in your visualization(s). Key part of this assignment - produce a write-up of the attributes of the best and worst coffee shops. Based on your analysis, what makes the best the best and the worst the worst. Use graphs and numbesr from your analysis to support your conclusions. There should be plenty of markdown cells! :coffee:"
      ]
    },
    {
      "cell_type": "code",
      "metadata": {
        "id": "KxZn-x_AfxQW",
        "outputId": "df612bb9-c55e-48e3-901f-c37344a282a5",
        "colab": {
          "base_uri": "https://localhost:8080/",
          "height": 1000
        }
      },
      "source": [
        "# Dependencies for the week (instead of conda)\n",
        "!wget https://raw.githubusercontent.com/LambdaSchool/DS-Unit-4-Sprint-1-NLP/main/requirements.txt\n",
        "!pip install -r requirements.txt"
      ],
      "execution_count": 172,
      "outputs": [
        {
          "output_type": "stream",
          "text": [
            "--2020-09-28 23:54:54--  https://raw.githubusercontent.com/LambdaSchool/DS-Unit-4-Sprint-1-NLP/main/requirements.txt\n",
            "Resolving raw.githubusercontent.com (raw.githubusercontent.com)... 151.101.0.133, 151.101.64.133, 151.101.128.133, ...\n",
            "Connecting to raw.githubusercontent.com (raw.githubusercontent.com)|151.101.0.133|:443... connected.\n",
            "HTTP request sent, awaiting response... 200 OK\n",
            "Length: 137 [text/plain]\n",
            "Saving to: ‘requirements.txt.4’\n",
            "\n",
            "\rrequirements.txt.4    0%[                    ]       0  --.-KB/s               \rrequirements.txt.4  100%[===================>]     137  --.-KB/s    in 0s      \n",
            "\n",
            "2020-09-28 23:54:54 (6.82 MB/s) - ‘requirements.txt.4’ saved [137/137]\n",
            "\n",
            "Requirement already satisfied: gensim==3.8.1 in /usr/local/lib/python3.6/dist-packages (from -r requirements.txt (line 1)) (3.8.1)\n",
            "Requirement already satisfied: pyLDAvis==2.1.2 in /usr/local/lib/python3.6/dist-packages (from -r requirements.txt (line 2)) (2.1.2)\n",
            "Requirement already satisfied: spacy==2.2.3 in /usr/local/lib/python3.6/dist-packages (from -r requirements.txt (line 3)) (2.2.3)\n",
            "Requirement already satisfied: scikit-learn==0.22.2 in /usr/local/lib/python3.6/dist-packages (from -r requirements.txt (line 4)) (0.22.2)\n",
            "Requirement already satisfied: seaborn==0.9.0 in /usr/local/lib/python3.6/dist-packages (from -r requirements.txt (line 5)) (0.9.0)\n",
            "Requirement already satisfied: squarify==0.4.3 in /usr/local/lib/python3.6/dist-packages (from -r requirements.txt (line 6)) (0.4.3)\n",
            "Requirement already satisfied: ipykernel in /usr/local/lib/python3.6/dist-packages (from -r requirements.txt (line 7)) (4.10.1)\n",
            "Requirement already satisfied: nltk in /usr/local/lib/python3.6/dist-packages (from -r requirements.txt (line 8)) (3.2.5)\n",
            "Requirement already satisfied: pandas in /usr/local/lib/python3.6/dist-packages (from -r requirements.txt (line 9)) (1.0.5)\n",
            "Requirement already satisfied: scipy in /usr/local/lib/python3.6/dist-packages (from -r requirements.txt (line 10)) (1.4.1)\n",
            "Requirement already satisfied: beautifulsoup4 in /usr/local/lib/python3.6/dist-packages (from -r requirements.txt (line 11)) (4.6.3)\n",
            "Requirement already satisfied: numpy>=1.11.3 in /usr/local/lib/python3.6/dist-packages (from gensim==3.8.1->-r requirements.txt (line 1)) (1.18.5)\n",
            "Requirement already satisfied: smart-open>=1.8.1 in /usr/local/lib/python3.6/dist-packages (from gensim==3.8.1->-r requirements.txt (line 1)) (2.1.1)\n",
            "Requirement already satisfied: six>=1.5.0 in /usr/local/lib/python3.6/dist-packages (from gensim==3.8.1->-r requirements.txt (line 1)) (1.15.0)\n",
            "Requirement already satisfied: wheel>=0.23.0 in /usr/local/lib/python3.6/dist-packages (from pyLDAvis==2.1.2->-r requirements.txt (line 2)) (0.35.1)\n",
            "Requirement already satisfied: jinja2>=2.7.2 in /usr/local/lib/python3.6/dist-packages (from pyLDAvis==2.1.2->-r requirements.txt (line 2)) (2.11.2)\n",
            "Requirement already satisfied: pytest in /usr/local/lib/python3.6/dist-packages (from pyLDAvis==2.1.2->-r requirements.txt (line 2)) (3.6.4)\n",
            "Requirement already satisfied: funcy in /usr/local/lib/python3.6/dist-packages (from pyLDAvis==2.1.2->-r requirements.txt (line 2)) (1.15)\n",
            "Requirement already satisfied: future in /usr/local/lib/python3.6/dist-packages (from pyLDAvis==2.1.2->-r requirements.txt (line 2)) (0.16.0)\n",
            "Requirement already satisfied: joblib>=0.8.4 in /usr/local/lib/python3.6/dist-packages (from pyLDAvis==2.1.2->-r requirements.txt (line 2)) (0.16.0)\n",
            "Requirement already satisfied: numexpr in /usr/local/lib/python3.6/dist-packages (from pyLDAvis==2.1.2->-r requirements.txt (line 2)) (2.7.1)\n",
            "Requirement already satisfied: plac<1.2.0,>=0.9.6 in /usr/local/lib/python3.6/dist-packages (from spacy==2.2.3->-r requirements.txt (line 3)) (1.1.3)\n",
            "Requirement already satisfied: murmurhash<1.1.0,>=0.28.0 in /usr/local/lib/python3.6/dist-packages (from spacy==2.2.3->-r requirements.txt (line 3)) (1.0.2)\n",
            "Requirement already satisfied: setuptools in /usr/local/lib/python3.6/dist-packages (from spacy==2.2.3->-r requirements.txt (line 3)) (50.3.0)\n",
            "Requirement already satisfied: requests<3.0.0,>=2.13.0 in /usr/local/lib/python3.6/dist-packages (from spacy==2.2.3->-r requirements.txt (line 3)) (2.23.0)\n",
            "Requirement already satisfied: srsly<1.1.0,>=0.1.0 in /usr/local/lib/python3.6/dist-packages (from spacy==2.2.3->-r requirements.txt (line 3)) (1.0.2)\n",
            "Requirement already satisfied: catalogue<1.1.0,>=0.0.7 in /usr/local/lib/python3.6/dist-packages (from spacy==2.2.3->-r requirements.txt (line 3)) (1.0.0)\n",
            "Requirement already satisfied: thinc<7.4.0,>=7.3.0 in /usr/local/lib/python3.6/dist-packages (from spacy==2.2.3->-r requirements.txt (line 3)) (7.3.1)\n",
            "Requirement already satisfied: cymem<2.1.0,>=2.0.2 in /usr/local/lib/python3.6/dist-packages (from spacy==2.2.3->-r requirements.txt (line 3)) (2.0.3)\n",
            "Requirement already satisfied: preshed<3.1.0,>=3.0.2 in /usr/local/lib/python3.6/dist-packages (from spacy==2.2.3->-r requirements.txt (line 3)) (3.0.2)\n",
            "Requirement already satisfied: blis<0.5.0,>=0.4.0 in /usr/local/lib/python3.6/dist-packages (from spacy==2.2.3->-r requirements.txt (line 3)) (0.4.1)\n",
            "Requirement already satisfied: wasabi<1.1.0,>=0.4.0 in /usr/local/lib/python3.6/dist-packages (from spacy==2.2.3->-r requirements.txt (line 3)) (0.8.0)\n",
            "Requirement already satisfied: matplotlib>=1.4.3 in /usr/local/lib/python3.6/dist-packages (from seaborn==0.9.0->-r requirements.txt (line 5)) (3.2.2)\n",
            "Requirement already satisfied: jupyter-client in /usr/local/lib/python3.6/dist-packages (from ipykernel->-r requirements.txt (line 7)) (5.3.5)\n",
            "Requirement already satisfied: traitlets>=4.1.0 in /usr/local/lib/python3.6/dist-packages (from ipykernel->-r requirements.txt (line 7)) (4.3.3)\n",
            "Requirement already satisfied: tornado>=4.0 in /usr/local/lib/python3.6/dist-packages (from ipykernel->-r requirements.txt (line 7)) (5.1.1)\n",
            "Requirement already satisfied: ipython>=4.0.0 in /usr/local/lib/python3.6/dist-packages (from ipykernel->-r requirements.txt (line 7)) (5.5.0)\n",
            "Requirement already satisfied: pytz>=2017.2 in /usr/local/lib/python3.6/dist-packages (from pandas->-r requirements.txt (line 9)) (2018.9)\n",
            "Requirement already satisfied: python-dateutil>=2.6.1 in /usr/local/lib/python3.6/dist-packages (from pandas->-r requirements.txt (line 9)) (2.8.1)\n",
            "Requirement already satisfied: boto in /usr/local/lib/python3.6/dist-packages (from smart-open>=1.8.1->gensim==3.8.1->-r requirements.txt (line 1)) (2.49.0)\n",
            "Requirement already satisfied: boto3 in /usr/local/lib/python3.6/dist-packages (from smart-open>=1.8.1->gensim==3.8.1->-r requirements.txt (line 1)) (1.14.63)\n",
            "Requirement already satisfied: MarkupSafe>=0.23 in /usr/local/lib/python3.6/dist-packages (from jinja2>=2.7.2->pyLDAvis==2.1.2->-r requirements.txt (line 2)) (1.1.1)\n",
            "Requirement already satisfied: atomicwrites>=1.0 in /usr/local/lib/python3.6/dist-packages (from pytest->pyLDAvis==2.1.2->-r requirements.txt (line 2)) (1.4.0)\n",
            "Requirement already satisfied: py>=1.5.0 in /usr/local/lib/python3.6/dist-packages (from pytest->pyLDAvis==2.1.2->-r requirements.txt (line 2)) (1.9.0)\n",
            "Requirement already satisfied: more-itertools>=4.0.0 in /usr/local/lib/python3.6/dist-packages (from pytest->pyLDAvis==2.1.2->-r requirements.txt (line 2)) (8.5.0)\n",
            "Requirement already satisfied: pluggy<0.8,>=0.5 in /usr/local/lib/python3.6/dist-packages (from pytest->pyLDAvis==2.1.2->-r requirements.txt (line 2)) (0.7.1)\n",
            "Requirement already satisfied: attrs>=17.4.0 in /usr/local/lib/python3.6/dist-packages (from pytest->pyLDAvis==2.1.2->-r requirements.txt (line 2)) (20.2.0)\n",
            "Requirement already satisfied: idna<3,>=2.5 in /usr/local/lib/python3.6/dist-packages (from requests<3.0.0,>=2.13.0->spacy==2.2.3->-r requirements.txt (line 3)) (2.10)\n",
            "Requirement already satisfied: urllib3!=1.25.0,!=1.25.1,<1.26,>=1.21.1 in /usr/local/lib/python3.6/dist-packages (from requests<3.0.0,>=2.13.0->spacy==2.2.3->-r requirements.txt (line 3)) (1.24.3)\n",
            "Requirement already satisfied: chardet<4,>=3.0.2 in /usr/local/lib/python3.6/dist-packages (from requests<3.0.0,>=2.13.0->spacy==2.2.3->-r requirements.txt (line 3)) (3.0.4)\n",
            "Requirement already satisfied: certifi>=2017.4.17 in /usr/local/lib/python3.6/dist-packages (from requests<3.0.0,>=2.13.0->spacy==2.2.3->-r requirements.txt (line 3)) (2020.6.20)\n",
            "Requirement already satisfied: importlib-metadata>=0.20; python_version < \"3.8\" in /usr/local/lib/python3.6/dist-packages (from catalogue<1.1.0,>=0.0.7->spacy==2.2.3->-r requirements.txt (line 3)) (1.7.0)\n",
            "Requirement already satisfied: tqdm<5.0.0,>=4.10.0 in /usr/local/lib/python3.6/dist-packages (from thinc<7.4.0,>=7.3.0->spacy==2.2.3->-r requirements.txt (line 3)) (4.41.1)\n",
            "Requirement already satisfied: cycler>=0.10 in /usr/local/lib/python3.6/dist-packages (from matplotlib>=1.4.3->seaborn==0.9.0->-r requirements.txt (line 5)) (0.10.0)\n",
            "Requirement already satisfied: pyparsing!=2.0.4,!=2.1.2,!=2.1.6,>=2.0.1 in /usr/local/lib/python3.6/dist-packages (from matplotlib>=1.4.3->seaborn==0.9.0->-r requirements.txt (line 5)) (2.4.7)\n",
            "Requirement already satisfied: kiwisolver>=1.0.1 in /usr/local/lib/python3.6/dist-packages (from matplotlib>=1.4.3->seaborn==0.9.0->-r requirements.txt (line 5)) (1.2.0)\n",
            "Requirement already satisfied: pyzmq>=13 in /usr/local/lib/python3.6/dist-packages (from jupyter-client->ipykernel->-r requirements.txt (line 7)) (19.0.2)\n",
            "Requirement already satisfied: jupyter-core>=4.6.0 in /usr/local/lib/python3.6/dist-packages (from jupyter-client->ipykernel->-r requirements.txt (line 7)) (4.6.3)\n",
            "Requirement already satisfied: decorator in /usr/local/lib/python3.6/dist-packages (from traitlets>=4.1.0->ipykernel->-r requirements.txt (line 7)) (4.4.2)\n",
            "Requirement already satisfied: ipython-genutils in /usr/local/lib/python3.6/dist-packages (from traitlets>=4.1.0->ipykernel->-r requirements.txt (line 7)) (0.2.0)\n",
            "Requirement already satisfied: simplegeneric>0.8 in /usr/local/lib/python3.6/dist-packages (from ipython>=4.0.0->ipykernel->-r requirements.txt (line 7)) (0.8.1)\n",
            "Requirement already satisfied: prompt-toolkit<2.0.0,>=1.0.4 in /usr/local/lib/python3.6/dist-packages (from ipython>=4.0.0->ipykernel->-r requirements.txt (line 7)) (1.0.18)\n",
            "Requirement already satisfied: pickleshare in /usr/local/lib/python3.6/dist-packages (from ipython>=4.0.0->ipykernel->-r requirements.txt (line 7)) (0.7.5)\n",
            "Requirement already satisfied: pygments in /usr/local/lib/python3.6/dist-packages (from ipython>=4.0.0->ipykernel->-r requirements.txt (line 7)) (2.6.1)\n",
            "Requirement already satisfied: pexpect; sys_platform != \"win32\" in /usr/local/lib/python3.6/dist-packages (from ipython>=4.0.0->ipykernel->-r requirements.txt (line 7)) (4.8.0)\n",
            "Requirement already satisfied: jmespath<1.0.0,>=0.7.1 in /usr/local/lib/python3.6/dist-packages (from boto3->smart-open>=1.8.1->gensim==3.8.1->-r requirements.txt (line 1)) (0.10.0)\n",
            "Requirement already satisfied: botocore<1.18.0,>=1.17.63 in /usr/local/lib/python3.6/dist-packages (from boto3->smart-open>=1.8.1->gensim==3.8.1->-r requirements.txt (line 1)) (1.17.63)\n",
            "Requirement already satisfied: s3transfer<0.4.0,>=0.3.0 in /usr/local/lib/python3.6/dist-packages (from boto3->smart-open>=1.8.1->gensim==3.8.1->-r requirements.txt (line 1)) (0.3.3)\n",
            "Requirement already satisfied: zipp>=0.5 in /usr/local/lib/python3.6/dist-packages (from importlib-metadata>=0.20; python_version < \"3.8\"->catalogue<1.1.0,>=0.0.7->spacy==2.2.3->-r requirements.txt (line 3)) (3.1.0)\n",
            "Requirement already satisfied: wcwidth in /usr/local/lib/python3.6/dist-packages (from prompt-toolkit<2.0.0,>=1.0.4->ipython>=4.0.0->ipykernel->-r requirements.txt (line 7)) (0.2.5)\n",
            "Requirement already satisfied: ptyprocess>=0.5 in /usr/local/lib/python3.6/dist-packages (from pexpect; sys_platform != \"win32\"->ipython>=4.0.0->ipykernel->-r requirements.txt (line 7)) (0.6.0)\n",
            "Requirement already satisfied: docutils<0.16,>=0.10 in /usr/local/lib/python3.6/dist-packages (from botocore<1.18.0,>=1.17.63->boto3->smart-open>=1.8.1->gensim==3.8.1->-r requirements.txt (line 1)) (0.15.2)\n"
          ],
          "name": "stdout"
        }
      ]
    },
    {
      "cell_type": "code",
      "metadata": {
        "id": "dXil28Gif-pj",
        "outputId": "ae26ae8b-2a41-486a-b32c-a3b4775cd4cc",
        "colab": {
          "base_uri": "https://localhost:8080/",
          "height": 441
        }
      },
      "source": [
        "!python -m spacy download en_core_web_md  # Can do lg, takes awhile\n",
        "# Also on Colab, need to restart runtime after this step!"
      ],
      "execution_count": 173,
      "outputs": [
        {
          "output_type": "stream",
          "text": [
            "Requirement already satisfied: en_core_web_md==2.2.5 from https://github.com/explosion/spacy-models/releases/download/en_core_web_md-2.2.5/en_core_web_md-2.2.5.tar.gz#egg=en_core_web_md==2.2.5 in /usr/local/lib/python3.6/dist-packages (2.2.5)\n",
            "Requirement already satisfied: spacy>=2.2.2 in /usr/local/lib/python3.6/dist-packages (from en_core_web_md==2.2.5) (2.2.3)\n",
            "Requirement already satisfied: cymem<2.1.0,>=2.0.2 in /usr/local/lib/python3.6/dist-packages (from spacy>=2.2.2->en_core_web_md==2.2.5) (2.0.3)\n",
            "Requirement already satisfied: catalogue<1.1.0,>=0.0.7 in /usr/local/lib/python3.6/dist-packages (from spacy>=2.2.2->en_core_web_md==2.2.5) (1.0.0)\n",
            "Requirement already satisfied: thinc<7.4.0,>=7.3.0 in /usr/local/lib/python3.6/dist-packages (from spacy>=2.2.2->en_core_web_md==2.2.5) (7.3.1)\n",
            "Requirement already satisfied: requests<3.0.0,>=2.13.0 in /usr/local/lib/python3.6/dist-packages (from spacy>=2.2.2->en_core_web_md==2.2.5) (2.23.0)\n",
            "Requirement already satisfied: wasabi<1.1.0,>=0.4.0 in /usr/local/lib/python3.6/dist-packages (from spacy>=2.2.2->en_core_web_md==2.2.5) (0.8.0)\n",
            "Requirement already satisfied: numpy>=1.15.0 in /usr/local/lib/python3.6/dist-packages (from spacy>=2.2.2->en_core_web_md==2.2.5) (1.18.5)\n",
            "Requirement already satisfied: srsly<1.1.0,>=0.1.0 in /usr/local/lib/python3.6/dist-packages (from spacy>=2.2.2->en_core_web_md==2.2.5) (1.0.2)\n",
            "Requirement already satisfied: setuptools in /usr/local/lib/python3.6/dist-packages (from spacy>=2.2.2->en_core_web_md==2.2.5) (50.3.0)\n",
            "Requirement already satisfied: blis<0.5.0,>=0.4.0 in /usr/local/lib/python3.6/dist-packages (from spacy>=2.2.2->en_core_web_md==2.2.5) (0.4.1)\n",
            "Requirement already satisfied: murmurhash<1.1.0,>=0.28.0 in /usr/local/lib/python3.6/dist-packages (from spacy>=2.2.2->en_core_web_md==2.2.5) (1.0.2)\n",
            "Requirement already satisfied: preshed<3.1.0,>=3.0.2 in /usr/local/lib/python3.6/dist-packages (from spacy>=2.2.2->en_core_web_md==2.2.5) (3.0.2)\n",
            "Requirement already satisfied: plac<1.2.0,>=0.9.6 in /usr/local/lib/python3.6/dist-packages (from spacy>=2.2.2->en_core_web_md==2.2.5) (1.1.3)\n",
            "Requirement already satisfied: importlib-metadata>=0.20; python_version < \"3.8\" in /usr/local/lib/python3.6/dist-packages (from catalogue<1.1.0,>=0.0.7->spacy>=2.2.2->en_core_web_md==2.2.5) (1.7.0)\n",
            "Requirement already satisfied: tqdm<5.0.0,>=4.10.0 in /usr/local/lib/python3.6/dist-packages (from thinc<7.4.0,>=7.3.0->spacy>=2.2.2->en_core_web_md==2.2.5) (4.41.1)\n",
            "Requirement already satisfied: certifi>=2017.4.17 in /usr/local/lib/python3.6/dist-packages (from requests<3.0.0,>=2.13.0->spacy>=2.2.2->en_core_web_md==2.2.5) (2020.6.20)\n",
            "Requirement already satisfied: idna<3,>=2.5 in /usr/local/lib/python3.6/dist-packages (from requests<3.0.0,>=2.13.0->spacy>=2.2.2->en_core_web_md==2.2.5) (2.10)\n",
            "Requirement already satisfied: urllib3!=1.25.0,!=1.25.1,<1.26,>=1.21.1 in /usr/local/lib/python3.6/dist-packages (from requests<3.0.0,>=2.13.0->spacy>=2.2.2->en_core_web_md==2.2.5) (1.24.3)\n",
            "Requirement already satisfied: chardet<4,>=3.0.2 in /usr/local/lib/python3.6/dist-packages (from requests<3.0.0,>=2.13.0->spacy>=2.2.2->en_core_web_md==2.2.5) (3.0.4)\n",
            "Requirement already satisfied: zipp>=0.5 in /usr/local/lib/python3.6/dist-packages (from importlib-metadata>=0.20; python_version < \"3.8\"->catalogue<1.1.0,>=0.0.7->spacy>=2.2.2->en_core_web_md==2.2.5) (3.1.0)\n",
            "\u001b[38;5;2m✔ Download and installation successful\u001b[0m\n",
            "You can now load the model via spacy.load('en_core_web_md')\n"
          ],
          "name": "stdout"
        }
      ]
    },
    {
      "cell_type": "code",
      "metadata": {
        "id": "dNtoYexvkMl-",
        "outputId": "9aa33640-754b-4d18-c85b-0bf2c905fd8b",
        "colab": {
          "base_uri": "https://localhost:8080/",
          "height": 441
        }
      },
      "source": [
        "!python -m spacy download en_core_web_lg"
      ],
      "execution_count": 174,
      "outputs": [
        {
          "output_type": "stream",
          "text": [
            "Requirement already satisfied: en_core_web_lg==2.2.5 from https://github.com/explosion/spacy-models/releases/download/en_core_web_lg-2.2.5/en_core_web_lg-2.2.5.tar.gz#egg=en_core_web_lg==2.2.5 in /usr/local/lib/python3.6/dist-packages (2.2.5)\n",
            "Requirement already satisfied: spacy>=2.2.2 in /usr/local/lib/python3.6/dist-packages (from en_core_web_lg==2.2.5) (2.2.3)\n",
            "Requirement already satisfied: blis<0.5.0,>=0.4.0 in /usr/local/lib/python3.6/dist-packages (from spacy>=2.2.2->en_core_web_lg==2.2.5) (0.4.1)\n",
            "Requirement already satisfied: srsly<1.1.0,>=0.1.0 in /usr/local/lib/python3.6/dist-packages (from spacy>=2.2.2->en_core_web_lg==2.2.5) (1.0.2)\n",
            "Requirement already satisfied: wasabi<1.1.0,>=0.4.0 in /usr/local/lib/python3.6/dist-packages (from spacy>=2.2.2->en_core_web_lg==2.2.5) (0.8.0)\n",
            "Requirement already satisfied: requests<3.0.0,>=2.13.0 in /usr/local/lib/python3.6/dist-packages (from spacy>=2.2.2->en_core_web_lg==2.2.5) (2.23.0)\n",
            "Requirement already satisfied: cymem<2.1.0,>=2.0.2 in /usr/local/lib/python3.6/dist-packages (from spacy>=2.2.2->en_core_web_lg==2.2.5) (2.0.3)\n",
            "Requirement already satisfied: plac<1.2.0,>=0.9.6 in /usr/local/lib/python3.6/dist-packages (from spacy>=2.2.2->en_core_web_lg==2.2.5) (1.1.3)\n",
            "Requirement already satisfied: numpy>=1.15.0 in /usr/local/lib/python3.6/dist-packages (from spacy>=2.2.2->en_core_web_lg==2.2.5) (1.18.5)\n",
            "Requirement already satisfied: preshed<3.1.0,>=3.0.2 in /usr/local/lib/python3.6/dist-packages (from spacy>=2.2.2->en_core_web_lg==2.2.5) (3.0.2)\n",
            "Requirement already satisfied: thinc<7.4.0,>=7.3.0 in /usr/local/lib/python3.6/dist-packages (from spacy>=2.2.2->en_core_web_lg==2.2.5) (7.3.1)\n",
            "Requirement already satisfied: murmurhash<1.1.0,>=0.28.0 in /usr/local/lib/python3.6/dist-packages (from spacy>=2.2.2->en_core_web_lg==2.2.5) (1.0.2)\n",
            "Requirement already satisfied: catalogue<1.1.0,>=0.0.7 in /usr/local/lib/python3.6/dist-packages (from spacy>=2.2.2->en_core_web_lg==2.2.5) (1.0.0)\n",
            "Requirement already satisfied: setuptools in /usr/local/lib/python3.6/dist-packages (from spacy>=2.2.2->en_core_web_lg==2.2.5) (50.3.0)\n",
            "Requirement already satisfied: chardet<4,>=3.0.2 in /usr/local/lib/python3.6/dist-packages (from requests<3.0.0,>=2.13.0->spacy>=2.2.2->en_core_web_lg==2.2.5) (3.0.4)\n",
            "Requirement already satisfied: certifi>=2017.4.17 in /usr/local/lib/python3.6/dist-packages (from requests<3.0.0,>=2.13.0->spacy>=2.2.2->en_core_web_lg==2.2.5) (2020.6.20)\n",
            "Requirement already satisfied: idna<3,>=2.5 in /usr/local/lib/python3.6/dist-packages (from requests<3.0.0,>=2.13.0->spacy>=2.2.2->en_core_web_lg==2.2.5) (2.10)\n",
            "Requirement already satisfied: urllib3!=1.25.0,!=1.25.1,<1.26,>=1.21.1 in /usr/local/lib/python3.6/dist-packages (from requests<3.0.0,>=2.13.0->spacy>=2.2.2->en_core_web_lg==2.2.5) (1.24.3)\n",
            "Requirement already satisfied: tqdm<5.0.0,>=4.10.0 in /usr/local/lib/python3.6/dist-packages (from thinc<7.4.0,>=7.3.0->spacy>=2.2.2->en_core_web_lg==2.2.5) (4.41.1)\n",
            "Requirement already satisfied: importlib-metadata>=0.20; python_version < \"3.8\" in /usr/local/lib/python3.6/dist-packages (from catalogue<1.1.0,>=0.0.7->spacy>=2.2.2->en_core_web_lg==2.2.5) (1.7.0)\n",
            "Requirement already satisfied: zipp>=0.5 in /usr/local/lib/python3.6/dist-packages (from importlib-metadata>=0.20; python_version < \"3.8\"->catalogue<1.1.0,>=0.0.7->spacy>=2.2.2->en_core_web_lg==2.2.5) (3.1.0)\n",
            "\u001b[38;5;2m✔ Download and installation successful\u001b[0m\n",
            "You can now load the model via spacy.load('en_core_web_lg')\n"
          ],
          "name": "stdout"
        }
      ]
    },
    {
      "cell_type": "code",
      "metadata": {
        "id": "4kbXn8BVklJ_",
        "outputId": "b889e27b-ba84-48e1-d4de-7c1519d4fd1f",
        "colab": {
          "base_uri": "https://localhost:8080/",
          "height": 441
        }
      },
      "source": [
        "!python -m spacy download en_core_web_sm"
      ],
      "execution_count": 175,
      "outputs": [
        {
          "output_type": "stream",
          "text": [
            "Requirement already satisfied: en_core_web_sm==2.2.5 from https://github.com/explosion/spacy-models/releases/download/en_core_web_sm-2.2.5/en_core_web_sm-2.2.5.tar.gz#egg=en_core_web_sm==2.2.5 in /usr/local/lib/python3.6/dist-packages (2.2.5)\n",
            "Requirement already satisfied: spacy>=2.2.2 in /usr/local/lib/python3.6/dist-packages (from en_core_web_sm==2.2.5) (2.2.3)\n",
            "Requirement already satisfied: murmurhash<1.1.0,>=0.28.0 in /usr/local/lib/python3.6/dist-packages (from spacy>=2.2.2->en_core_web_sm==2.2.5) (1.0.2)\n",
            "Requirement already satisfied: numpy>=1.15.0 in /usr/local/lib/python3.6/dist-packages (from spacy>=2.2.2->en_core_web_sm==2.2.5) (1.18.5)\n",
            "Requirement already satisfied: thinc<7.4.0,>=7.3.0 in /usr/local/lib/python3.6/dist-packages (from spacy>=2.2.2->en_core_web_sm==2.2.5) (7.3.1)\n",
            "Requirement already satisfied: catalogue<1.1.0,>=0.0.7 in /usr/local/lib/python3.6/dist-packages (from spacy>=2.2.2->en_core_web_sm==2.2.5) (1.0.0)\n",
            "Requirement already satisfied: blis<0.5.0,>=0.4.0 in /usr/local/lib/python3.6/dist-packages (from spacy>=2.2.2->en_core_web_sm==2.2.5) (0.4.1)\n",
            "Requirement already satisfied: setuptools in /usr/local/lib/python3.6/dist-packages (from spacy>=2.2.2->en_core_web_sm==2.2.5) (50.3.0)\n",
            "Requirement already satisfied: preshed<3.1.0,>=3.0.2 in /usr/local/lib/python3.6/dist-packages (from spacy>=2.2.2->en_core_web_sm==2.2.5) (3.0.2)\n",
            "Requirement already satisfied: plac<1.2.0,>=0.9.6 in /usr/local/lib/python3.6/dist-packages (from spacy>=2.2.2->en_core_web_sm==2.2.5) (1.1.3)\n",
            "Requirement already satisfied: srsly<1.1.0,>=0.1.0 in /usr/local/lib/python3.6/dist-packages (from spacy>=2.2.2->en_core_web_sm==2.2.5) (1.0.2)\n",
            "Requirement already satisfied: requests<3.0.0,>=2.13.0 in /usr/local/lib/python3.6/dist-packages (from spacy>=2.2.2->en_core_web_sm==2.2.5) (2.23.0)\n",
            "Requirement already satisfied: cymem<2.1.0,>=2.0.2 in /usr/local/lib/python3.6/dist-packages (from spacy>=2.2.2->en_core_web_sm==2.2.5) (2.0.3)\n",
            "Requirement already satisfied: wasabi<1.1.0,>=0.4.0 in /usr/local/lib/python3.6/dist-packages (from spacy>=2.2.2->en_core_web_sm==2.2.5) (0.8.0)\n",
            "Requirement already satisfied: tqdm<5.0.0,>=4.10.0 in /usr/local/lib/python3.6/dist-packages (from thinc<7.4.0,>=7.3.0->spacy>=2.2.2->en_core_web_sm==2.2.5) (4.41.1)\n",
            "Requirement already satisfied: importlib-metadata>=0.20; python_version < \"3.8\" in /usr/local/lib/python3.6/dist-packages (from catalogue<1.1.0,>=0.0.7->spacy>=2.2.2->en_core_web_sm==2.2.5) (1.7.0)\n",
            "Requirement already satisfied: chardet<4,>=3.0.2 in /usr/local/lib/python3.6/dist-packages (from requests<3.0.0,>=2.13.0->spacy>=2.2.2->en_core_web_sm==2.2.5) (3.0.4)\n",
            "Requirement already satisfied: idna<3,>=2.5 in /usr/local/lib/python3.6/dist-packages (from requests<3.0.0,>=2.13.0->spacy>=2.2.2->en_core_web_sm==2.2.5) (2.10)\n",
            "Requirement already satisfied: certifi>=2017.4.17 in /usr/local/lib/python3.6/dist-packages (from requests<3.0.0,>=2.13.0->spacy>=2.2.2->en_core_web_sm==2.2.5) (2020.6.20)\n",
            "Requirement already satisfied: urllib3!=1.25.0,!=1.25.1,<1.26,>=1.21.1 in /usr/local/lib/python3.6/dist-packages (from requests<3.0.0,>=2.13.0->spacy>=2.2.2->en_core_web_sm==2.2.5) (1.24.3)\n",
            "Requirement already satisfied: zipp>=0.5 in /usr/local/lib/python3.6/dist-packages (from importlib-metadata>=0.20; python_version < \"3.8\"->catalogue<1.1.0,>=0.0.7->spacy>=2.2.2->en_core_web_sm==2.2.5) (3.1.0)\n",
            "\u001b[38;5;2m✔ Download and installation successful\u001b[0m\n",
            "You can now load the model via spacy.load('en_core_web_sm')\n"
          ],
          "name": "stdout"
        }
      ]
    },
    {
      "cell_type": "code",
      "metadata": {
        "id": "5AFkjPISPeIv",
        "outputId": "b20a4c4f-338b-4cc3-98e8-0d9f00ab0f33",
        "colab": {
          "base_uri": "https://localhost:8080/",
          "height": 320
        }
      },
      "source": [
        "from IPython.display import YouTubeVideo\n",
        "\n",
        "YouTubeVideo('Jml7NVYm8cs')"
      ],
      "execution_count": 176,
      "outputs": [
        {
          "output_type": "execute_result",
          "data": {
            "text/html": [
              "\n",
              "        <iframe\n",
              "            width=\"400\"\n",
              "            height=\"300\"\n",
              "            src=\"https://www.youtube.com/embed/Jml7NVYm8cs\"\n",
              "            frameborder=\"0\"\n",
              "            allowfullscreen\n",
              "        ></iframe>\n",
              "        "
            ],
            "text/plain": [
              "<IPython.lib.display.YouTubeVideo at 0x7f14ac118d30>"
            ],
            "image/jpeg": "[encoded data removed]"
          },
          "metadata": {
            "tags": []
          },
          "execution_count": 176
        }
      ]
    },
    {
      "cell_type": "code",
      "metadata": {
        "id": "PgOiVAV3PeIy",
        "outputId": "dde024b5-bbe9-45cc-c098-3fcee7650335",
        "colab": {
          "base_uri": "https://localhost:8080/",
          "height": 35
        }
      },
      "source": [
        "%pwd"
      ],
      "execution_count": 177,
      "outputs": [
        {
          "output_type": "execute_result",
          "data": {
            "application/vnd.google.colaboratory.intrinsic+json": {
              "type": "string"
            },
            "text/plain": [
              "'/content'"
            ]
          },
          "metadata": {
            "tags": []
          },
          "execution_count": 177
        }
      ]
    },
    {
      "cell_type": "code",
      "metadata": {
        "id": "d3HcD8sMPeI3"
      },
      "source": [
        "import numpy as np\n",
        "import pandas as pd\n",
        "import matplotlib.pyplot as plt\n",
        "import seaborn as sns\n",
        "from collections import Counter\n",
        "import re\n",
        "import spacy\n",
        "from spacy.tokenizer import Tokenizer\n",
        "from nltk.stem import PorterStemmer\n",
        "import squarify"
      ],
      "execution_count": 178,
      "outputs": []
    },
    {
      "cell_type": "code",
      "metadata": {
        "id": "ZidNAzJeThtL"
      },
      "source": [
        "# create a fuction which takes a corpus of document and returns and dataframe of word counts for us to analyze.\n",
        "def count(docs):\n",
        "\n",
        "        word_counts = Counter()\n",
        "        appears_in = Counter()\n",
        "        \n",
        "        total_docs = len(docs)\n",
        "\n",
        "        for doc in docs:\n",
        "            word_counts.update(doc)\n",
        "            appears_in.update(set(doc))\n",
        "\n",
        "        temp = zip(word_counts.keys(), word_counts.values())\n",
        "        \n",
        "        wc = pd.DataFrame(temp, columns = ['word', 'count'])\n",
        "\n",
        "        wc['rank'] = wc['count'].rank(method='first', ascending=False)\n",
        "        total = wc['count'].sum()\n",
        "\n",
        "        wc['pct_total'] = wc['count'].apply(lambda x: x / total)\n",
        "        \n",
        "        wc = wc.sort_values(by='rank')\n",
        "        wc['cul_pct_total'] = wc['pct_total'].cumsum()\n",
        "\n",
        "        t2 = zip(appears_in.keys(), appears_in.values())\n",
        "        ac = pd.DataFrame(t2, columns=['word', 'appears_in'])\n",
        "        wc = ac.merge(wc, on='word')\n",
        "\n",
        "        wc['appears_in_pct'] = wc['appears_in'].apply(lambda x: x / total_docs)\n",
        "        \n",
        "        return wc.sort_values(by='rank')"
      ],
      "execution_count": 138,
      "outputs": []
    },
    {
      "cell_type": "code",
      "metadata": {
        "id": "y2P3ubH472FN"
      },
      "source": [
        "import spacy\n",
        "from spacy.tokenizer import Tokenizer\n",
        "from nltk.stem import PorterStemmer\n",
        "\n",
        "# Load the pre-trained statistical model for English\n",
        "import en_core_web_lg\n",
        "nlp = en_core_web_lg.load()\n",
        "\n",
        "# Tokenizer\n",
        "tokenizer = Tokenizer(nlp.vocab)"
      ],
      "execution_count": 179,
      "outputs": []
    },
    {
      "cell_type": "code",
      "metadata": {
        "id": "NahJKnZaUcxd"
      },
      "source": [
        "# setting up natural language processor and tokenizer\n",
        "#nlp = spacy.load('en_core_web_lg')"
      ],
      "execution_count": null,
      "outputs": []
    },
    {
      "cell_type": "code",
      "metadata": {
        "id": "CEGB66F0m1m3"
      },
      "source": [
        "# setting up tokenizer\n",
        "#tokenizer = Tokenizer(nlp.vocab)"
      ],
      "execution_count": null,
      "outputs": []
    },
    {
      "cell_type": "code",
      "metadata": {
        "id": "fyNOoDmbaIO4"
      },
      "source": [
        "# creates stop words\n",
        "STOPWORDS = nlp.Defaults.stop_words"
      ],
      "execution_count": 180,
      "outputs": []
    },
    {
      "cell_type": "code",
      "metadata": {
        "id": "kdhBCPLmZ8Pw"
      },
      "source": [
        "# creates a function for removing stop words\n",
        "def rm_stopwords(tkns):\n",
        "    '''\n",
        "    a function for removing stop words from a list of tokens\n",
        "    '''\n",
        "    tok_list = []\n",
        "    for tok in tkns:\n",
        "        if str(tok) not in STOPWORDS.union(' '):\n",
        "            tok_list.append(tok)\n",
        "            \n",
        "    return(tok_list)"
      ],
      "execution_count": 181,
      "outputs": []
    },
    {
      "cell_type": "code",
      "metadata": {
        "id": "B-nAcD3tbPNX",
        "outputId": "f21f3f19-d9b8-48ea-eca8-b319e31af0a5",
        "colab": {
          "base_uri": "https://localhost:8080/",
          "height": 199
        }
      },
      "source": [
        "import pandas as pd\n",
        "\n",
        "url = \"https://raw.githubusercontent.com/LambdaSchool/DS-Unit-4-Sprint-1-NLP/main/module1-text-data/data/yelp_coffeeshop_review_data.csv\"\n",
        "\n",
        "shops = pd.read_csv(url)\n",
        "shops.head()"
      ],
      "execution_count": 182,
      "outputs": [
        {
          "output_type": "execute_result",
          "data": {
            "text/html": [
              "<div>\n",
              "<style scoped>\n",
              "    .dataframe tbody tr th:only-of-type {\n",
              "        vertical-align: middle;\n",
              "    }\n",
              "\n",
              "    .dataframe tbody tr th {\n",
              "        vertical-align: top;\n",
              "    }\n",
              "\n",
              "    .dataframe thead th {\n",
              "        text-align: right;\n",
              "    }\n",
              "</style>\n",
              "<table border=\"1\" class=\"dataframe\">\n",
              "  <thead>\n",
              "    <tr style=\"text-align: right;\">\n",
              "      <th></th>\n",
              "      <th>coffee_shop_name</th>\n",
              "      <th>full_review_text</th>\n",
              "      <th>star_rating</th>\n",
              "    </tr>\n",
              "  </thead>\n",
              "  <tbody>\n",
              "    <tr>\n",
              "      <th>0</th>\n",
              "      <td>The Factory - Cafe With a Soul</td>\n",
              "      <td>11/25/2016 1 check-in Love love loved the atm...</td>\n",
              "      <td>5.0 star rating</td>\n",
              "    </tr>\n",
              "    <tr>\n",
              "      <th>1</th>\n",
              "      <td>The Factory - Cafe With a Soul</td>\n",
              "      <td>12/2/2016 Listed in Date Night: Austin, Ambia...</td>\n",
              "      <td>4.0 star rating</td>\n",
              "    </tr>\n",
              "    <tr>\n",
              "      <th>2</th>\n",
              "      <td>The Factory - Cafe With a Soul</td>\n",
              "      <td>11/30/2016 1 check-in Listed in Brunch Spots ...</td>\n",
              "      <td>4.0 star rating</td>\n",
              "    </tr>\n",
              "    <tr>\n",
              "      <th>3</th>\n",
              "      <td>The Factory - Cafe With a Soul</td>\n",
              "      <td>11/25/2016 Very cool decor! Good drinks Nice ...</td>\n",
              "      <td>2.0 star rating</td>\n",
              "    </tr>\n",
              "    <tr>\n",
              "      <th>4</th>\n",
              "      <td>The Factory - Cafe With a Soul</td>\n",
              "      <td>12/3/2016 1 check-in They are located within ...</td>\n",
              "      <td>4.0 star rating</td>\n",
              "    </tr>\n",
              "  </tbody>\n",
              "</table>\n",
              "</div>"
            ],
            "text/plain": [
              "                  coffee_shop_name  ...        star_rating\n",
              "0  The Factory - Cafe With a Soul   ...   5.0 star rating \n",
              "1  The Factory - Cafe With a Soul   ...   4.0 star rating \n",
              "2  The Factory - Cafe With a Soul   ...   4.0 star rating \n",
              "3  The Factory - Cafe With a Soul   ...   2.0 star rating \n",
              "4  The Factory - Cafe With a Soul   ...   4.0 star rating \n",
              "\n",
              "[5 rows x 3 columns]"
            ]
          },
          "metadata": {
            "tags": []
          },
          "execution_count": 182
        }
      ]
    },
    {
      "cell_type": "code",
      "metadata": {
        "id": "ri94EppCakxV"
      },
      "source": [
        "# copies dataframe to new df\n",
        "df = shops.copy()"
      ],
      "execution_count": 183,
      "outputs": []
    },
    {
      "cell_type": "code",
      "metadata": {
        "id": "BJjpAfvebe85"
      },
      "source": [
        "# renames columns for ease of use later\n",
        "df.columns=['shop', 'text', 'rating']"
      ],
      "execution_count": 184,
      "outputs": []
    },
    {
      "cell_type": "code",
      "metadata": {
        "id": "3GyLWTQ5bjmg"
      },
      "source": [
        "# changes rating column to have only the number (still as a string)\n",
        "df['rating'] = df['rating'].str[1:4]"
      ],
      "execution_count": 185,
      "outputs": []
    },
    {
      "cell_type": "code",
      "metadata": {
        "id": "S5Vs_xYEbyWy"
      },
      "source": [
        "# converts number string to float, then float to int\n",
        "df['rating'] = df['rating'].astype(float)\n",
        "df['rating'] = df['rating'].astype(int)"
      ],
      "execution_count": 186,
      "outputs": []
    },
    {
      "cell_type": "code",
      "metadata": {
        "id": "oTMksC_ab296"
      },
      "source": [
        "# creates a date column\n",
        "df['date'] = df['text'].str.split(' ').apply(lambda x: x[1])"
      ],
      "execution_count": 187,
      "outputs": []
    },
    {
      "cell_type": "code",
      "metadata": {
        "id": "eEToGkK1b7wI"
      },
      "source": [
        "# converts data column to datetime dtype\n",
        "df['date'] = df['date'].apply(pd.to_datetime)"
      ],
      "execution_count": 188,
      "outputs": []
    },
    {
      "cell_type": "code",
      "metadata": {
        "id": "-RLysDa4cAjv"
      },
      "source": [
        "# removes punctuation with regex given in lecture\n",
        "df['text'] = df['text'].apply(lambda x: re.sub(r'[^a-zA-Z ^0-9]', '', x))"
      ],
      "execution_count": 189,
      "outputs": []
    },
    {
      "cell_type": "code",
      "metadata": {
        "id": "iIPulDlycI-b"
      },
      "source": [
        "# changes text to be lowercase\n",
        "df['text'] = df['text'].apply(lambda x: x.lower())"
      ],
      "execution_count": 190,
      "outputs": []
    },
    {
      "cell_type": "code",
      "metadata": {
        "id": "Qy_czCLUcT2U"
      },
      "source": [
        "# creates a new column with tokenized data using lecture function\n",
        "df['tokens'] = df['text'].apply(tokenizer)\n",
        "\n",
        "# takes every token past the date token\n",
        "df['tokens'] = df['tokens'].apply(lambda x: x[2:])\n",
        "\n",
        "df['tokens'] = df['tokens'].apply(lambda x: rm_stopwords(x))\n",
        "\n",
        "# converts tokens to list of lemmas\n",
        "df['tokens'] = df['tokens'].apply(lambda x: \n",
        "                [token.lemma_ for token in x])\n",
        "\n",
        "# creates a counter for the tokens\n",
        "df['counter'] = df['tokens'].apply(Counter)"
      ],
      "execution_count": 191,
      "outputs": []
    },
    {
      "cell_type": "code",
      "metadata": {
        "id": "SALY5jIhclnB",
        "outputId": "2cd2984b-716b-47d2-8540-d7eb95ea72da",
        "colab": {
          "base_uri": "https://localhost:8080/",
          "height": 284
        }
      },
      "source": [
        "df.head()"
      ],
      "execution_count": 192,
      "outputs": [
        {
          "output_type": "execute_result",
          "data": {
            "text/html": [
              "<div>\n",
              "<style scoped>\n",
              "    .dataframe tbody tr th:only-of-type {\n",
              "        vertical-align: middle;\n",
              "    }\n",
              "\n",
              "    .dataframe tbody tr th {\n",
              "        vertical-align: top;\n",
              "    }\n",
              "\n",
              "    .dataframe thead th {\n",
              "        text-align: right;\n",
              "    }\n",
              "</style>\n",
              "<table border=\"1\" class=\"dataframe\">\n",
              "  <thead>\n",
              "    <tr style=\"text-align: right;\">\n",
              "      <th></th>\n",
              "      <th>shop</th>\n",
              "      <th>text</th>\n",
              "      <th>rating</th>\n",
              "      <th>date</th>\n",
              "      <th>tokens</th>\n",
              "      <th>counter</th>\n",
              "    </tr>\n",
              "  </thead>\n",
              "  <tbody>\n",
              "    <tr>\n",
              "      <th>0</th>\n",
              "      <td>The Factory - Cafe With a Soul</td>\n",
              "      <td>11252016 1 checkin love love loved the atmosp...</td>\n",
              "      <td>5</td>\n",
              "      <td>2016-11-25</td>\n",
              "      <td>[1, checkin, love, love, love, atmosphere, cor...</td>\n",
              "      <td>{'1': 1, 'checkin': 1, 'love': 3, 'atmosphere'...</td>\n",
              "    </tr>\n",
              "    <tr>\n",
              "      <th>1</th>\n",
              "      <td>The Factory - Cafe With a Soul</td>\n",
              "      <td>1222016 listed in date night austin ambiance ...</td>\n",
              "      <td>4</td>\n",
              "      <td>2016-12-02</td>\n",
              "      <td>[list, date, night, austin, ambiance, austin, ...</td>\n",
              "      <td>{'list': 1, 'date': 1, 'night': 1, 'austin': 2...</td>\n",
              "    </tr>\n",
              "    <tr>\n",
              "      <th>2</th>\n",
              "      <td>The Factory - Cafe With a Soul</td>\n",
              "      <td>11302016 1 checkin listed in brunch spots i l...</td>\n",
              "      <td>4</td>\n",
              "      <td>2016-11-30</td>\n",
              "      <td>[1, checkin, list, brunch, spot, love, eclecti...</td>\n",
              "      <td>{'1': 1, 'checkin': 1, 'list': 1, 'brunch': 2,...</td>\n",
              "    </tr>\n",
              "    <tr>\n",
              "      <th>3</th>\n",
              "      <td>The Factory - Cafe With a Soul</td>\n",
              "      <td>11252016 very cool decor good drinks nice sea...</td>\n",
              "      <td>2</td>\n",
              "      <td>2016-11-25</td>\n",
              "      <td>[cool, decor, good, drink, nice, seat, overpri...</td>\n",
              "      <td>{'cool': 1, 'decor': 1, 'good': 1, 'drink': 1,...</td>\n",
              "    </tr>\n",
              "    <tr>\n",
              "      <th>4</th>\n",
              "      <td>The Factory - Cafe With a Soul</td>\n",
              "      <td>1232016 1 checkin they are located within the...</td>\n",
              "      <td>4</td>\n",
              "      <td>2016-12-03</td>\n",
              "      <td>[1, checkin, locate, northcross, mall, shop, c...</td>\n",
              "      <td>{'1': 1, 'checkin': 1, 'locate': 1, 'northcros...</td>\n",
              "    </tr>\n",
              "  </tbody>\n",
              "</table>\n",
              "</div>"
            ],
            "text/plain": [
              "                              shop  ...                                            counter\n",
              "0  The Factory - Cafe With a Soul   ...  {'1': 1, 'checkin': 1, 'love': 3, 'atmosphere'...\n",
              "1  The Factory - Cafe With a Soul   ...  {'list': 1, 'date': 1, 'night': 1, 'austin': 2...\n",
              "2  The Factory - Cafe With a Soul   ...  {'1': 1, 'checkin': 1, 'list': 1, 'brunch': 2,...\n",
              "3  The Factory - Cafe With a Soul   ...  {'cool': 1, 'decor': 1, 'good': 1, 'drink': 1,...\n",
              "4  The Factory - Cafe With a Soul   ...  {'1': 1, 'checkin': 1, 'locate': 1, 'northcros...\n",
              "\n",
              "[5 rows x 6 columns]"
            ]
          },
          "metadata": {
            "tags": []
          },
          "execution_count": 192
        }
      ]
    },
    {
      "cell_type": "markdown",
      "metadata": {
        "id": "7qpT-DuTPeI5"
      },
      "source": [
        "## How do we want to analyze these coffee shop tokens? \n",
        "\n",
        "- Overall Word / Token Count\n",
        "- View Counts by Rating \n",
        "- *Hint:* a 'bad' coffee shops has a rating betweeen 1 & 3 based on the distribution of ratings. A 'good' coffee shop is a 4 or 5. "
      ]
    },
    {
      "cell_type": "code",
      "metadata": {
        "id": "2PJA62dbPeI5"
      },
      "source": [
        "# sums the rows into one counter\n",
        "wordCount = df['counter'].sum()"
      ],
      "execution_count": 193,
      "outputs": []
    },
    {
      "cell_type": "code",
      "metadata": {
        "id": "6URBjZS3cqZv"
      },
      "source": [
        "# creates dataframes for good and bad ratings\n",
        "dfGood = df[df['rating'] > 3]\n",
        "dfBad = df[df['rating'] < 4]\n",
        "\n",
        "# makes sure the size of the new dataframes add up to the size of the original dataframe\n",
        "assert len(df) == len(dfGood) + len(dfBad)"
      ],
      "execution_count": 194,
      "outputs": []
    },
    {
      "cell_type": "code",
      "metadata": {
        "id": "Cl73m6cqcuGf"
      },
      "source": [
        "# creates counters for good/bad reivews\n",
        "wordCountGood = dfGood['counter'].sum()\n",
        "wordCountBad = dfBad['counter'].sum()"
      ],
      "execution_count": 195,
      "outputs": []
    },
    {
      "cell_type": "code",
      "metadata": {
        "id": "SFQn7GkHcytK",
        "outputId": "46640fe1-b163-453a-b7a1-cbd67b14f22a",
        "colab": {
          "base_uri": "https://localhost:8080/",
          "height": 351
        }
      },
      "source": [
        "# looks at top 10 words from all reviews using lecture function\n",
        "# drops empty word\n",
        "wordsDF = count(df['counter'])\n",
        "wordsDF.head(10)"
      ],
      "execution_count": 196,
      "outputs": [
        {
          "output_type": "execute_result",
          "data": {
            "text/html": [
              "<div>\n",
              "<style scoped>\n",
              "    .dataframe tbody tr th:only-of-type {\n",
              "        vertical-align: middle;\n",
              "    }\n",
              "\n",
              "    .dataframe tbody tr th {\n",
              "        vertical-align: top;\n",
              "    }\n",
              "\n",
              "    .dataframe thead th {\n",
              "        text-align: right;\n",
              "    }\n",
              "</style>\n",
              "<table border=\"1\" class=\"dataframe\">\n",
              "  <thead>\n",
              "    <tr style=\"text-align: right;\">\n",
              "      <th></th>\n",
              "      <th>word</th>\n",
              "      <th>appears_in</th>\n",
              "      <th>count</th>\n",
              "      <th>rank</th>\n",
              "      <th>pct_total</th>\n",
              "      <th>cul_pct_total</th>\n",
              "      <th>appears_in_pct</th>\n",
              "    </tr>\n",
              "  </thead>\n",
              "  <tbody>\n",
              "    <tr>\n",
              "      <th>6</th>\n",
              "      <td>coffee</td>\n",
              "      <td>4924</td>\n",
              "      <td>10593</td>\n",
              "      <td>1.0</td>\n",
              "      <td>0.028664</td>\n",
              "      <td>0.028664</td>\n",
              "      <td>0.646534</td>\n",
              "    </tr>\n",
              "    <tr>\n",
              "      <th>116</th>\n",
              "      <td>place</td>\n",
              "      <td>3888</td>\n",
              "      <td>6044</td>\n",
              "      <td>2.0</td>\n",
              "      <td>0.016355</td>\n",
              "      <td>0.045019</td>\n",
              "      <td>0.510504</td>\n",
              "    </tr>\n",
              "    <tr>\n",
              "      <th>153</th>\n",
              "      <td>good</td>\n",
              "      <td>2883</td>\n",
              "      <td>4154</td>\n",
              "      <td>3.0</td>\n",
              "      <td>0.011241</td>\n",
              "      <td>0.056260</td>\n",
              "      <td>0.378545</td>\n",
              "    </tr>\n",
              "    <tr>\n",
              "      <th>81</th>\n",
              "      <td>great</td>\n",
              "      <td>2853</td>\n",
              "      <td>3946</td>\n",
              "      <td>4.0</td>\n",
              "      <td>0.010678</td>\n",
              "      <td>0.066937</td>\n",
              "      <td>0.374606</td>\n",
              "    </tr>\n",
              "    <tr>\n",
              "      <th>148</th>\n",
              "      <td>like</td>\n",
              "      <td>2267</td>\n",
              "      <td>3364</td>\n",
              "      <td>5.0</td>\n",
              "      <td>0.009103</td>\n",
              "      <td>0.076040</td>\n",
              "      <td>0.297663</td>\n",
              "    </tr>\n",
              "    <tr>\n",
              "      <th>392</th>\n",
              "      <td>come</td>\n",
              "      <td>1935</td>\n",
              "      <td>2636</td>\n",
              "      <td>6.0</td>\n",
              "      <td>0.007133</td>\n",
              "      <td>0.083173</td>\n",
              "      <td>0.254070</td>\n",
              "    </tr>\n",
              "    <tr>\n",
              "      <th>457</th>\n",
              "      <td>time</td>\n",
              "      <td>1753</td>\n",
              "      <td>2380</td>\n",
              "      <td>7.0</td>\n",
              "      <td>0.006440</td>\n",
              "      <td>0.089613</td>\n",
              "      <td>0.230173</td>\n",
              "    </tr>\n",
              "    <tr>\n",
              "      <th>7</th>\n",
              "      <td>love</td>\n",
              "      <td>1819</td>\n",
              "      <td>2376</td>\n",
              "      <td>8.0</td>\n",
              "      <td>0.006429</td>\n",
              "      <td>0.096043</td>\n",
              "      <td>0.238839</td>\n",
              "    </tr>\n",
              "    <tr>\n",
              "      <th>34</th>\n",
              "      <td>drink</td>\n",
              "      <td>1651</td>\n",
              "      <td>2375</td>\n",
              "      <td>9.0</td>\n",
              "      <td>0.006427</td>\n",
              "      <td>0.102469</td>\n",
              "      <td>0.216780</td>\n",
              "    </tr>\n",
              "    <tr>\n",
              "      <th>17</th>\n",
              "      <td>shop</td>\n",
              "      <td>1669</td>\n",
              "      <td>2253</td>\n",
              "      <td>10.0</td>\n",
              "      <td>0.006097</td>\n",
              "      <td>0.108566</td>\n",
              "      <td>0.219144</td>\n",
              "    </tr>\n",
              "  </tbody>\n",
              "</table>\n",
              "</div>"
            ],
            "text/plain": [
              "       word  appears_in  count  rank  pct_total  cul_pct_total  appears_in_pct\n",
              "6    coffee        4924  10593   1.0   0.028664       0.028664        0.646534\n",
              "116   place        3888   6044   2.0   0.016355       0.045019        0.510504\n",
              "153    good        2883   4154   3.0   0.011241       0.056260        0.378545\n",
              "81    great        2853   3946   4.0   0.010678       0.066937        0.374606\n",
              "148    like        2267   3364   5.0   0.009103       0.076040        0.297663\n",
              "392    come        1935   2636   6.0   0.007133       0.083173        0.254070\n",
              "457    time        1753   2380   7.0   0.006440       0.089613        0.230173\n",
              "7      love        1819   2376   8.0   0.006429       0.096043        0.238839\n",
              "34    drink        1651   2375   9.0   0.006427       0.102469        0.216780\n",
              "17     shop        1669   2253  10.0   0.006097       0.108566        0.219144"
            ]
          },
          "metadata": {
            "tags": []
          },
          "execution_count": 196
        }
      ]
    },
    {
      "cell_type": "code",
      "metadata": {
        "id": "axYopJN6c-pj",
        "outputId": "ab595b30-f865-4b4f-b526-fadb6a6091db",
        "colab": {
          "base_uri": "https://localhost:8080/",
          "height": 351
        }
      },
      "source": [
        "# looks at top 10 words used in good reviews\n",
        "\n",
        "wordsGoodDF = count(dfGood['counter'])\n",
        "wordsGoodDF.head(10)"
      ],
      "execution_count": 197,
      "outputs": [
        {
          "output_type": "execute_result",
          "data": {
            "text/html": [
              "<div>\n",
              "<style scoped>\n",
              "    .dataframe tbody tr th:only-of-type {\n",
              "        vertical-align: middle;\n",
              "    }\n",
              "\n",
              "    .dataframe tbody tr th {\n",
              "        vertical-align: top;\n",
              "    }\n",
              "\n",
              "    .dataframe thead th {\n",
              "        text-align: right;\n",
              "    }\n",
              "</style>\n",
              "<table border=\"1\" class=\"dataframe\">\n",
              "  <thead>\n",
              "    <tr style=\"text-align: right;\">\n",
              "      <th></th>\n",
              "      <th>word</th>\n",
              "      <th>appears_in</th>\n",
              "      <th>count</th>\n",
              "      <th>rank</th>\n",
              "      <th>pct_total</th>\n",
              "      <th>cul_pct_total</th>\n",
              "      <th>appears_in_pct</th>\n",
              "    </tr>\n",
              "  </thead>\n",
              "  <tbody>\n",
              "    <tr>\n",
              "      <th>6</th>\n",
              "      <td>coffee</td>\n",
              "      <td>3976</td>\n",
              "      <td>8421</td>\n",
              "      <td>1.0</td>\n",
              "      <td>0.029231</td>\n",
              "      <td>0.029231</td>\n",
              "      <td>0.647557</td>\n",
              "    </tr>\n",
              "    <tr>\n",
              "      <th>116</th>\n",
              "      <td>place</td>\n",
              "      <td>3133</td>\n",
              "      <td>4816</td>\n",
              "      <td>2.0</td>\n",
              "      <td>0.016717</td>\n",
              "      <td>0.045949</td>\n",
              "      <td>0.510261</td>\n",
              "    </tr>\n",
              "    <tr>\n",
              "      <th>81</th>\n",
              "      <td>great</td>\n",
              "      <td>2505</td>\n",
              "      <td>3474</td>\n",
              "      <td>3.0</td>\n",
              "      <td>0.012059</td>\n",
              "      <td>0.058008</td>\n",
              "      <td>0.407980</td>\n",
              "    </tr>\n",
              "    <tr>\n",
              "      <th>184</th>\n",
              "      <td>good</td>\n",
              "      <td>2279</td>\n",
              "      <td>3245</td>\n",
              "      <td>4.0</td>\n",
              "      <td>0.011264</td>\n",
              "      <td>0.069272</td>\n",
              "      <td>0.371173</td>\n",
              "    </tr>\n",
              "    <tr>\n",
              "      <th>177</th>\n",
              "      <td>like</td>\n",
              "      <td>1673</td>\n",
              "      <td>2423</td>\n",
              "      <td>5.0</td>\n",
              "      <td>0.008411</td>\n",
              "      <td>0.077682</td>\n",
              "      <td>0.272476</td>\n",
              "    </tr>\n",
              "    <tr>\n",
              "      <th>7</th>\n",
              "      <td>love</td>\n",
              "      <td>1608</td>\n",
              "      <td>2121</td>\n",
              "      <td>6.0</td>\n",
              "      <td>0.007362</td>\n",
              "      <td>0.085045</td>\n",
              "      <td>0.261889</td>\n",
              "    </tr>\n",
              "    <tr>\n",
              "      <th>375</th>\n",
              "      <td>come</td>\n",
              "      <td>1483</td>\n",
              "      <td>1986</td>\n",
              "      <td>7.0</td>\n",
              "      <td>0.006894</td>\n",
              "      <td>0.091939</td>\n",
              "      <td>0.241531</td>\n",
              "    </tr>\n",
              "    <tr>\n",
              "      <th>52</th>\n",
              "      <td>austin</td>\n",
              "      <td>1547</td>\n",
              "      <td>1969</td>\n",
              "      <td>8.0</td>\n",
              "      <td>0.006835</td>\n",
              "      <td>0.098774</td>\n",
              "      <td>0.251954</td>\n",
              "    </tr>\n",
              "    <tr>\n",
              "      <th>17</th>\n",
              "      <td>shop</td>\n",
              "      <td>1354</td>\n",
              "      <td>1820</td>\n",
              "      <td>9.0</td>\n",
              "      <td>0.006318</td>\n",
              "      <td>0.105091</td>\n",
              "      <td>0.220521</td>\n",
              "    </tr>\n",
              "    <tr>\n",
              "      <th>20</th>\n",
              "      <td>1</td>\n",
              "      <td>1713</td>\n",
              "      <td>1793</td>\n",
              "      <td>10.0</td>\n",
              "      <td>0.006224</td>\n",
              "      <td>0.111315</td>\n",
              "      <td>0.278990</td>\n",
              "    </tr>\n",
              "  </tbody>\n",
              "</table>\n",
              "</div>"
            ],
            "text/plain": [
              "       word  appears_in  count  rank  pct_total  cul_pct_total  appears_in_pct\n",
              "6    coffee        3976   8421   1.0   0.029231       0.029231        0.647557\n",
              "116   place        3133   4816   2.0   0.016717       0.045949        0.510261\n",
              "81    great        2505   3474   3.0   0.012059       0.058008        0.407980\n",
              "184    good        2279   3245   4.0   0.011264       0.069272        0.371173\n",
              "177    like        1673   2423   5.0   0.008411       0.077682        0.272476\n",
              "7      love        1608   2121   6.0   0.007362       0.085045        0.261889\n",
              "375    come        1483   1986   7.0   0.006894       0.091939        0.241531\n",
              "52   austin        1547   1969   8.0   0.006835       0.098774        0.251954\n",
              "17     shop        1354   1820   9.0   0.006318       0.105091        0.220521\n",
              "20        1        1713   1793  10.0   0.006224       0.111315        0.278990"
            ]
          },
          "metadata": {
            "tags": []
          },
          "execution_count": 197
        }
      ]
    },
    {
      "cell_type": "code",
      "metadata": {
        "id": "Ym3sFf9kdEYj",
        "outputId": "b18196c6-93df-4eb5-c303-df7478f9ac58",
        "colab": {
          "base_uri": "https://localhost:8080/",
          "height": 351
        }
      },
      "source": [
        "# looks at top 10 words used in good reviews\n",
        "\n",
        "wordsBadDF = count(dfBad['counter'])\n",
        "wordsBadDF.head(10)"
      ],
      "execution_count": 198,
      "outputs": [
        {
          "output_type": "execute_result",
          "data": {
            "text/html": [
              "<div>\n",
              "<style scoped>\n",
              "    .dataframe tbody tr th:only-of-type {\n",
              "        vertical-align: middle;\n",
              "    }\n",
              "\n",
              "    .dataframe tbody tr th {\n",
              "        vertical-align: top;\n",
              "    }\n",
              "\n",
              "    .dataframe thead th {\n",
              "        text-align: right;\n",
              "    }\n",
              "</style>\n",
              "<table border=\"1\" class=\"dataframe\">\n",
              "  <thead>\n",
              "    <tr style=\"text-align: right;\">\n",
              "      <th></th>\n",
              "      <th>word</th>\n",
              "      <th>appears_in</th>\n",
              "      <th>count</th>\n",
              "      <th>rank</th>\n",
              "      <th>pct_total</th>\n",
              "      <th>cul_pct_total</th>\n",
              "      <th>appears_in_pct</th>\n",
              "    </tr>\n",
              "  </thead>\n",
              "  <tbody>\n",
              "    <tr>\n",
              "      <th>3</th>\n",
              "      <td>coffee</td>\n",
              "      <td>948</td>\n",
              "      <td>2172</td>\n",
              "      <td>1.0</td>\n",
              "      <td>0.026660</td>\n",
              "      <td>0.026660</td>\n",
              "      <td>0.642276</td>\n",
              "    </tr>\n",
              "    <tr>\n",
              "      <th>30</th>\n",
              "      <td>place</td>\n",
              "      <td>755</td>\n",
              "      <td>1228</td>\n",
              "      <td>2.0</td>\n",
              "      <td>0.015073</td>\n",
              "      <td>0.041733</td>\n",
              "      <td>0.511518</td>\n",
              "    </tr>\n",
              "    <tr>\n",
              "      <th>17</th>\n",
              "      <td>like</td>\n",
              "      <td>594</td>\n",
              "      <td>941</td>\n",
              "      <td>3.0</td>\n",
              "      <td>0.011550</td>\n",
              "      <td>0.053283</td>\n",
              "      <td>0.402439</td>\n",
              "    </tr>\n",
              "    <tr>\n",
              "      <th>23</th>\n",
              "      <td>good</td>\n",
              "      <td>604</td>\n",
              "      <td>909</td>\n",
              "      <td>4.0</td>\n",
              "      <td>0.011157</td>\n",
              "      <td>0.064440</td>\n",
              "      <td>0.409214</td>\n",
              "    </tr>\n",
              "    <tr>\n",
              "      <th>115</th>\n",
              "      <td>order</td>\n",
              "      <td>443</td>\n",
              "      <td>780</td>\n",
              "      <td>5.0</td>\n",
              "      <td>0.009574</td>\n",
              "      <td>0.074014</td>\n",
              "      <td>0.300136</td>\n",
              "    </tr>\n",
              "    <tr>\n",
              "      <th>61</th>\n",
              "      <td>come</td>\n",
              "      <td>452</td>\n",
              "      <td>650</td>\n",
              "      <td>6.0</td>\n",
              "      <td>0.007978</td>\n",
              "      <td>0.081992</td>\n",
              "      <td>0.306233</td>\n",
              "    </tr>\n",
              "    <tr>\n",
              "      <th>189</th>\n",
              "      <td>time</td>\n",
              "      <td>422</td>\n",
              "      <td>614</td>\n",
              "      <td>7.0</td>\n",
              "      <td>0.007536</td>\n",
              "      <td>0.089529</td>\n",
              "      <td>0.285908</td>\n",
              "    </tr>\n",
              "    <tr>\n",
              "      <th>32</th>\n",
              "      <td>drink</td>\n",
              "      <td>365</td>\n",
              "      <td>613</td>\n",
              "      <td>8.0</td>\n",
              "      <td>0.007524</td>\n",
              "      <td>0.097053</td>\n",
              "      <td>0.247290</td>\n",
              "    </tr>\n",
              "    <tr>\n",
              "      <th>141</th>\n",
              "      <td>food</td>\n",
              "      <td>316</td>\n",
              "      <td>494</td>\n",
              "      <td>9.0</td>\n",
              "      <td>0.006064</td>\n",
              "      <td>0.103116</td>\n",
              "      <td>0.214092</td>\n",
              "    </tr>\n",
              "    <tr>\n",
              "      <th>79</th>\n",
              "      <td>great</td>\n",
              "      <td>348</td>\n",
              "      <td>472</td>\n",
              "      <td>10.0</td>\n",
              "      <td>0.005793</td>\n",
              "      <td>0.108910</td>\n",
              "      <td>0.235772</td>\n",
              "    </tr>\n",
              "  </tbody>\n",
              "</table>\n",
              "</div>"
            ],
            "text/plain": [
              "       word  appears_in  count  rank  pct_total  cul_pct_total  appears_in_pct\n",
              "3    coffee         948   2172   1.0   0.026660       0.026660        0.642276\n",
              "30    place         755   1228   2.0   0.015073       0.041733        0.511518\n",
              "17     like         594    941   3.0   0.011550       0.053283        0.402439\n",
              "23     good         604    909   4.0   0.011157       0.064440        0.409214\n",
              "115   order         443    780   5.0   0.009574       0.074014        0.300136\n",
              "61     come         452    650   6.0   0.007978       0.081992        0.306233\n",
              "189    time         422    614   7.0   0.007536       0.089529        0.285908\n",
              "32    drink         365    613   8.0   0.007524       0.097053        0.247290\n",
              "141    food         316    494   9.0   0.006064       0.103116        0.214092\n",
              "79    great         348    472  10.0   0.005793       0.108910        0.235772"
            ]
          },
          "metadata": {
            "tags": []
          },
          "execution_count": 198
        }
      ]
    },
    {
      "cell_type": "markdown",
      "metadata": {
        "id": "IRmsRNpMPeI7"
      },
      "source": [
        "## Can visualize the words with the greatest difference in counts between 'good' & 'bad'?\n",
        "\n",
        "Couple Notes: \n",
        "- Rel. freq. instead of absolute counts b/c of different numbers of reviews\n",
        "- Only look at the top 5-10 words with the greatest differences\n"
      ]
    },
    {
      "cell_type": "code",
      "metadata": {
        "id": "UL1EVWfOPeI7"
      },
      "source": [
        "# creates dataframe for seeing difference in word use for good/bad review word useage\n",
        "\n",
        "badDF = wordsBadDF[['word', 'appears_in_pct']]\n",
        "badDF.columns = ['word', 'percentage_in_bad']\n",
        "\n",
        "goodDF = wordsGoodDF[['word', 'appears_in_pct']]\n",
        "goodDF.columns = ['word', 'percentage_in_good']\n",
        "\n",
        "wordPercents = pd.merge(goodDF, badDF, on='word')"
      ],
      "execution_count": 199,
      "outputs": []
    },
    {
      "cell_type": "code",
      "metadata": {
        "id": "M92diz0EdTwp"
      },
      "source": [
        "# creates a difference column\n",
        "wordPercents['difference'] = wordPercents['percentage_in_good'] - wordPercents['percentage_in_bad']"
      ],
      "execution_count": 200,
      "outputs": []
    },
    {
      "cell_type": "code",
      "metadata": {
        "id": "rdQc4BJ6dX_3",
        "outputId": "0fa062e7-948e-43f4-d88b-1c78dacd17b1",
        "colab": {
          "base_uri": "https://localhost:8080/",
          "height": 199
        }
      },
      "source": [
        "# shows top 10 words used more in good reviews than bad reviews\n",
        "wordPercents.sort_values('difference', ascending=False).head()"
      ],
      "execution_count": 201,
      "outputs": [
        {
          "output_type": "execute_result",
          "data": {
            "text/html": [
              "<div>\n",
              "<style scoped>\n",
              "    .dataframe tbody tr th:only-of-type {\n",
              "        vertical-align: middle;\n",
              "    }\n",
              "\n",
              "    .dataframe tbody tr th {\n",
              "        vertical-align: top;\n",
              "    }\n",
              "\n",
              "    .dataframe thead th {\n",
              "        text-align: right;\n",
              "    }\n",
              "</style>\n",
              "<table border=\"1\" class=\"dataframe\">\n",
              "  <thead>\n",
              "    <tr style=\"text-align: right;\">\n",
              "      <th></th>\n",
              "      <th>word</th>\n",
              "      <th>percentage_in_good</th>\n",
              "      <th>percentage_in_bad</th>\n",
              "      <th>difference</th>\n",
              "    </tr>\n",
              "  </thead>\n",
              "  <tbody>\n",
              "    <tr>\n",
              "      <th>2</th>\n",
              "      <td>great</td>\n",
              "      <td>0.407980</td>\n",
              "      <td>0.235772</td>\n",
              "      <td>0.172208</td>\n",
              "    </tr>\n",
              "    <tr>\n",
              "      <th>24</th>\n",
              "      <td>delicious</td>\n",
              "      <td>0.191857</td>\n",
              "      <td>0.056233</td>\n",
              "      <td>0.135624</td>\n",
              "    </tr>\n",
              "    <tr>\n",
              "      <th>5</th>\n",
              "      <td>love</td>\n",
              "      <td>0.261889</td>\n",
              "      <td>0.142954</td>\n",
              "      <td>0.118935</td>\n",
              "    </tr>\n",
              "    <tr>\n",
              "      <th>17</th>\n",
              "      <td>friendly</td>\n",
              "      <td>0.231270</td>\n",
              "      <td>0.122629</td>\n",
              "      <td>0.108642</td>\n",
              "    </tr>\n",
              "    <tr>\n",
              "      <th>7</th>\n",
              "      <td>austin</td>\n",
              "      <td>0.251954</td>\n",
              "      <td>0.163279</td>\n",
              "      <td>0.088675</td>\n",
              "    </tr>\n",
              "  </tbody>\n",
              "</table>\n",
              "</div>"
            ],
            "text/plain": [
              "         word  percentage_in_good  percentage_in_bad  difference\n",
              "2       great            0.407980           0.235772    0.172208\n",
              "24  delicious            0.191857           0.056233    0.135624\n",
              "5        love            0.261889           0.142954    0.118935\n",
              "17   friendly            0.231270           0.122629    0.108642\n",
              "7      austin            0.251954           0.163279    0.088675"
            ]
          },
          "metadata": {
            "tags": []
          },
          "execution_count": 201
        }
      ]
    },
    {
      "cell_type": "code",
      "metadata": {
        "id": "UY_iRCs5diVk",
        "outputId": "26a7ef9f-cc69-4f90-bdb3-a3d4c0fd2a20",
        "colab": {
          "base_uri": "https://localhost:8080/",
          "height": 199
        }
      },
      "source": [
        "# shows top 10 words used more in bad reviews than good reviews\n",
        "wordPercents.sort_values('difference').head()"
      ],
      "execution_count": 202,
      "outputs": [
        {
          "output_type": "execute_result",
          "data": {
            "text/html": [
              "<div>\n",
              "<style scoped>\n",
              "    .dataframe tbody tr th:only-of-type {\n",
              "        vertical-align: middle;\n",
              "    }\n",
              "\n",
              "    .dataframe tbody tr th {\n",
              "        vertical-align: top;\n",
              "    }\n",
              "\n",
              "    .dataframe thead th {\n",
              "        text-align: right;\n",
              "    }\n",
              "</style>\n",
              "<table border=\"1\" class=\"dataframe\">\n",
              "  <thead>\n",
              "    <tr style=\"text-align: right;\">\n",
              "      <th></th>\n",
              "      <th>word</th>\n",
              "      <th>percentage_in_good</th>\n",
              "      <th>percentage_in_bad</th>\n",
              "      <th>difference</th>\n",
              "    </tr>\n",
              "  </thead>\n",
              "  <tbody>\n",
              "    <tr>\n",
              "      <th>22</th>\n",
              "      <td>order</td>\n",
              "      <td>0.167590</td>\n",
              "      <td>0.300136</td>\n",
              "      <td>-0.132546</td>\n",
              "    </tr>\n",
              "    <tr>\n",
              "      <th>4</th>\n",
              "      <td>like</td>\n",
              "      <td>0.272476</td>\n",
              "      <td>0.402439</td>\n",
              "      <td>-0.129963</td>\n",
              "    </tr>\n",
              "    <tr>\n",
              "      <th>269</th>\n",
              "      <td>okay</td>\n",
              "      <td>0.032899</td>\n",
              "      <td>0.145664</td>\n",
              "      <td>-0.112765</td>\n",
              "    </tr>\n",
              "    <tr>\n",
              "      <th>36</th>\n",
              "      <td>do</td>\n",
              "      <td>0.133876</td>\n",
              "      <td>0.238482</td>\n",
              "      <td>-0.104606</td>\n",
              "    </tr>\n",
              "    <tr>\n",
              "      <th>152</th>\n",
              "      <td>ask</td>\n",
              "      <td>0.050651</td>\n",
              "      <td>0.149051</td>\n",
              "      <td>-0.098400</td>\n",
              "    </tr>\n",
              "  </tbody>\n",
              "</table>\n",
              "</div>"
            ],
            "text/plain": [
              "      word  percentage_in_good  percentage_in_bad  difference\n",
              "22   order            0.167590           0.300136   -0.132546\n",
              "4     like            0.272476           0.402439   -0.129963\n",
              "269   okay            0.032899           0.145664   -0.112765\n",
              "36      do            0.133876           0.238482   -0.104606\n",
              "152    ask            0.050651           0.149051   -0.098400"
            ]
          },
          "metadata": {
            "tags": []
          },
          "execution_count": 202
        }
      ]
    },
    {
      "cell_type": "code",
      "metadata": {
        "id": "Fsl4cyxpdq1N",
        "outputId": "a6459d8e-5ba2-4193-a21d-fb56f7c6b478",
        "colab": {
          "base_uri": "https://localhost:8080/",
          "height": 284
        }
      },
      "source": [
        "# presentation data analysis\n",
        "# I was not given a coffee shop to analyze so I picked one with a name I liked\n",
        "\n",
        "# creating df with only \n",
        "tbc = df[df['shop'] == 'Thunderbird Coffee ']\n",
        "\n",
        "tbc.head()"
      ],
      "execution_count": 203,
      "outputs": [
        {
          "output_type": "execute_result",
          "data": {
            "text/html": [
              "<div>\n",
              "<style scoped>\n",
              "    .dataframe tbody tr th:only-of-type {\n",
              "        vertical-align: middle;\n",
              "    }\n",
              "\n",
              "    .dataframe tbody tr th {\n",
              "        vertical-align: top;\n",
              "    }\n",
              "\n",
              "    .dataframe thead th {\n",
              "        text-align: right;\n",
              "    }\n",
              "</style>\n",
              "<table border=\"1\" class=\"dataframe\">\n",
              "  <thead>\n",
              "    <tr style=\"text-align: right;\">\n",
              "      <th></th>\n",
              "      <th>shop</th>\n",
              "      <th>text</th>\n",
              "      <th>rating</th>\n",
              "      <th>date</th>\n",
              "      <th>tokens</th>\n",
              "      <th>counter</th>\n",
              "    </tr>\n",
              "  </thead>\n",
              "  <tbody>\n",
              "    <tr>\n",
              "      <th>2888</th>\n",
              "      <td>Thunderbird Coffee</td>\n",
              "      <td>10262016 1 checkin after living in sf for man...</td>\n",
              "      <td>4</td>\n",
              "      <td>2016-10-26</td>\n",
              "      <td>[1, checkin, live, sf, year, ive, develope, pr...</td>\n",
              "      <td>{'1': 1, 'checkin': 1, 'live': 1, 'sf': 1, 'ye...</td>\n",
              "    </tr>\n",
              "    <tr>\n",
              "      <th>2889</th>\n",
              "      <td>Thunderbird Coffee</td>\n",
              "      <td>9172016 1 checkin i came a few minutes before...</td>\n",
              "      <td>4</td>\n",
              "      <td>2016-09-17</td>\n",
              "      <td>[1, checkin, come, minute, close, host, happil...</td>\n",
              "      <td>{'1': 1, 'checkin': 1, 'come': 3, 'minute': 1,...</td>\n",
              "    </tr>\n",
              "    <tr>\n",
              "      <th>2890</th>\n",
              "      <td>Thunderbird Coffee</td>\n",
              "      <td>962016 1 checkin easy to spot and is located ...</td>\n",
              "      <td>4</td>\n",
              "      <td>2016-09-06</td>\n",
              "      <td>[1, checkin, easy, spot, locate, nice, little,...</td>\n",
              "      <td>{'1': 1, 'checkin': 1, 'easy': 1, 'spot': 5, '...</td>\n",
              "    </tr>\n",
              "    <tr>\n",
              "      <th>2891</th>\n",
              "      <td>Thunderbird Coffee</td>\n",
              "      <td>1232016 plenty of seating limited selection o...</td>\n",
              "      <td>4</td>\n",
              "      <td>2016-12-03</td>\n",
              "      <td>[plenty, seat, limit, selection, bake, good, a...</td>\n",
              "      <td>{'plenty': 1, 'seat': 2, 'limit': 1, 'selectio...</td>\n",
              "    </tr>\n",
              "    <tr>\n",
              "      <th>2892</th>\n",
              "      <td>Thunderbird Coffee</td>\n",
              "      <td>6242016 updated review 1 checkin i love thund...</td>\n",
              "      <td>5</td>\n",
              "      <td>2016-06-24</td>\n",
              "      <td>[update, review, 1, checkin, love, thunderbird...</td>\n",
              "      <td>{'update': 1, 'review': 1, '1': 1, 'checkin': ...</td>\n",
              "    </tr>\n",
              "  </tbody>\n",
              "</table>\n",
              "</div>"
            ],
            "text/plain": [
              "                     shop  ...                                            counter\n",
              "2888  Thunderbird Coffee   ...  {'1': 1, 'checkin': 1, 'live': 1, 'sf': 1, 'ye...\n",
              "2889  Thunderbird Coffee   ...  {'1': 1, 'checkin': 1, 'come': 3, 'minute': 1,...\n",
              "2890  Thunderbird Coffee   ...  {'1': 1, 'checkin': 1, 'easy': 1, 'spot': 5, '...\n",
              "2891  Thunderbird Coffee   ...  {'plenty': 1, 'seat': 2, 'limit': 1, 'selectio...\n",
              "2892  Thunderbird Coffee   ...  {'update': 1, 'review': 1, '1': 1, 'checkin': ...\n",
              "\n",
              "[5 rows x 6 columns]"
            ]
          },
          "metadata": {
            "tags": []
          },
          "execution_count": 203
        }
      ]
    },
    {
      "cell_type": "code",
      "metadata": {
        "id": "XBdEVr3Bd2-f",
        "outputId": "b35a60b6-f5ff-463a-94c5-6b81707cbe87",
        "colab": {
          "base_uri": "https://localhost:8080/",
          "height": 175
        }
      },
      "source": [
        "# looking at basic data from the review tab\n",
        "\n",
        "tbc['rating'].describe()"
      ],
      "execution_count": 204,
      "outputs": [
        {
          "output_type": "execute_result",
          "data": {
            "text/plain": [
              "count    100.000000\n",
              "mean       3.970000\n",
              "std        0.999545\n",
              "min        1.000000\n",
              "25%        4.000000\n",
              "50%        4.000000\n",
              "75%        5.000000\n",
              "max        5.000000\n",
              "Name: rating, dtype: float64"
            ]
          },
          "metadata": {
            "tags": []
          },
          "execution_count": 204
        }
      ]
    },
    {
      "cell_type": "code",
      "metadata": {
        "id": "5IeLG8l-d7_t",
        "outputId": "90df5a29-8d49-4b92-addc-61cbf1f7f1fd",
        "colab": {
          "base_uri": "https://localhost:8080/",
          "height": 295
        }
      },
      "source": [
        "ratingCount = pd.DataFrame(tbc['rating'].value_counts()).reset_index()\n",
        "\n",
        "ratingCount.columns = ['rating', 'count']\n",
        "\n",
        "ratingCount.sort_values('rating')\n",
        "\n",
        "sns.barplot(x=ratingCount['rating'], \n",
        "            y=ratingCount['count'], \n",
        "            color='#DC2087').set_title('Rating Counts')\n",
        "\n",
        "plt.savefig('rating_counts.png')\n",
        "plt.show();"
      ],
      "execution_count": 207,
      "outputs": [
        {
          "output_type": "display_data",
          "data": {
            "image/png": "[encoded data removed]",
            "text/plain": [
              "<Figure size 432x288 with 1 Axes>"
            ]
          },
          "metadata": {
            "tags": [],
            "needs_background": "light"
          }
        }
      ]
    },
    {
      "cell_type": "code",
      "metadata": {
        "id": "6CMjmYAqeB1o"
      },
      "source": [
        "# splits dataframe into three time periods to compare ratings over time\n",
        "\n",
        "late = tbc[tbc['date'] >= '2016-2']\n",
        "\n",
        "mid = tbc[(tbc['date'] < '2016-2') &\n",
        "                (tbc['date'] >= '2015-5')]\n",
        "                \n",
        "early = tbc[tbc['date'] < '2015-5']\n",
        "\n",
        "assert(len(late) + len(mid) + len(early) == len(tbc))"
      ],
      "execution_count": 208,
      "outputs": []
    },
    {
      "cell_type": "code",
      "metadata": {
        "id": "brlaFe0keFpC"
      },
      "source": [
        "# gets average rating for time periods\n",
        "earlyAVG = early['rating'].sum()/len(late)\n",
        "midAVG = mid['rating'].sum()/len(late)\n",
        "lateAVG = late['rating'].sum()/len(late)"
      ],
      "execution_count": 209,
      "outputs": []
    },
    {
      "cell_type": "code",
      "metadata": {
        "id": "hJsZPOfSeLLI",
        "outputId": "3e062d2a-d41b-479f-8a0e-065383df5d83",
        "colab": {
          "base_uri": "https://localhost:8080/",
          "height": 281
        }
      },
      "source": [
        "# plots the averages\n",
        "\n",
        "avgs = [earlyAVG, midAVG, lateAVG]\n",
        "labels = ['early', \n",
        "          'middle', \n",
        "          'later']\n",
        "\n",
        "sns.barplot(x=labels, y=avgs).set_title('Average Rating over Time');\n",
        "plt.savefig('avg_rating.png')\n",
        "plt.show();"
      ],
      "execution_count": 210,
      "outputs": [
        {
          "output_type": "display_data",
          "data": {
            "image/png": "[encoded data removed]",
            "text/plain": [
              "<Figure size 432x288 with 1 Axes>"
            ]
          },
          "metadata": {
            "tags": [],
            "needs_background": "light"
          }
        }
      ]
    },
    {
      "cell_type": "code",
      "metadata": {
        "id": "UVnQk93CeP4H",
        "outputId": "870d8abe-504f-4408-ecb5-45af02355f99",
        "colab": {
          "base_uri": "https://localhost:8080/",
          "height": 34
        }
      },
      "source": [
        "lateAVG"
      ],
      "execution_count": 211,
      "outputs": [
        {
          "output_type": "execute_result",
          "data": {
            "text/plain": [
              "3.875"
            ]
          },
          "metadata": {
            "tags": []
          },
          "execution_count": 211
        }
      ]
    },
    {
      "cell_type": "code",
      "metadata": {
        "id": "YbZgsm4PeURh"
      },
      "source": [
        "# creates dataframes for good and bad ratings\n",
        "tbcGood = dfGood[dfGood['shop'] == 'Thunderbird Coffee ']\n",
        "tbcBad = dfBad[dfBad['shop'] == 'Thunderbird Coffee ']\n",
        "\n",
        "# makes sure the size of the new dataframes add up to the size of the original dataframe\n",
        "assert len(tbc) == len(tbcGood) + len(tbcBad)"
      ],
      "execution_count": 212,
      "outputs": []
    },
    {
      "cell_type": "code",
      "metadata": {
        "id": "zftFPm3Eeo_M",
        "outputId": "d1584179-fd26-45e6-9b06-c810aee859db",
        "colab": {
          "base_uri": "https://localhost:8080/",
          "height": 199
        }
      },
      "source": [
        "# looks at top 5 words from good reviews using lecture function\n",
        "\n",
        "good_words = count(tbcGood['counter'])\n",
        "\n",
        "good_words.head()"
      ],
      "execution_count": 213,
      "outputs": [
        {
          "output_type": "execute_result",
          "data": {
            "text/html": [
              "<div>\n",
              "<style scoped>\n",
              "    .dataframe tbody tr th:only-of-type {\n",
              "        vertical-align: middle;\n",
              "    }\n",
              "\n",
              "    .dataframe tbody tr th {\n",
              "        vertical-align: top;\n",
              "    }\n",
              "\n",
              "    .dataframe thead th {\n",
              "        text-align: right;\n",
              "    }\n",
              "</style>\n",
              "<table border=\"1\" class=\"dataframe\">\n",
              "  <thead>\n",
              "    <tr style=\"text-align: right;\">\n",
              "      <th></th>\n",
              "      <th>word</th>\n",
              "      <th>appears_in</th>\n",
              "      <th>count</th>\n",
              "      <th>rank</th>\n",
              "      <th>pct_total</th>\n",
              "      <th>cul_pct_total</th>\n",
              "      <th>appears_in_pct</th>\n",
              "    </tr>\n",
              "  </thead>\n",
              "  <tbody>\n",
              "    <tr>\n",
              "      <th>7</th>\n",
              "      <td>coffee</td>\n",
              "      <td>61</td>\n",
              "      <td>121</td>\n",
              "      <td>1.0</td>\n",
              "      <td>0.030986</td>\n",
              "      <td>0.030986</td>\n",
              "      <td>0.792208</td>\n",
              "    </tr>\n",
              "    <tr>\n",
              "      <th>81</th>\n",
              "      <td>good</td>\n",
              "      <td>42</td>\n",
              "      <td>68</td>\n",
              "      <td>2.0</td>\n",
              "      <td>0.017414</td>\n",
              "      <td>0.048399</td>\n",
              "      <td>0.545455</td>\n",
              "    </tr>\n",
              "    <tr>\n",
              "      <th>89</th>\n",
              "      <td>place</td>\n",
              "      <td>40</td>\n",
              "      <td>65</td>\n",
              "      <td>3.0</td>\n",
              "      <td>0.016645</td>\n",
              "      <td>0.065045</td>\n",
              "      <td>0.519481</td>\n",
              "    </tr>\n",
              "    <tr>\n",
              "      <th>43</th>\n",
              "      <td>latte</td>\n",
              "      <td>28</td>\n",
              "      <td>48</td>\n",
              "      <td>4.0</td>\n",
              "      <td>0.012292</td>\n",
              "      <td>0.077337</td>\n",
              "      <td>0.363636</td>\n",
              "    </tr>\n",
              "    <tr>\n",
              "      <th>165</th>\n",
              "      <td>great</td>\n",
              "      <td>31</td>\n",
              "      <td>43</td>\n",
              "      <td>5.0</td>\n",
              "      <td>0.011012</td>\n",
              "      <td>0.088348</td>\n",
              "      <td>0.402597</td>\n",
              "    </tr>\n",
              "  </tbody>\n",
              "</table>\n",
              "</div>"
            ],
            "text/plain": [
              "       word  appears_in  count  rank  pct_total  cul_pct_total  appears_in_pct\n",
              "7    coffee          61    121   1.0   0.030986       0.030986        0.792208\n",
              "81     good          42     68   2.0   0.017414       0.048399        0.545455\n",
              "89    place          40     65   3.0   0.016645       0.065045        0.519481\n",
              "43    latte          28     48   4.0   0.012292       0.077337        0.363636\n",
              "165   great          31     43   5.0   0.011012       0.088348        0.402597"
            ]
          },
          "metadata": {
            "tags": []
          },
          "execution_count": 213
        }
      ]
    },
    {
      "cell_type": "code",
      "metadata": {
        "id": "knLWJIKMeuVZ",
        "outputId": "481a433f-2274-4c1b-ce5a-1a69b7bf3181",
        "colab": {
          "base_uri": "https://localhost:8080/",
          "height": 199
        }
      },
      "source": [
        "# looks at top 5 words from bad reviews using lecture function\n",
        "\n",
        "bad_words = count(tbcBad['counter'])\n",
        "\n",
        "bad_words.head()"
      ],
      "execution_count": 214,
      "outputs": [
        {
          "output_type": "execute_result",
          "data": {
            "text/html": [
              "<div>\n",
              "<style scoped>\n",
              "    .dataframe tbody tr th:only-of-type {\n",
              "        vertical-align: middle;\n",
              "    }\n",
              "\n",
              "    .dataframe tbody tr th {\n",
              "        vertical-align: top;\n",
              "    }\n",
              "\n",
              "    .dataframe thead th {\n",
              "        text-align: right;\n",
              "    }\n",
              "</style>\n",
              "<table border=\"1\" class=\"dataframe\">\n",
              "  <thead>\n",
              "    <tr style=\"text-align: right;\">\n",
              "      <th></th>\n",
              "      <th>word</th>\n",
              "      <th>appears_in</th>\n",
              "      <th>count</th>\n",
              "      <th>rank</th>\n",
              "      <th>pct_total</th>\n",
              "      <th>cul_pct_total</th>\n",
              "      <th>appears_in_pct</th>\n",
              "    </tr>\n",
              "  </thead>\n",
              "  <tbody>\n",
              "    <tr>\n",
              "      <th>3</th>\n",
              "      <td>coffee</td>\n",
              "      <td>20</td>\n",
              "      <td>41</td>\n",
              "      <td>1.0</td>\n",
              "      <td>0.029883</td>\n",
              "      <td>0.029883</td>\n",
              "      <td>0.869565</td>\n",
              "    </tr>\n",
              "    <tr>\n",
              "      <th>52</th>\n",
              "      <td>place</td>\n",
              "      <td>9</td>\n",
              "      <td>24</td>\n",
              "      <td>2.0</td>\n",
              "      <td>0.017493</td>\n",
              "      <td>0.047376</td>\n",
              "      <td>0.391304</td>\n",
              "    </tr>\n",
              "    <tr>\n",
              "      <th>98</th>\n",
              "      <td>order</td>\n",
              "      <td>10</td>\n",
              "      <td>19</td>\n",
              "      <td>3.0</td>\n",
              "      <td>0.013848</td>\n",
              "      <td>0.061224</td>\n",
              "      <td>0.434783</td>\n",
              "    </tr>\n",
              "    <tr>\n",
              "      <th>42</th>\n",
              "      <td>like</td>\n",
              "      <td>8</td>\n",
              "      <td>14</td>\n",
              "      <td>4.0</td>\n",
              "      <td>0.010204</td>\n",
              "      <td>0.071429</td>\n",
              "      <td>0.347826</td>\n",
              "    </tr>\n",
              "    <tr>\n",
              "      <th>94</th>\n",
              "      <td>im</td>\n",
              "      <td>8</td>\n",
              "      <td>13</td>\n",
              "      <td>5.0</td>\n",
              "      <td>0.009475</td>\n",
              "      <td>0.080904</td>\n",
              "      <td>0.347826</td>\n",
              "    </tr>\n",
              "  </tbody>\n",
              "</table>\n",
              "</div>"
            ],
            "text/plain": [
              "      word  appears_in  count  rank  pct_total  cul_pct_total  appears_in_pct\n",
              "3   coffee          20     41   1.0   0.029883       0.029883        0.869565\n",
              "52   place           9     24   2.0   0.017493       0.047376        0.391304\n",
              "98   order          10     19   3.0   0.013848       0.061224        0.434783\n",
              "42    like           8     14   4.0   0.010204       0.071429        0.347826\n",
              "94      im           8     13   5.0   0.009475       0.080904        0.347826"
            ]
          },
          "metadata": {
            "tags": []
          },
          "execution_count": 214
        }
      ]
    },
    {
      "cell_type": "code",
      "metadata": {
        "id": "ybT_yov1eyVB",
        "outputId": "e437946a-5a44-46c6-9ea9-2d678601edf6",
        "colab": {
          "base_uri": "https://localhost:8080/",
          "height": 269
        }
      },
      "source": [
        "top20good = good_words[good_words['rank'] < 21]\n",
        "\n",
        "squarify.plot(sizes=top20good['count'], label=top20good['word']);"
      ],
      "execution_count": 216,
      "outputs": [
        {
          "output_type": "display_data",
          "data": {
            "image/png": "[encoded data removed]",
            "text/plain": [
              "<Figure size 432x288 with 1 Axes>"
            ]
          },
          "metadata": {
            "tags": [],
            "needs_background": "light"
          }
        }
      ]
    },
    {
      "cell_type": "code",
      "metadata": {
        "id": "YxHQNtpie2I8",
        "outputId": "3fed9ed4-cdec-4db0-8072-3e7c71212892",
        "colab": {
          "base_uri": "https://localhost:8080/",
          "height": 269
        }
      },
      "source": [
        "top20bad = bad_words[bad_words['rank'] < 21]\n",
        "\n",
        "squarify.plot(sizes=top20bad['count'], label=top20bad['word']);"
      ],
      "execution_count": 218,
      "outputs": [
        {
          "output_type": "display_data",
          "data": {
            "image/png": "[encoded data removed]",
            "text/plain": [
              "<Figure size 432x288 with 1 Axes>"
            ]
          },
          "metadata": {
            "tags": [],
            "needs_background": "light"
          }
        }
      ]
    },
    {
      "cell_type": "code",
      "metadata": {
        "id": "vtr_K4n5e8AF"
      },
      "source": [
        "# creates dataframe for seeing difference in word use for good/bad review word useage\n",
        "badDFtbc = bad_words[['word', 'appears_in_pct']]\n",
        "badDFtbc.columns = ['word', 'percentage_in_bad']\n",
        "\n",
        "goodDFtbc = good_words[['word', 'appears_in_pct']]\n",
        "goodDFtbc.columns = ['word', 'percentage_in_good']\n",
        "\n",
        "wordPercents_tbc = pd.merge(goodDFtbc, badDFtbc, on='word')\n",
        "\n",
        "# creates a difference column\n",
        "wordPercents_tbc['difference'] = wordPercents_tbc['percentage_in_good'] - wordPercents_tbc['percentage_in_bad']"
      ],
      "execution_count": 219,
      "outputs": []
    },
    {
      "cell_type": "code",
      "metadata": {
        "id": "ZOu9HExXfAzh",
        "outputId": "f3ce1635-f9df-4066-c70d-6198d60334d6",
        "colab": {
          "base_uri": "https://localhost:8080/",
          "height": 269
        }
      },
      "source": [
        "# shows top 20 words used more in bad reviews than good reviews\n",
        "badPercents = wordPercents_tbc.sort_values('difference').head(20)\n",
        "\n",
        "squarify.plot(sizes=badPercents['difference'].apply(abs), \n",
        "              label=badPercents['word'])\n",
        "\n",
        "plt.savefig('bad.png')\n",
        "plt.show()"
      ],
      "execution_count": 220,
      "outputs": [
        {
          "output_type": "display_data",
          "data": {
            "image/png": "[encoded data removed]",
            "text/plain": [
              "<Figure size 432x288 with 1 Axes>"
            ]
          },
          "metadata": {
            "tags": [],
            "needs_background": "light"
          }
        }
      ]
    },
    {
      "cell_type": "code",
      "metadata": {
        "id": "yWCELk2nfFjW",
        "outputId": "cebb2550-80ab-4c94-ac68-c940d4d136ef",
        "colab": {
          "base_uri": "https://localhost:8080/",
          "height": 269
        }
      },
      "source": [
        "# shows top 10 words used more in bad reviews than good reviews\n",
        "goodPercents = wordPercents_tbc.sort_values('difference').tail(20)\n",
        "\n",
        "squarify.plot(sizes=goodPercents['difference'].apply(abs), \n",
        "              label=goodPercents['word'])\n",
        "\n",
        "plt.savefig('good.png')\n",
        "plt.show()"
      ],
      "execution_count": 221,
      "outputs": [
        {
          "output_type": "display_data",
          "data": {
            "image/png": "[encoded data removed]",
            "text/plain": [
              "<Figure size 432x288 with 1 Axes>"
            ]
          },
          "metadata": {
            "tags": [],
            "needs_background": "light"
          }
        }
      ]
    },
    {
      "cell_type": "markdown",
      "metadata": {
        "id": "1dCb1q8XphcP",
        "toc-hr-collapsed": true
      },
      "source": [
        "## Stretch Goals\n",
        "\n",
        "* Analyze another corpus of documents - such as Indeed.com job listings ;).\n",
        "* Play with the Spacy API to\n",
        " - Extract Named Entities\n",
        " - Extracting 'noun chunks'\n",
        " - Attempt Document Classification with just Spacy\n",
        " - *Note:* This [course](https://course.spacy.io/) will be of interesting in helping you with these stretch goals. \n",
        "* Try to build a plotly dash app with your text data \n",
        "\n"
      ]
    }
  ]
}