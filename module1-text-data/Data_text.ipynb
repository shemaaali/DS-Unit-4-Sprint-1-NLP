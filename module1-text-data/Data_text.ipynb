{
 "cells": [
  {
   "cell_type": "code",
   "execution_count": 1,
   "metadata": {},
   "outputs": [
    {
     "data": {
      "image/jpeg": "[encoded data removed]",
      "text/html": [
       "\n",
       "        <iframe\n",
       "            width=\"400\"\n",
       "            height=\"300\"\n",
       "            src=\"https://www.youtube.com/embed/Jml7NVYm8cs\"\n",
       "            frameborder=\"0\"\n",
       "            allowfullscreen\n",
       "        ></iframe>\n",
       "        "
      ],
      "text/plain": [
       "<IPython.lib.display.YouTubeVideo at 0x20b431a8610>"
      ]
     },
     "execution_count": 1,
     "metadata": {},
     "output_type": "execute_result"
    }
   ],
   "source": [
    "from IPython.display import YouTubeVideo\n",
    "\n",
    "YouTubeVideo('Jml7NVYm8cs')"
   ]
  },
  {
   "cell_type": "code",
   "execution_count": 2,
   "metadata": {},
   "outputs": [
    {
     "data": {
      "text/plain": [
       "'C:\\\\Users\\\\shima\\\\Documents\\\\unit4\\\\DS-Unit-4-Sprint-1-NLP\\\\module1-text-data'"
      ]
     },
     "execution_count": 2,
     "metadata": {},
     "output_type": "execute_result"
    }
   ],
   "source": [
    "%pwd"
   ]
  },
  {
   "cell_type": "code",
   "execution_count": 1,
   "metadata": {},
   "outputs": [],
   "source": [
    "import numpy as np\n",
    "import pandas as pd\n",
    "import matplotlib.pyplot as plt\n",
    "import seaborn as sns\n",
    "from collections import Counter\n",
    "import re\n",
    "import spacy\n",
    "from spacy.tokenizer import Tokenizer\n",
    "from nltk.stem import PorterStemmer\n",
    "import squarify"
   ]
  },
  {
   "cell_type": "code",
   "execution_count": 2,
   "metadata": {},
   "outputs": [],
   "source": [
    "# create a fuction which takes a corpus of document and returns and dataframe of word counts for us to analyze.\n",
    "def count(docs):\n",
    "\n",
    "        word_counts = Counter()\n",
    "        appears_in = Counter()\n",
    "        \n",
    "        total_docs = len(docs)\n",
    "\n",
    "        for doc in docs:\n",
    "            word_counts.update(doc)\n",
    "            appears_in.update(set(doc))\n",
    "\n",
    "        temp = zip(word_counts.keys(), word_counts.values())\n",
    "        \n",
    "        wc = pd.DataFrame(temp, columns = ['word', 'count'])\n",
    "\n",
    "        wc['rank'] = wc['count'].rank(method='first', ascending=False)\n",
    "        total = wc['count'].sum()\n",
    "\n",
    "        wc['pct_total'] = wc['count'].apply(lambda x: x / total)\n",
    "        \n",
    "        wc = wc.sort_values(by='rank')\n",
    "        wc['cul_pct_total'] = wc['pct_total'].cumsum()\n",
    "\n",
    "        t2 = zip(appears_in.keys(), appears_in.values())\n",
    "        ac = pd.DataFrame(t2, columns=['word', 'appears_in'])\n",
    "        wc = ac.merge(wc, on='word')\n",
    "\n",
    "        wc['appears_in_pct'] = wc['appears_in'].apply(lambda x: x / total_docs)\n",
    "        \n",
    "        return wc.sort_values(by='rank')"
   ]
  },
  {
   "cell_type": "code",
   "execution_count": 3,
   "metadata": {},
   "outputs": [],
   "source": [
    "import spacy\n",
    "from spacy.tokenizer import Tokenizer\n",
    "from nltk.stem import PorterStemmer\n",
    "\n",
    "# Load the pre-trained statistical model for English\n",
    "import en_core_web_lg\n",
    "nlp = en_core_web_lg.load()\n",
    "\n",
    "# Tokenizer\n",
    "tokenizer = Tokenizer(nlp.vocab)"
   ]
  },
  {
   "cell_type": "code",
   "execution_count": 4,
   "metadata": {},
   "outputs": [],
   "source": [
    "# creates stop words\n",
    "STOPWORDS = nlp.Defaults.stop_words"
   ]
  },
  {
   "cell_type": "code",
   "execution_count": 15,
   "metadata": {},
   "outputs": [],
   "source": [
    "# creates a function for removing stop words\n",
    "def rm_stopwords(tkns):\n",
    "    '''\n",
    "    a function for removing stop words from a list of tokens\n",
    "    '''\n",
    "    tok_list = []\n",
    "    for tok in tkns:\n",
    "        if str(tok) not in STOPWORDS.union(' '):\n",
    "            tok_list.append(tok)\n",
    "            \n",
    "    return(tok_list)"
   ]
  },
  {
   "cell_type": "code",
   "execution_count": 16,
   "metadata": {},
   "outputs": [
    {
     "data": {
      "text/html": [
       "<div>\n",
       "<style scoped>\n",
       "    .dataframe tbody tr th:only-of-type {\n",
       "        vertical-align: middle;\n",
       "    }\n",
       "\n",
       "    .dataframe tbody tr th {\n",
       "        vertical-align: top;\n",
       "    }\n",
       "\n",
       "    .dataframe thead th {\n",
       "        text-align: right;\n",
       "    }\n",
       "</style>\n",
       "<table border=\"1\" class=\"dataframe\">\n",
       "  <thead>\n",
       "    <tr style=\"text-align: right;\">\n",
       "      <th></th>\n",
       "      <th>coffee_shop_name</th>\n",
       "      <th>full_review_text</th>\n",
       "      <th>star_rating</th>\n",
       "    </tr>\n",
       "  </thead>\n",
       "  <tbody>\n",
       "    <tr>\n",
       "      <th>0</th>\n",
       "      <td>The Factory - Cafe With a Soul</td>\n",
       "      <td>11/25/2016 1 check-in Love love loved the atm...</td>\n",
       "      <td>5.0 star rating</td>\n",
       "    </tr>\n",
       "    <tr>\n",
       "      <th>1</th>\n",
       "      <td>The Factory - Cafe With a Soul</td>\n",
       "      <td>12/2/2016 Listed in Date Night: Austin, Ambia...</td>\n",
       "      <td>4.0 star rating</td>\n",
       "    </tr>\n",
       "    <tr>\n",
       "      <th>2</th>\n",
       "      <td>The Factory - Cafe With a Soul</td>\n",
       "      <td>11/30/2016 1 check-in Listed in Brunch Spots ...</td>\n",
       "      <td>4.0 star rating</td>\n",
       "    </tr>\n",
       "    <tr>\n",
       "      <th>3</th>\n",
       "      <td>The Factory - Cafe With a Soul</td>\n",
       "      <td>11/25/2016 Very cool decor! Good drinks Nice ...</td>\n",
       "      <td>2.0 star rating</td>\n",
       "    </tr>\n",
       "    <tr>\n",
       "      <th>4</th>\n",
       "      <td>The Factory - Cafe With a Soul</td>\n",
       "      <td>12/3/2016 1 check-in They are located within ...</td>\n",
       "      <td>4.0 star rating</td>\n",
       "    </tr>\n",
       "  </tbody>\n",
       "</table>\n",
       "</div>"
      ],
      "text/plain": [
       "                  coffee_shop_name  \\\n",
       "0  The Factory - Cafe With a Soul    \n",
       "1  The Factory - Cafe With a Soul    \n",
       "2  The Factory - Cafe With a Soul    \n",
       "3  The Factory - Cafe With a Soul    \n",
       "4  The Factory - Cafe With a Soul    \n",
       "\n",
       "                                    full_review_text        star_rating  \n",
       "0   11/25/2016 1 check-in Love love loved the atm...   5.0 star rating   \n",
       "1   12/2/2016 Listed in Date Night: Austin, Ambia...   4.0 star rating   \n",
       "2   11/30/2016 1 check-in Listed in Brunch Spots ...   4.0 star rating   \n",
       "3   11/25/2016 Very cool decor! Good drinks Nice ...   2.0 star rating   \n",
       "4   12/3/2016 1 check-in They are located within ...   4.0 star rating   "
      ]
     },
     "execution_count": 16,
     "metadata": {},
     "output_type": "execute_result"
    }
   ],
   "source": [
    "url = \"https://raw.githubusercontent.com/LambdaSchool/DS-Unit-4-Sprint-1-NLP/main/module1-text-data/data/yelp_coffeeshop_review_data.csv\"\n",
    "\n",
    "shops = pd.read_csv(url)\n",
    "shops.head()"
   ]
  },
  {
   "cell_type": "code",
   "execution_count": 17,
   "metadata": {},
   "outputs": [],
   "source": [
    "# copies dataframe to new df\n",
    "df = shops.copy()"
   ]
  },
  {
   "cell_type": "code",
   "execution_count": 18,
   "metadata": {},
   "outputs": [],
   "source": [
    "# renames columns for ease of use later\n",
    "df.columns=['shop', 'text', 'rating']"
   ]
  },
  {
   "cell_type": "code",
   "execution_count": 19,
   "metadata": {},
   "outputs": [],
   "source": [
    "# changes rating column to have only the number (still as a string)\n",
    "df['rating'] = df['rating'].str[1:4]"
   ]
  },
  {
   "cell_type": "code",
   "execution_count": 20,
   "metadata": {},
   "outputs": [],
   "source": [
    "# converts number string to float, then float to int\n",
    "df['rating'] = df['rating'].astype(float)\n",
    "df['rating'] = df['rating'].astype(int)"
   ]
  },
  {
   "cell_type": "code",
   "execution_count": 21,
   "metadata": {},
   "outputs": [],
   "source": [
    "# creates a date column\n",
    "df['date'] = df['text'].str.split(' ').apply(lambda x: x[1])"
   ]
  },
  {
   "cell_type": "code",
   "execution_count": 22,
   "metadata": {},
   "outputs": [],
   "source": [
    "# converts data column to datetime dtype\n",
    "df['date'] = df['date'].apply(pd.to_datetime)"
   ]
  },
  {
   "cell_type": "code",
   "execution_count": 23,
   "metadata": {},
   "outputs": [],
   "source": [
    "# removes punctuation with regex given in lecture\n",
    "df['text'] = df['text'].apply(lambda x: re.sub(r'[^a-zA-Z ^0-9]', '', x))"
   ]
  },
  {
   "cell_type": "code",
   "execution_count": 24,
   "metadata": {},
   "outputs": [],
   "source": [
    "# changes text to be lowercase\n",
    "df['text'] = df['text'].apply(lambda x: x.lower())"
   ]
  },
  {
   "cell_type": "code",
   "execution_count": 25,
   "metadata": {},
   "outputs": [],
   "source": [
    "# creates a new column with tokenized data using lecture function\n",
    "df['tokens'] = df['text'].apply(tokenizer)\n",
    "\n",
    "# takes every token past the date token\n",
    "df['tokens'] = df['tokens'].apply(lambda x: x[2:])\n",
    "\n",
    "df['tokens'] = df['tokens'].apply(lambda x: rm_stopwords(x))\n",
    "\n",
    "# converts tokens to list of lemmas\n",
    "df['tokens'] = df['tokens'].apply(lambda x: \n",
    "                [token.lemma_ for token in x])\n",
    "\n",
    "# creates a counter for the tokens\n",
    "df['counter'] = df['tokens'].apply(Counter)"
   ]
  },
  {
   "cell_type": "code",
   "execution_count": 26,
   "metadata": {},
   "outputs": [
    {
     "data": {
      "text/html": [
       "<div>\n",
       "<style scoped>\n",
       "    .dataframe tbody tr th:only-of-type {\n",
       "        vertical-align: middle;\n",
       "    }\n",
       "\n",
       "    .dataframe tbody tr th {\n",
       "        vertical-align: top;\n",
       "    }\n",
       "\n",
       "    .dataframe thead th {\n",
       "        text-align: right;\n",
       "    }\n",
       "</style>\n",
       "<table border=\"1\" class=\"dataframe\">\n",
       "  <thead>\n",
       "    <tr style=\"text-align: right;\">\n",
       "      <th></th>\n",
       "      <th>shop</th>\n",
       "      <th>text</th>\n",
       "      <th>rating</th>\n",
       "      <th>date</th>\n",
       "      <th>tokens</th>\n",
       "      <th>counter</th>\n",
       "    </tr>\n",
       "  </thead>\n",
       "  <tbody>\n",
       "    <tr>\n",
       "      <th>0</th>\n",
       "      <td>The Factory - Cafe With a Soul</td>\n",
       "      <td>11252016 1 checkin love love loved the atmosp...</td>\n",
       "      <td>5</td>\n",
       "      <td>2016-11-25</td>\n",
       "      <td>[1, checkin, love, love, love, atmosphere, cor...</td>\n",
       "      <td>{'1': 1, 'checkin': 1, 'love': 3, 'atmosphere'...</td>\n",
       "    </tr>\n",
       "    <tr>\n",
       "      <th>1</th>\n",
       "      <td>The Factory - Cafe With a Soul</td>\n",
       "      <td>1222016 listed in date night austin ambiance ...</td>\n",
       "      <td>4</td>\n",
       "      <td>2016-12-02</td>\n",
       "      <td>[list, date, night, austin, ambiance, austin, ...</td>\n",
       "      <td>{'list': 1, 'date': 1, 'night': 1, 'austin': 2...</td>\n",
       "    </tr>\n",
       "    <tr>\n",
       "      <th>2</th>\n",
       "      <td>The Factory - Cafe With a Soul</td>\n",
       "      <td>11302016 1 checkin listed in brunch spots i l...</td>\n",
       "      <td>4</td>\n",
       "      <td>2016-11-30</td>\n",
       "      <td>[1, checkin, list, brunch, spot, love, eclecti...</td>\n",
       "      <td>{'1': 1, 'checkin': 1, 'list': 1, 'brunch': 2,...</td>\n",
       "    </tr>\n",
       "    <tr>\n",
       "      <th>3</th>\n",
       "      <td>The Factory - Cafe With a Soul</td>\n",
       "      <td>11252016 very cool decor good drinks nice sea...</td>\n",
       "      <td>2</td>\n",
       "      <td>2016-11-25</td>\n",
       "      <td>[cool, decor, good, drink, nice, seat, overpri...</td>\n",
       "      <td>{'cool': 1, 'decor': 1, 'good': 1, 'drink': 1,...</td>\n",
       "    </tr>\n",
       "    <tr>\n",
       "      <th>4</th>\n",
       "      <td>The Factory - Cafe With a Soul</td>\n",
       "      <td>1232016 1 checkin they are located within the...</td>\n",
       "      <td>4</td>\n",
       "      <td>2016-12-03</td>\n",
       "      <td>[1, checkin, locate, northcross, mall, shop, c...</td>\n",
       "      <td>{'1': 1, 'checkin': 1, 'locate': 1, 'northcros...</td>\n",
       "    </tr>\n",
       "  </tbody>\n",
       "</table>\n",
       "</div>"
      ],
      "text/plain": [
       "                              shop  \\\n",
       "0  The Factory - Cafe With a Soul    \n",
       "1  The Factory - Cafe With a Soul    \n",
       "2  The Factory - Cafe With a Soul    \n",
       "3  The Factory - Cafe With a Soul    \n",
       "4  The Factory - Cafe With a Soul    \n",
       "\n",
       "                                                text  rating       date  \\\n",
       "0   11252016 1 checkin love love loved the atmosp...       5 2016-11-25   \n",
       "1   1222016 listed in date night austin ambiance ...       4 2016-12-02   \n",
       "2   11302016 1 checkin listed in brunch spots i l...       4 2016-11-30   \n",
       "3   11252016 very cool decor good drinks nice sea...       2 2016-11-25   \n",
       "4   1232016 1 checkin they are located within the...       4 2016-12-03   \n",
       "\n",
       "                                              tokens  \\\n",
       "0  [1, checkin, love, love, love, atmosphere, cor...   \n",
       "1  [list, date, night, austin, ambiance, austin, ...   \n",
       "2  [1, checkin, list, brunch, spot, love, eclecti...   \n",
       "3  [cool, decor, good, drink, nice, seat, overpri...   \n",
       "4  [1, checkin, locate, northcross, mall, shop, c...   \n",
       "\n",
       "                                             counter  \n",
       "0  {'1': 1, 'checkin': 1, 'love': 3, 'atmosphere'...  \n",
       "1  {'list': 1, 'date': 1, 'night': 1, 'austin': 2...  \n",
       "2  {'1': 1, 'checkin': 1, 'list': 1, 'brunch': 2,...  \n",
       "3  {'cool': 1, 'decor': 1, 'good': 1, 'drink': 1,...  \n",
       "4  {'1': 1, 'checkin': 1, 'locate': 1, 'northcros...  "
      ]
     },
     "execution_count": 26,
     "metadata": {},
     "output_type": "execute_result"
    }
   ],
   "source": [
    "df.head()"
   ]
  },
  {
   "cell_type": "code",
   "execution_count": 27,
   "metadata": {},
   "outputs": [],
   "source": [
    "# sums the rows into one counter\n",
    "wordCount = df['counter'].sum()"
   ]
  },
  {
   "cell_type": "code",
   "execution_count": 28,
   "metadata": {},
   "outputs": [],
   "source": [
    "# creates dataframes for good and bad ratings\n",
    "dfGood = df[df['rating'] > 3]\n",
    "dfBad = df[df['rating'] < 4]\n",
    "\n",
    "# makes sure the size of the new dataframes add up to the size of the original dataframe\n",
    "assert len(df) == len(dfGood) + len(dfBad)"
   ]
  },
  {
   "cell_type": "code",
   "execution_count": 29,
   "metadata": {},
   "outputs": [],
   "source": [
    "# creates counters for good/bad reivews\n",
    "wordCountGood = dfGood['counter'].sum()\n",
    "wordCountBad = dfBad['counter'].sum()"
   ]
  },
  {
   "cell_type": "code",
   "execution_count": 30,
   "metadata": {},
   "outputs": [
    {
     "data": {
      "text/html": [
       "<div>\n",
       "<style scoped>\n",
       "    .dataframe tbody tr th:only-of-type {\n",
       "        vertical-align: middle;\n",
       "    }\n",
       "\n",
       "    .dataframe tbody tr th {\n",
       "        vertical-align: top;\n",
       "    }\n",
       "\n",
       "    .dataframe thead th {\n",
       "        text-align: right;\n",
       "    }\n",
       "</style>\n",
       "<table border=\"1\" class=\"dataframe\">\n",
       "  <thead>\n",
       "    <tr style=\"text-align: right;\">\n",
       "      <th></th>\n",
       "      <th>word</th>\n",
       "      <th>appears_in</th>\n",
       "      <th>count</th>\n",
       "      <th>rank</th>\n",
       "      <th>pct_total</th>\n",
       "      <th>cul_pct_total</th>\n",
       "      <th>appears_in_pct</th>\n",
       "    </tr>\n",
       "  </thead>\n",
       "  <tbody>\n",
       "    <tr>\n",
       "      <th>17</th>\n",
       "      <td>coffee</td>\n",
       "      <td>4924</td>\n",
       "      <td>10593</td>\n",
       "      <td>1.0</td>\n",
       "      <td>0.028664</td>\n",
       "      <td>0.028664</td>\n",
       "      <td>0.646534</td>\n",
       "    </tr>\n",
       "    <tr>\n",
       "      <th>93</th>\n",
       "      <td>place</td>\n",
       "      <td>3888</td>\n",
       "      <td>6044</td>\n",
       "      <td>2.0</td>\n",
       "      <td>0.016355</td>\n",
       "      <td>0.045019</td>\n",
       "      <td>0.510504</td>\n",
       "    </tr>\n",
       "    <tr>\n",
       "      <th>144</th>\n",
       "      <td>good</td>\n",
       "      <td>2883</td>\n",
       "      <td>4154</td>\n",
       "      <td>3.0</td>\n",
       "      <td>0.011241</td>\n",
       "      <td>0.056260</td>\n",
       "      <td>0.378545</td>\n",
       "    </tr>\n",
       "    <tr>\n",
       "      <th>98</th>\n",
       "      <td>great</td>\n",
       "      <td>2853</td>\n",
       "      <td>3946</td>\n",
       "      <td>4.0</td>\n",
       "      <td>0.010678</td>\n",
       "      <td>0.066937</td>\n",
       "      <td>0.374606</td>\n",
       "    </tr>\n",
       "    <tr>\n",
       "      <th>163</th>\n",
       "      <td>like</td>\n",
       "      <td>2267</td>\n",
       "      <td>3364</td>\n",
       "      <td>5.0</td>\n",
       "      <td>0.009103</td>\n",
       "      <td>0.076040</td>\n",
       "      <td>0.297663</td>\n",
       "    </tr>\n",
       "    <tr>\n",
       "      <th>397</th>\n",
       "      <td>come</td>\n",
       "      <td>1935</td>\n",
       "      <td>2636</td>\n",
       "      <td>6.0</td>\n",
       "      <td>0.007133</td>\n",
       "      <td>0.083173</td>\n",
       "      <td>0.254070</td>\n",
       "    </tr>\n",
       "    <tr>\n",
       "      <th>470</th>\n",
       "      <td>time</td>\n",
       "      <td>1753</td>\n",
       "      <td>2380</td>\n",
       "      <td>7.0</td>\n",
       "      <td>0.006440</td>\n",
       "      <td>0.089613</td>\n",
       "      <td>0.230173</td>\n",
       "    </tr>\n",
       "    <tr>\n",
       "      <th>11</th>\n",
       "      <td>love</td>\n",
       "      <td>1819</td>\n",
       "      <td>2376</td>\n",
       "      <td>8.0</td>\n",
       "      <td>0.006429</td>\n",
       "      <td>0.096043</td>\n",
       "      <td>0.238839</td>\n",
       "    </tr>\n",
       "    <tr>\n",
       "      <th>2</th>\n",
       "      <td>drink</td>\n",
       "      <td>1651</td>\n",
       "      <td>2375</td>\n",
       "      <td>9.0</td>\n",
       "      <td>0.006427</td>\n",
       "      <td>0.102469</td>\n",
       "      <td>0.216780</td>\n",
       "    </tr>\n",
       "    <tr>\n",
       "      <th>9</th>\n",
       "      <td>shop</td>\n",
       "      <td>1669</td>\n",
       "      <td>2253</td>\n",
       "      <td>10.0</td>\n",
       "      <td>0.006097</td>\n",
       "      <td>0.108566</td>\n",
       "      <td>0.219144</td>\n",
       "    </tr>\n",
       "  </tbody>\n",
       "</table>\n",
       "</div>"
      ],
      "text/plain": [
       "       word  appears_in  count  rank  pct_total  cul_pct_total  appears_in_pct\n",
       "17   coffee        4924  10593   1.0   0.028664       0.028664        0.646534\n",
       "93    place        3888   6044   2.0   0.016355       0.045019        0.510504\n",
       "144    good        2883   4154   3.0   0.011241       0.056260        0.378545\n",
       "98    great        2853   3946   4.0   0.010678       0.066937        0.374606\n",
       "163    like        2267   3364   5.0   0.009103       0.076040        0.297663\n",
       "397    come        1935   2636   6.0   0.007133       0.083173        0.254070\n",
       "470    time        1753   2380   7.0   0.006440       0.089613        0.230173\n",
       "11     love        1819   2376   8.0   0.006429       0.096043        0.238839\n",
       "2     drink        1651   2375   9.0   0.006427       0.102469        0.216780\n",
       "9      shop        1669   2253  10.0   0.006097       0.108566        0.219144"
      ]
     },
     "execution_count": 30,
     "metadata": {},
     "output_type": "execute_result"
    }
   ],
   "source": [
    "# looks at top 10 words from all reviews using lecture function\n",
    "# drops empty word\n",
    "wordsDF = count(df['counter'])\n",
    "wordsDF.head(10)"
   ]
  },
  {
   "cell_type": "code",
   "execution_count": 31,
   "metadata": {},
   "outputs": [
    {
     "data": {
      "text/html": [
       "<div>\n",
       "<style scoped>\n",
       "    .dataframe tbody tr th:only-of-type {\n",
       "        vertical-align: middle;\n",
       "    }\n",
       "\n",
       "    .dataframe tbody tr th {\n",
       "        vertical-align: top;\n",
       "    }\n",
       "\n",
       "    .dataframe thead th {\n",
       "        text-align: right;\n",
       "    }\n",
       "</style>\n",
       "<table border=\"1\" class=\"dataframe\">\n",
       "  <thead>\n",
       "    <tr style=\"text-align: right;\">\n",
       "      <th></th>\n",
       "      <th>word</th>\n",
       "      <th>appears_in</th>\n",
       "      <th>count</th>\n",
       "      <th>rank</th>\n",
       "      <th>pct_total</th>\n",
       "      <th>cul_pct_total</th>\n",
       "      <th>appears_in_pct</th>\n",
       "    </tr>\n",
       "  </thead>\n",
       "  <tbody>\n",
       "    <tr>\n",
       "      <th>17</th>\n",
       "      <td>coffee</td>\n",
       "      <td>3976</td>\n",
       "      <td>8421</td>\n",
       "      <td>1.0</td>\n",
       "      <td>0.029231</td>\n",
       "      <td>0.029231</td>\n",
       "      <td>0.647557</td>\n",
       "    </tr>\n",
       "    <tr>\n",
       "      <th>93</th>\n",
       "      <td>place</td>\n",
       "      <td>3133</td>\n",
       "      <td>4816</td>\n",
       "      <td>2.0</td>\n",
       "      <td>0.016717</td>\n",
       "      <td>0.045949</td>\n",
       "      <td>0.510261</td>\n",
       "    </tr>\n",
       "    <tr>\n",
       "      <th>98</th>\n",
       "      <td>great</td>\n",
       "      <td>2505</td>\n",
       "      <td>3474</td>\n",
       "      <td>3.0</td>\n",
       "      <td>0.012059</td>\n",
       "      <td>0.058008</td>\n",
       "      <td>0.407980</td>\n",
       "    </tr>\n",
       "    <tr>\n",
       "      <th>172</th>\n",
       "      <td>good</td>\n",
       "      <td>2279</td>\n",
       "      <td>3245</td>\n",
       "      <td>4.0</td>\n",
       "      <td>0.011264</td>\n",
       "      <td>0.069272</td>\n",
       "      <td>0.371173</td>\n",
       "    </tr>\n",
       "    <tr>\n",
       "      <th>194</th>\n",
       "      <td>like</td>\n",
       "      <td>1673</td>\n",
       "      <td>2423</td>\n",
       "      <td>5.0</td>\n",
       "      <td>0.008411</td>\n",
       "      <td>0.077682</td>\n",
       "      <td>0.272476</td>\n",
       "    </tr>\n",
       "    <tr>\n",
       "      <th>11</th>\n",
       "      <td>love</td>\n",
       "      <td>1608</td>\n",
       "      <td>2121</td>\n",
       "      <td>6.0</td>\n",
       "      <td>0.007362</td>\n",
       "      <td>0.085045</td>\n",
       "      <td>0.261889</td>\n",
       "    </tr>\n",
       "    <tr>\n",
       "      <th>384</th>\n",
       "      <td>come</td>\n",
       "      <td>1483</td>\n",
       "      <td>1986</td>\n",
       "      <td>7.0</td>\n",
       "      <td>0.006894</td>\n",
       "      <td>0.091939</td>\n",
       "      <td>0.241531</td>\n",
       "    </tr>\n",
       "    <tr>\n",
       "      <th>55</th>\n",
       "      <td>austin</td>\n",
       "      <td>1547</td>\n",
       "      <td>1969</td>\n",
       "      <td>8.0</td>\n",
       "      <td>0.006835</td>\n",
       "      <td>0.098774</td>\n",
       "      <td>0.251954</td>\n",
       "    </tr>\n",
       "    <tr>\n",
       "      <th>9</th>\n",
       "      <td>shop</td>\n",
       "      <td>1354</td>\n",
       "      <td>1820</td>\n",
       "      <td>9.0</td>\n",
       "      <td>0.006318</td>\n",
       "      <td>0.105091</td>\n",
       "      <td>0.220521</td>\n",
       "    </tr>\n",
       "    <tr>\n",
       "      <th>29</th>\n",
       "      <td>1</td>\n",
       "      <td>1713</td>\n",
       "      <td>1793</td>\n",
       "      <td>10.0</td>\n",
       "      <td>0.006224</td>\n",
       "      <td>0.111315</td>\n",
       "      <td>0.278990</td>\n",
       "    </tr>\n",
       "  </tbody>\n",
       "</table>\n",
       "</div>"
      ],
      "text/plain": [
       "       word  appears_in  count  rank  pct_total  cul_pct_total  appears_in_pct\n",
       "17   coffee        3976   8421   1.0   0.029231       0.029231        0.647557\n",
       "93    place        3133   4816   2.0   0.016717       0.045949        0.510261\n",
       "98    great        2505   3474   3.0   0.012059       0.058008        0.407980\n",
       "172    good        2279   3245   4.0   0.011264       0.069272        0.371173\n",
       "194    like        1673   2423   5.0   0.008411       0.077682        0.272476\n",
       "11     love        1608   2121   6.0   0.007362       0.085045        0.261889\n",
       "384    come        1483   1986   7.0   0.006894       0.091939        0.241531\n",
       "55   austin        1547   1969   8.0   0.006835       0.098774        0.251954\n",
       "9      shop        1354   1820   9.0   0.006318       0.105091        0.220521\n",
       "29        1        1713   1793  10.0   0.006224       0.111315        0.278990"
      ]
     },
     "execution_count": 31,
     "metadata": {},
     "output_type": "execute_result"
    }
   ],
   "source": [
    "# looks at top 10 words used in good reviews\n",
    "\n",
    "wordsGoodDF = count(dfGood['counter'])\n",
    "wordsGoodDF.head(10)"
   ]
  },
  {
   "cell_type": "code",
   "execution_count": 32,
   "metadata": {},
   "outputs": [
    {
     "data": {
      "text/html": [
       "<div>\n",
       "<style scoped>\n",
       "    .dataframe tbody tr th:only-of-type {\n",
       "        vertical-align: middle;\n",
       "    }\n",
       "\n",
       "    .dataframe tbody tr th {\n",
       "        vertical-align: top;\n",
       "    }\n",
       "\n",
       "    .dataframe thead th {\n",
       "        text-align: right;\n",
       "    }\n",
       "</style>\n",
       "<table border=\"1\" class=\"dataframe\">\n",
       "  <thead>\n",
       "    <tr style=\"text-align: right;\">\n",
       "      <th></th>\n",
       "      <th>word</th>\n",
       "      <th>appears_in</th>\n",
       "      <th>count</th>\n",
       "      <th>rank</th>\n",
       "      <th>pct_total</th>\n",
       "      <th>cul_pct_total</th>\n",
       "      <th>appears_in_pct</th>\n",
       "    </tr>\n",
       "  </thead>\n",
       "  <tbody>\n",
       "    <tr>\n",
       "      <th>16</th>\n",
       "      <td>coffee</td>\n",
       "      <td>948</td>\n",
       "      <td>2172</td>\n",
       "      <td>1.0</td>\n",
       "      <td>0.026660</td>\n",
       "      <td>0.026660</td>\n",
       "      <td>0.642276</td>\n",
       "    </tr>\n",
       "    <tr>\n",
       "      <th>35</th>\n",
       "      <td>place</td>\n",
       "      <td>755</td>\n",
       "      <td>1228</td>\n",
       "      <td>2.0</td>\n",
       "      <td>0.015073</td>\n",
       "      <td>0.041733</td>\n",
       "      <td>0.511518</td>\n",
       "    </tr>\n",
       "    <tr>\n",
       "      <th>36</th>\n",
       "      <td>like</td>\n",
       "      <td>594</td>\n",
       "      <td>941</td>\n",
       "      <td>3.0</td>\n",
       "      <td>0.011550</td>\n",
       "      <td>0.053283</td>\n",
       "      <td>0.402439</td>\n",
       "    </tr>\n",
       "    <tr>\n",
       "      <th>10</th>\n",
       "      <td>good</td>\n",
       "      <td>604</td>\n",
       "      <td>909</td>\n",
       "      <td>4.0</td>\n",
       "      <td>0.011157</td>\n",
       "      <td>0.064440</td>\n",
       "      <td>0.409214</td>\n",
       "    </tr>\n",
       "    <tr>\n",
       "      <th>42</th>\n",
       "      <td>order</td>\n",
       "      <td>443</td>\n",
       "      <td>780</td>\n",
       "      <td>5.0</td>\n",
       "      <td>0.009574</td>\n",
       "      <td>0.074014</td>\n",
       "      <td>0.300136</td>\n",
       "    </tr>\n",
       "    <tr>\n",
       "      <th>68</th>\n",
       "      <td>come</td>\n",
       "      <td>452</td>\n",
       "      <td>650</td>\n",
       "      <td>6.0</td>\n",
       "      <td>0.007978</td>\n",
       "      <td>0.081992</td>\n",
       "      <td>0.306233</td>\n",
       "    </tr>\n",
       "    <tr>\n",
       "      <th>204</th>\n",
       "      <td>time</td>\n",
       "      <td>422</td>\n",
       "      <td>614</td>\n",
       "      <td>7.0</td>\n",
       "      <td>0.007536</td>\n",
       "      <td>0.089529</td>\n",
       "      <td>0.285908</td>\n",
       "    </tr>\n",
       "    <tr>\n",
       "      <th>5</th>\n",
       "      <td>drink</td>\n",
       "      <td>365</td>\n",
       "      <td>613</td>\n",
       "      <td>8.0</td>\n",
       "      <td>0.007524</td>\n",
       "      <td>0.097053</td>\n",
       "      <td>0.247290</td>\n",
       "    </tr>\n",
       "    <tr>\n",
       "      <th>148</th>\n",
       "      <td>food</td>\n",
       "      <td>316</td>\n",
       "      <td>494</td>\n",
       "      <td>9.0</td>\n",
       "      <td>0.006064</td>\n",
       "      <td>0.103116</td>\n",
       "      <td>0.214092</td>\n",
       "    </tr>\n",
       "    <tr>\n",
       "      <th>99</th>\n",
       "      <td>great</td>\n",
       "      <td>348</td>\n",
       "      <td>472</td>\n",
       "      <td>10.0</td>\n",
       "      <td>0.005793</td>\n",
       "      <td>0.108910</td>\n",
       "      <td>0.235772</td>\n",
       "    </tr>\n",
       "  </tbody>\n",
       "</table>\n",
       "</div>"
      ],
      "text/plain": [
       "       word  appears_in  count  rank  pct_total  cul_pct_total  appears_in_pct\n",
       "16   coffee         948   2172   1.0   0.026660       0.026660        0.642276\n",
       "35    place         755   1228   2.0   0.015073       0.041733        0.511518\n",
       "36     like         594    941   3.0   0.011550       0.053283        0.402439\n",
       "10     good         604    909   4.0   0.011157       0.064440        0.409214\n",
       "42    order         443    780   5.0   0.009574       0.074014        0.300136\n",
       "68     come         452    650   6.0   0.007978       0.081992        0.306233\n",
       "204    time         422    614   7.0   0.007536       0.089529        0.285908\n",
       "5     drink         365    613   8.0   0.007524       0.097053        0.247290\n",
       "148    food         316    494   9.0   0.006064       0.103116        0.214092\n",
       "99    great         348    472  10.0   0.005793       0.108910        0.235772"
      ]
     },
     "execution_count": 32,
     "metadata": {},
     "output_type": "execute_result"
    }
   ],
   "source": [
    "# looks at top 10 words used in good reviews\n",
    "\n",
    "wordsBadDF = count(dfBad['counter'])\n",
    "wordsBadDF.head(10)"
   ]
  },
  {
   "cell_type": "code",
   "execution_count": 33,
   "metadata": {},
   "outputs": [],
   "source": [
    "# creates dataframe for seeing difference in word use for good/bad review word useage\n",
    "\n",
    "badDF = wordsBadDF[['word', 'appears_in_pct']]\n",
    "badDF.columns = ['word', 'percentage_in_bad']\n",
    "\n",
    "goodDF = wordsGoodDF[['word', 'appears_in_pct']]\n",
    "goodDF.columns = ['word', 'percentage_in_good']\n",
    "\n",
    "wordPercents = pd.merge(goodDF, badDF, on='word')"
   ]
  },
  {
   "cell_type": "code",
   "execution_count": 34,
   "metadata": {},
   "outputs": [],
   "source": [
    "# creates a difference column\n",
    "wordPercents['difference'] = wordPercents['percentage_in_good'] - wordPercents['percentage_in_bad']"
   ]
  },
  {
   "cell_type": "code",
   "execution_count": 35,
   "metadata": {},
   "outputs": [
    {
     "data": {
      "text/html": [
       "<div>\n",
       "<style scoped>\n",
       "    .dataframe tbody tr th:only-of-type {\n",
       "        vertical-align: middle;\n",
       "    }\n",
       "\n",
       "    .dataframe tbody tr th {\n",
       "        vertical-align: top;\n",
       "    }\n",
       "\n",
       "    .dataframe thead th {\n",
       "        text-align: right;\n",
       "    }\n",
       "</style>\n",
       "<table border=\"1\" class=\"dataframe\">\n",
       "  <thead>\n",
       "    <tr style=\"text-align: right;\">\n",
       "      <th></th>\n",
       "      <th>word</th>\n",
       "      <th>percentage_in_good</th>\n",
       "      <th>percentage_in_bad</th>\n",
       "      <th>difference</th>\n",
       "    </tr>\n",
       "  </thead>\n",
       "  <tbody>\n",
       "    <tr>\n",
       "      <th>2</th>\n",
       "      <td>great</td>\n",
       "      <td>0.407980</td>\n",
       "      <td>0.235772</td>\n",
       "      <td>0.172208</td>\n",
       "    </tr>\n",
       "    <tr>\n",
       "      <th>24</th>\n",
       "      <td>delicious</td>\n",
       "      <td>0.191857</td>\n",
       "      <td>0.056233</td>\n",
       "      <td>0.135624</td>\n",
       "    </tr>\n",
       "    <tr>\n",
       "      <th>5</th>\n",
       "      <td>love</td>\n",
       "      <td>0.261889</td>\n",
       "      <td>0.142954</td>\n",
       "      <td>0.118935</td>\n",
       "    </tr>\n",
       "    <tr>\n",
       "      <th>17</th>\n",
       "      <td>friendly</td>\n",
       "      <td>0.231270</td>\n",
       "      <td>0.122629</td>\n",
       "      <td>0.108642</td>\n",
       "    </tr>\n",
       "    <tr>\n",
       "      <th>7</th>\n",
       "      <td>austin</td>\n",
       "      <td>0.251954</td>\n",
       "      <td>0.163279</td>\n",
       "      <td>0.088675</td>\n",
       "    </tr>\n",
       "  </tbody>\n",
       "</table>\n",
       "</div>"
      ],
      "text/plain": [
       "         word  percentage_in_good  percentage_in_bad  difference\n",
       "2       great            0.407980           0.235772    0.172208\n",
       "24  delicious            0.191857           0.056233    0.135624\n",
       "5        love            0.261889           0.142954    0.118935\n",
       "17   friendly            0.231270           0.122629    0.108642\n",
       "7      austin            0.251954           0.163279    0.088675"
      ]
     },
     "execution_count": 35,
     "metadata": {},
     "output_type": "execute_result"
    }
   ],
   "source": [
    "# shows top 10 words used more in good reviews than bad reviews\n",
    "wordPercents.sort_values('difference', ascending=False).head()"
   ]
  },
  {
   "cell_type": "code",
   "execution_count": 36,
   "metadata": {},
   "outputs": [
    {
     "data": {
      "text/html": [
       "<div>\n",
       "<style scoped>\n",
       "    .dataframe tbody tr th:only-of-type {\n",
       "        vertical-align: middle;\n",
       "    }\n",
       "\n",
       "    .dataframe tbody tr th {\n",
       "        vertical-align: top;\n",
       "    }\n",
       "\n",
       "    .dataframe thead th {\n",
       "        text-align: right;\n",
       "    }\n",
       "</style>\n",
       "<table border=\"1\" class=\"dataframe\">\n",
       "  <thead>\n",
       "    <tr style=\"text-align: right;\">\n",
       "      <th></th>\n",
       "      <th>word</th>\n",
       "      <th>percentage_in_good</th>\n",
       "      <th>percentage_in_bad</th>\n",
       "      <th>difference</th>\n",
       "    </tr>\n",
       "  </thead>\n",
       "  <tbody>\n",
       "    <tr>\n",
       "      <th>22</th>\n",
       "      <td>order</td>\n",
       "      <td>0.167590</td>\n",
       "      <td>0.300136</td>\n",
       "      <td>-0.132546</td>\n",
       "    </tr>\n",
       "    <tr>\n",
       "      <th>4</th>\n",
       "      <td>like</td>\n",
       "      <td>0.272476</td>\n",
       "      <td>0.402439</td>\n",
       "      <td>-0.129963</td>\n",
       "    </tr>\n",
       "    <tr>\n",
       "      <th>269</th>\n",
       "      <td>okay</td>\n",
       "      <td>0.032899</td>\n",
       "      <td>0.145664</td>\n",
       "      <td>-0.112765</td>\n",
       "    </tr>\n",
       "    <tr>\n",
       "      <th>36</th>\n",
       "      <td>do</td>\n",
       "      <td>0.133876</td>\n",
       "      <td>0.238482</td>\n",
       "      <td>-0.104606</td>\n",
       "    </tr>\n",
       "    <tr>\n",
       "      <th>152</th>\n",
       "      <td>ask</td>\n",
       "      <td>0.050651</td>\n",
       "      <td>0.149051</td>\n",
       "      <td>-0.098400</td>\n",
       "    </tr>\n",
       "  </tbody>\n",
       "</table>\n",
       "</div>"
      ],
      "text/plain": [
       "      word  percentage_in_good  percentage_in_bad  difference\n",
       "22   order            0.167590           0.300136   -0.132546\n",
       "4     like            0.272476           0.402439   -0.129963\n",
       "269   okay            0.032899           0.145664   -0.112765\n",
       "36      do            0.133876           0.238482   -0.104606\n",
       "152    ask            0.050651           0.149051   -0.098400"
      ]
     },
     "execution_count": 36,
     "metadata": {},
     "output_type": "execute_result"
    }
   ],
   "source": [
    "# shows top 10 words used more in bad reviews than good reviews\n",
    "wordPercents.sort_values('difference').head()"
   ]
  },
  {
   "cell_type": "code",
   "execution_count": 37,
   "metadata": {},
   "outputs": [
    {
     "data": {
      "text/html": [
       "<div>\n",
       "<style scoped>\n",
       "    .dataframe tbody tr th:only-of-type {\n",
       "        vertical-align: middle;\n",
       "    }\n",
       "\n",
       "    .dataframe tbody tr th {\n",
       "        vertical-align: top;\n",
       "    }\n",
       "\n",
       "    .dataframe thead th {\n",
       "        text-align: right;\n",
       "    }\n",
       "</style>\n",
       "<table border=\"1\" class=\"dataframe\">\n",
       "  <thead>\n",
       "    <tr style=\"text-align: right;\">\n",
       "      <th></th>\n",
       "      <th>shop</th>\n",
       "      <th>text</th>\n",
       "      <th>rating</th>\n",
       "      <th>date</th>\n",
       "      <th>tokens</th>\n",
       "      <th>counter</th>\n",
       "    </tr>\n",
       "  </thead>\n",
       "  <tbody>\n",
       "    <tr>\n",
       "      <th>2888</th>\n",
       "      <td>Thunderbird Coffee</td>\n",
       "      <td>10262016 1 checkin after living in sf for man...</td>\n",
       "      <td>4</td>\n",
       "      <td>2016-10-26</td>\n",
       "      <td>[1, checkin, live, sf, year, ive, develope, pr...</td>\n",
       "      <td>{'1': 1, 'checkin': 1, 'live': 1, 'sf': 1, 'ye...</td>\n",
       "    </tr>\n",
       "    <tr>\n",
       "      <th>2889</th>\n",
       "      <td>Thunderbird Coffee</td>\n",
       "      <td>9172016 1 checkin i came a few minutes before...</td>\n",
       "      <td>4</td>\n",
       "      <td>2016-09-17</td>\n",
       "      <td>[1, checkin, come, minute, close, host, happil...</td>\n",
       "      <td>{'1': 1, 'checkin': 1, 'come': 3, 'minute': 1,...</td>\n",
       "    </tr>\n",
       "    <tr>\n",
       "      <th>2890</th>\n",
       "      <td>Thunderbird Coffee</td>\n",
       "      <td>962016 1 checkin easy to spot and is located ...</td>\n",
       "      <td>4</td>\n",
       "      <td>2016-09-06</td>\n",
       "      <td>[1, checkin, easy, spot, locate, nice, little,...</td>\n",
       "      <td>{'1': 1, 'checkin': 1, 'easy': 1, 'spot': 5, '...</td>\n",
       "    </tr>\n",
       "    <tr>\n",
       "      <th>2891</th>\n",
       "      <td>Thunderbird Coffee</td>\n",
       "      <td>1232016 plenty of seating limited selection o...</td>\n",
       "      <td>4</td>\n",
       "      <td>2016-12-03</td>\n",
       "      <td>[plenty, seat, limit, selection, bake, good, a...</td>\n",
       "      <td>{'plenty': 1, 'seat': 2, 'limit': 1, 'selectio...</td>\n",
       "    </tr>\n",
       "    <tr>\n",
       "      <th>2892</th>\n",
       "      <td>Thunderbird Coffee</td>\n",
       "      <td>6242016 updated review 1 checkin i love thund...</td>\n",
       "      <td>5</td>\n",
       "      <td>2016-06-24</td>\n",
       "      <td>[update, review, 1, checkin, love, thunderbird...</td>\n",
       "      <td>{'update': 1, 'review': 1, '1': 1, 'checkin': ...</td>\n",
       "    </tr>\n",
       "  </tbody>\n",
       "</table>\n",
       "</div>"
      ],
      "text/plain": [
       "                     shop                                               text  \\\n",
       "2888  Thunderbird Coffee    10262016 1 checkin after living in sf for man...   \n",
       "2889  Thunderbird Coffee    9172016 1 checkin i came a few minutes before...   \n",
       "2890  Thunderbird Coffee    962016 1 checkin easy to spot and is located ...   \n",
       "2891  Thunderbird Coffee    1232016 plenty of seating limited selection o...   \n",
       "2892  Thunderbird Coffee    6242016 updated review 1 checkin i love thund...   \n",
       "\n",
       "      rating       date                                             tokens  \\\n",
       "2888       4 2016-10-26  [1, checkin, live, sf, year, ive, develope, pr...   \n",
       "2889       4 2016-09-17  [1, checkin, come, minute, close, host, happil...   \n",
       "2890       4 2016-09-06  [1, checkin, easy, spot, locate, nice, little,...   \n",
       "2891       4 2016-12-03  [plenty, seat, limit, selection, bake, good, a...   \n",
       "2892       5 2016-06-24  [update, review, 1, checkin, love, thunderbird...   \n",
       "\n",
       "                                                counter  \n",
       "2888  {'1': 1, 'checkin': 1, 'live': 1, 'sf': 1, 'ye...  \n",
       "2889  {'1': 1, 'checkin': 1, 'come': 3, 'minute': 1,...  \n",
       "2890  {'1': 1, 'checkin': 1, 'easy': 1, 'spot': 5, '...  \n",
       "2891  {'plenty': 1, 'seat': 2, 'limit': 1, 'selectio...  \n",
       "2892  {'update': 1, 'review': 1, '1': 1, 'checkin': ...  "
      ]
     },
     "execution_count": 37,
     "metadata": {},
     "output_type": "execute_result"
    }
   ],
   "source": [
    "# presentation data analysis\n",
    "# I was not given a coffee shop to analyze so I picked one with a name I liked\n",
    "\n",
    "# creating df with only \n",
    "tbc = df[df['shop'] == 'Thunderbird Coffee ']\n",
    "\n",
    "tbc.head()"
   ]
  },
  {
   "cell_type": "code",
   "execution_count": 38,
   "metadata": {},
   "outputs": [
    {
     "data": {
      "text/plain": [
       "count    100.000000\n",
       "mean       3.970000\n",
       "std        0.999545\n",
       "min        1.000000\n",
       "25%        4.000000\n",
       "50%        4.000000\n",
       "75%        5.000000\n",
       "max        5.000000\n",
       "Name: rating, dtype: float64"
      ]
     },
     "execution_count": 38,
     "metadata": {},
     "output_type": "execute_result"
    }
   ],
   "source": [
    "# looking at basic data from the review tab\n",
    "\n",
    "tbc['rating'].describe()"
   ]
  },
  {
   "cell_type": "code",
   "execution_count": 39,
   "metadata": {},
   "outputs": [
    {
     "data": {
      "image/png": "[encoded data removed]",
      "text/plain": [
       "<Figure size 432x288 with 1 Axes>"
      ]
     },
     "metadata": {
      "needs_background": "light"
     },
     "output_type": "display_data"
    }
   ],
   "source": [
    "ratingCount = pd.DataFrame(tbc['rating'].value_counts()).reset_index()\n",
    "\n",
    "ratingCount.columns = ['rating', 'count']\n",
    "\n",
    "ratingCount.sort_values('rating')\n",
    "\n",
    "sns.barplot(x=ratingCount['rating'], \n",
    "            y=ratingCount['count'], \n",
    "            color='#DC2087').set_title('Rating Counts')\n",
    "\n",
    "plt.savefig('rating_counts.png')\n",
    "plt.show();"
   ]
  },
  {
   "cell_type": "code",
   "execution_count": 40,
   "metadata": {},
   "outputs": [],
   "source": [
    "# splits dataframe into three time periods to compare ratings over time\n",
    "\n",
    "late = tbc[tbc['date'] >= '2016-2']\n",
    "\n",
    "mid = tbc[(tbc['date'] < '2016-2') &\n",
    "                (tbc['date'] >= '2015-5')]\n",
    "                \n",
    "early = tbc[tbc['date'] < '2015-5']\n",
    "\n",
    "assert(len(late) + len(mid) + len(early) == len(tbc))"
   ]
  },
  {
   "cell_type": "code",
   "execution_count": 41,
   "metadata": {},
   "outputs": [],
   "source": [
    "# gets average rating for time periods\n",
    "earlyAVG = early['rating'].sum()/len(late)\n",
    "midAVG = mid['rating'].sum()/len(late)\n",
    "lateAVG = late['rating'].sum()/len(late)"
   ]
  },
  {
   "cell_type": "code",
   "execution_count": 42,
   "metadata": {},
   "outputs": [
    {
     "data": {
      "image/png": "[encoded data removed]",
      "text/plain": [
       "<Figure size 432x288 with 1 Axes>"
      ]
     },
     "metadata": {
      "needs_background": "light"
     },
     "output_type": "display_data"
    }
   ],
   "source": [
    "# plots the averages\n",
    "\n",
    "avgs = [earlyAVG, midAVG, lateAVG]\n",
    "labels = ['early', \n",
    "          'middle', \n",
    "          'later']\n",
    "\n",
    "sns.barplot(x=labels, y=avgs).set_title('Average Rating over Time');\n",
    "plt.savefig('avg_rating.png')\n",
    "plt.show();"
   ]
  },
  {
   "cell_type": "code",
   "execution_count": 43,
   "metadata": {},
   "outputs": [
    {
     "data": {
      "text/plain": [
       "3.875"
      ]
     },
     "execution_count": 43,
     "metadata": {},
     "output_type": "execute_result"
    }
   ],
   "source": [
    "lateAVG"
   ]
  },
  {
   "cell_type": "code",
   "execution_count": 44,
   "metadata": {},
   "outputs": [],
   "source": [
    "# creates dataframes for good and bad ratings\n",
    "tbcGood = dfGood[dfGood['shop'] == 'Thunderbird Coffee ']\n",
    "tbcBad = dfBad[dfBad['shop'] == 'Thunderbird Coffee ']\n",
    "\n",
    "# makes sure the size of the new dataframes add up to the size of the original dataframe\n",
    "assert len(tbc) == len(tbcGood) + len(tbcBad)"
   ]
  },
  {
   "cell_type": "code",
   "execution_count": 45,
   "metadata": {},
   "outputs": [
    {
     "data": {
      "text/html": [
       "<div>\n",
       "<style scoped>\n",
       "    .dataframe tbody tr th:only-of-type {\n",
       "        vertical-align: middle;\n",
       "    }\n",
       "\n",
       "    .dataframe tbody tr th {\n",
       "        vertical-align: top;\n",
       "    }\n",
       "\n",
       "    .dataframe thead th {\n",
       "        text-align: right;\n",
       "    }\n",
       "</style>\n",
       "<table border=\"1\" class=\"dataframe\">\n",
       "  <thead>\n",
       "    <tr style=\"text-align: right;\">\n",
       "      <th></th>\n",
       "      <th>word</th>\n",
       "      <th>appears_in</th>\n",
       "      <th>count</th>\n",
       "      <th>rank</th>\n",
       "      <th>pct_total</th>\n",
       "      <th>cul_pct_total</th>\n",
       "      <th>appears_in_pct</th>\n",
       "    </tr>\n",
       "  </thead>\n",
       "  <tbody>\n",
       "    <tr>\n",
       "      <th>23</th>\n",
       "      <td>coffee</td>\n",
       "      <td>61</td>\n",
       "      <td>121</td>\n",
       "      <td>1.0</td>\n",
       "      <td>0.030986</td>\n",
       "      <td>0.030986</td>\n",
       "      <td>0.792208</td>\n",
       "    </tr>\n",
       "    <tr>\n",
       "      <th>57</th>\n",
       "      <td>good</td>\n",
       "      <td>42</td>\n",
       "      <td>68</td>\n",
       "      <td>2.0</td>\n",
       "      <td>0.017414</td>\n",
       "      <td>0.048399</td>\n",
       "      <td>0.545455</td>\n",
       "    </tr>\n",
       "    <tr>\n",
       "      <th>89</th>\n",
       "      <td>place</td>\n",
       "      <td>40</td>\n",
       "      <td>65</td>\n",
       "      <td>3.0</td>\n",
       "      <td>0.016645</td>\n",
       "      <td>0.065045</td>\n",
       "      <td>0.519481</td>\n",
       "    </tr>\n",
       "    <tr>\n",
       "      <th>14</th>\n",
       "      <td>latte</td>\n",
       "      <td>28</td>\n",
       "      <td>48</td>\n",
       "      <td>4.0</td>\n",
       "      <td>0.012292</td>\n",
       "      <td>0.077337</td>\n",
       "      <td>0.363636</td>\n",
       "    </tr>\n",
       "    <tr>\n",
       "      <th>161</th>\n",
       "      <td>great</td>\n",
       "      <td>31</td>\n",
       "      <td>43</td>\n",
       "      <td>5.0</td>\n",
       "      <td>0.011012</td>\n",
       "      <td>0.088348</td>\n",
       "      <td>0.402597</td>\n",
       "    </tr>\n",
       "  </tbody>\n",
       "</table>\n",
       "</div>"
      ],
      "text/plain": [
       "       word  appears_in  count  rank  pct_total  cul_pct_total  appears_in_pct\n",
       "23   coffee          61    121   1.0   0.030986       0.030986        0.792208\n",
       "57     good          42     68   2.0   0.017414       0.048399        0.545455\n",
       "89    place          40     65   3.0   0.016645       0.065045        0.519481\n",
       "14    latte          28     48   4.0   0.012292       0.077337        0.363636\n",
       "161   great          31     43   5.0   0.011012       0.088348        0.402597"
      ]
     },
     "execution_count": 45,
     "metadata": {},
     "output_type": "execute_result"
    }
   ],
   "source": [
    "# looks at top 5 words from good reviews using lecture function\n",
    "\n",
    "good_words = count(tbcGood['counter'])\n",
    "\n",
    "good_words.head()"
   ]
  },
  {
   "cell_type": "code",
   "execution_count": 46,
   "metadata": {},
   "outputs": [
    {
     "data": {
      "text/html": [
       "<div>\n",
       "<style scoped>\n",
       "    .dataframe tbody tr th:only-of-type {\n",
       "        vertical-align: middle;\n",
       "    }\n",
       "\n",
       "    .dataframe tbody tr th {\n",
       "        vertical-align: top;\n",
       "    }\n",
       "\n",
       "    .dataframe thead th {\n",
       "        text-align: right;\n",
       "    }\n",
       "</style>\n",
       "<table border=\"1\" class=\"dataframe\">\n",
       "  <thead>\n",
       "    <tr style=\"text-align: right;\">\n",
       "      <th></th>\n",
       "      <th>word</th>\n",
       "      <th>appears_in</th>\n",
       "      <th>count</th>\n",
       "      <th>rank</th>\n",
       "      <th>pct_total</th>\n",
       "      <th>cul_pct_total</th>\n",
       "      <th>appears_in_pct</th>\n",
       "    </tr>\n",
       "  </thead>\n",
       "  <tbody>\n",
       "    <tr>\n",
       "      <th>15</th>\n",
       "      <td>coffee</td>\n",
       "      <td>20</td>\n",
       "      <td>41</td>\n",
       "      <td>1.0</td>\n",
       "      <td>0.029883</td>\n",
       "      <td>0.029883</td>\n",
       "      <td>0.869565</td>\n",
       "    </tr>\n",
       "    <tr>\n",
       "      <th>54</th>\n",
       "      <td>place</td>\n",
       "      <td>9</td>\n",
       "      <td>24</td>\n",
       "      <td>2.0</td>\n",
       "      <td>0.017493</td>\n",
       "      <td>0.047376</td>\n",
       "      <td>0.391304</td>\n",
       "    </tr>\n",
       "    <tr>\n",
       "      <th>63</th>\n",
       "      <td>order</td>\n",
       "      <td>10</td>\n",
       "      <td>19</td>\n",
       "      <td>3.0</td>\n",
       "      <td>0.013848</td>\n",
       "      <td>0.061224</td>\n",
       "      <td>0.434783</td>\n",
       "    </tr>\n",
       "    <tr>\n",
       "      <th>55</th>\n",
       "      <td>like</td>\n",
       "      <td>8</td>\n",
       "      <td>14</td>\n",
       "      <td>4.0</td>\n",
       "      <td>0.010204</td>\n",
       "      <td>0.071429</td>\n",
       "      <td>0.347826</td>\n",
       "    </tr>\n",
       "    <tr>\n",
       "      <th>76</th>\n",
       "      <td>im</td>\n",
       "      <td>8</td>\n",
       "      <td>13</td>\n",
       "      <td>5.0</td>\n",
       "      <td>0.009475</td>\n",
       "      <td>0.080904</td>\n",
       "      <td>0.347826</td>\n",
       "    </tr>\n",
       "  </tbody>\n",
       "</table>\n",
       "</div>"
      ],
      "text/plain": [
       "      word  appears_in  count  rank  pct_total  cul_pct_total  appears_in_pct\n",
       "15  coffee          20     41   1.0   0.029883       0.029883        0.869565\n",
       "54   place           9     24   2.0   0.017493       0.047376        0.391304\n",
       "63   order          10     19   3.0   0.013848       0.061224        0.434783\n",
       "55    like           8     14   4.0   0.010204       0.071429        0.347826\n",
       "76      im           8     13   5.0   0.009475       0.080904        0.347826"
      ]
     },
     "execution_count": 46,
     "metadata": {},
     "output_type": "execute_result"
    }
   ],
   "source": [
    "# looks at top 5 words from bad reviews using lecture function\n",
    "\n",
    "bad_words = count(tbcBad['counter'])\n",
    "\n",
    "bad_words.head()"
   ]
  },
  {
   "cell_type": "code",
   "execution_count": 47,
   "metadata": {},
   "outputs": [
    {
     "data": {
      "image/png": "[encoded data removed]",
      "text/plain": [
       "<Figure size 432x288 with 1 Axes>"
      ]
     },
     "metadata": {
      "needs_background": "light"
     },
     "output_type": "display_data"
    }
   ],
   "source": [
    "top20good = good_words[good_words['rank'] < 21]\n",
    "\n",
    "squarify.plot(sizes=top20good['count'], label=top20good['word']);"
   ]
  },
  {
   "cell_type": "code",
   "execution_count": 48,
   "metadata": {},
   "outputs": [
    {
     "data": {
      "image/png": "[encoded data removed]",
      "text/plain": [
       "<Figure size 432x288 with 1 Axes>"
      ]
     },
     "metadata": {
      "needs_background": "light"
     },
     "output_type": "display_data"
    }
   ],
   "source": [
    "top20bad = bad_words[bad_words['rank'] < 21]\n",
    "\n",
    "squarify.plot(sizes=top20bad['count'], label=top20bad['word']);"
   ]
  },
  {
   "cell_type": "code",
   "execution_count": 49,
   "metadata": {},
   "outputs": [],
   "source": [
    "# creates dataframe for seeing difference in word use for good/bad review word useage\n",
    "badDFtbc = bad_words[['word', 'appears_in_pct']]\n",
    "badDFtbc.columns = ['word', 'percentage_in_bad']\n",
    "\n",
    "goodDFtbc = good_words[['word', 'appears_in_pct']]\n",
    "goodDFtbc.columns = ['word', 'percentage_in_good']\n",
    "\n",
    "wordPercents_tbc = pd.merge(goodDFtbc, badDFtbc, on='word')\n",
    "\n",
    "# creates a difference column\n",
    "wordPercents_tbc['difference'] = wordPercents_tbc['percentage_in_good'] - wordPercents_tbc['percentage_in_bad']"
   ]
  },
  {
   "cell_type": "code",
   "execution_count": 50,
   "metadata": {},
   "outputs": [
    {
     "data": {
      "image/png": "[encoded data removed]",
      "text/plain": [
       "<Figure size 432x288 with 1 Axes>"
      ]
     },
     "metadata": {
      "needs_background": "light"
     },
     "output_type": "display_data"
    }
   ],
   "source": [
    "# shows top 20 words used more in bad reviews than good reviews\n",
    "badPercents = wordPercents_tbc.sort_values('difference').head(20)\n",
    "\n",
    "squarify.plot(sizes=badPercents['difference'].apply(abs), \n",
    "              label=badPercents['word'])\n",
    "\n",
    "plt.savefig('bad.png')\n",
    "plt.show()"
   ]
  },
  {
   "cell_type": "code",
   "execution_count": 51,
   "metadata": {},
   "outputs": [
    {
     "data": {
      "image/png": "[encoded data removed]",
      "text/plain": [
       "<Figure size 432x288 with 1 Axes>"
      ]
     },
     "metadata": {
      "needs_background": "light"
     },
     "output_type": "display_data"
    }
   ],
   "source": [
    "# shows top 10 words used more in bad reviews than good reviews\n",
    "goodPercents = wordPercents_tbc.sort_values('difference').tail(20)\n",
    "\n",
    "squarify.plot(sizes=goodPercents['difference'].apply(abs), \n",
    "              label=goodPercents['word'])\n",
    "\n",
    "plt.savefig('good.png')\n",
    "plt.show()"
   ]
  },
  {
   "cell_type": "code",
   "execution_count": null,
   "metadata": {},
   "outputs": [],
   "source": []
  }
 ],
 "metadata": {
  "kernelspec": {
   "display_name": "U4-S1-NLP (Python3)",
   "language": "python",
   "name": "u4-s1-nlp"
  },
  "language_info": {
   "codemirror_mode": {
    "name": "ipython",
    "version": 3
   },
   "file_extension": ".py",
   "mimetype": "text/x-python",
   "name": "python",
   "nbconvert_exporter": "python",
   "pygments_lexer": "ipython3",
   "version": "3.7.0"
  }
 },
 "nbformat": 4,
 "nbformat_minor": 4
}
