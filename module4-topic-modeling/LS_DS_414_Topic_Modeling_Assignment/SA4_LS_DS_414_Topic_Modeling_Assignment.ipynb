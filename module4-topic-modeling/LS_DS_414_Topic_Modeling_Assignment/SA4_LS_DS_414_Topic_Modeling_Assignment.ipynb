{
  "nbformat": 4,
  "nbformat_minor": 0,
  "metadata": {
    "kernelspec": {
      "display_name": "U4-S1-NLP (Python 3)",
      "language": "python",
      "name": "u4-s1-nlp"
    },
    "language_info": {
      "codemirror_mode": {
        "name": "ipython",
        "version": 3
      },
      "file_extension": ".py",
      "mimetype": "text/x-python",
      "name": "python",
      "nbconvert_exporter": "python",
      "pygments_lexer": "ipython3",
      "version": "3.7.3"
    },
    "colab": {
      "name": "SA4_LS_DS_414_Topic_Modeling_Assignment.ipynb",
      "provenance": [],
      "include_colab_link": true
    }
  },
  "cells": [
    {
      "cell_type": "markdown",
      "metadata": {
        "id": "view-in-github",
        "colab_type": "text"
      },
      "source": [
        "<a href=\"https://colab.research.google.com/github/shemaaali/DS-Unit-4-Sprint-1-NLP/blob/main/module4-topic-modeling/LS_DS_414_Topic_Modeling_Assignment/SA4_LS_DS_414_Topic_Modeling_Assignment.ipynb\" target=\"_parent\"><img src=\"https://colab.research.google.com/assets/colab-badge.svg\" alt=\"Open In Colab\"/></a>"
      ]
    },
    {
      "cell_type": "markdown",
      "metadata": {
        "id": "lsgN_mT_D3XI"
      },
      "source": [
        "<img align=\"left\" src=\"https://lever-client-logos.s3.amazonaws.com/864372b1-534c-480e-acd5-9711f850815c-1524247202159.png\" width=200>\n",
        "<br></br>\n",
        "<br></br>\n",
        "\n",
        "# Topic Modeling\n",
        "## *Data Science Unit 4 Sprint 1 Assignment 4*\n",
        "\n",
        "Analyze a corpus of Amazon reviews from Unit 4 Sprint 1 Module 1's lecture using topic modeling: \n",
        "\n",
        "- Fit a Gensim LDA topic model on Amazon Reviews\n",
        "- Select appropriate number of topics\n",
        "- Create some dope visualization of the topics\n",
        "- Write a few bullets on your findings in markdown at the end\n",
        "- **Note**: You don't *have* to use generators for this assignment"
      ]
    },
    {
      "cell_type": "code",
      "metadata": {
        "id": "_dYs8ejDEpqL",
        "outputId": "466e78e4-b631-48e0-8be0-87fcdea767b4",
        "colab": {
          "base_uri": "https://localhost:8080/",
          "height": 582
        }
      },
      "source": [
        "!pip install pyLDAvis"
      ],
      "execution_count": 2,
      "outputs": [
        {
          "output_type": "stream",
          "text": [
            "Collecting pyLDAvis\n",
            "\u001b[?25l  Downloading https://files.pythonhosted.org/packages/a5/3a/af82e070a8a96e13217c8f362f9a73e82d61ac8fff3a2561946a97f96266/pyLDAvis-2.1.2.tar.gz (1.6MB)\n",
            "\u001b[K     |████████████████████████████████| 1.6MB 5.0MB/s \n",
            "\u001b[?25hRequirement already satisfied: wheel>=0.23.0 in /usr/local/lib/python3.6/dist-packages (from pyLDAvis) (0.35.1)\n",
            "Requirement already satisfied: numpy>=1.9.2 in /usr/local/lib/python3.6/dist-packages (from pyLDAvis) (1.18.5)\n",
            "Requirement already satisfied: scipy>=0.18.0 in /usr/local/lib/python3.6/dist-packages (from pyLDAvis) (1.4.1)\n",
            "Requirement already satisfied: pandas>=0.17.0 in /usr/local/lib/python3.6/dist-packages (from pyLDAvis) (1.1.2)\n",
            "Requirement already satisfied: joblib>=0.8.4 in /usr/local/lib/python3.6/dist-packages (from pyLDAvis) (0.16.0)\n",
            "Requirement already satisfied: jinja2>=2.7.2 in /usr/local/lib/python3.6/dist-packages (from pyLDAvis) (2.11.2)\n",
            "Requirement already satisfied: numexpr in /usr/local/lib/python3.6/dist-packages (from pyLDAvis) (2.7.1)\n",
            "Requirement already satisfied: pytest in /usr/local/lib/python3.6/dist-packages (from pyLDAvis) (3.6.4)\n",
            "Requirement already satisfied: future in /usr/local/lib/python3.6/dist-packages (from pyLDAvis) (0.16.0)\n",
            "Collecting funcy\n",
            "  Downloading https://files.pythonhosted.org/packages/66/89/479de0afbbfb98d1c4b887936808764627300208bb771fcd823403645a36/funcy-1.15-py2.py3-none-any.whl\n",
            "Requirement already satisfied: pytz>=2017.2 in /usr/local/lib/python3.6/dist-packages (from pandas>=0.17.0->pyLDAvis) (2018.9)\n",
            "Requirement already satisfied: python-dateutil>=2.7.3 in /usr/local/lib/python3.6/dist-packages (from pandas>=0.17.0->pyLDAvis) (2.8.1)\n",
            "Requirement already satisfied: MarkupSafe>=0.23 in /usr/local/lib/python3.6/dist-packages (from jinja2>=2.7.2->pyLDAvis) (1.1.1)\n",
            "Requirement already satisfied: more-itertools>=4.0.0 in /usr/local/lib/python3.6/dist-packages (from pytest->pyLDAvis) (8.5.0)\n",
            "Requirement already satisfied: py>=1.5.0 in /usr/local/lib/python3.6/dist-packages (from pytest->pyLDAvis) (1.9.0)\n",
            "Requirement already satisfied: pluggy<0.8,>=0.5 in /usr/local/lib/python3.6/dist-packages (from pytest->pyLDAvis) (0.7.1)\n",
            "Requirement already satisfied: atomicwrites>=1.0 in /usr/local/lib/python3.6/dist-packages (from pytest->pyLDAvis) (1.4.0)\n",
            "Requirement already satisfied: setuptools in /usr/local/lib/python3.6/dist-packages (from pytest->pyLDAvis) (50.3.0)\n",
            "Requirement already satisfied: six>=1.10.0 in /usr/local/lib/python3.6/dist-packages (from pytest->pyLDAvis) (1.15.0)\n",
            "Requirement already satisfied: attrs>=17.4.0 in /usr/local/lib/python3.6/dist-packages (from pytest->pyLDAvis) (20.2.0)\n",
            "Building wheels for collected packages: pyLDAvis\n",
            "  Building wheel for pyLDAvis (setup.py) ... \u001b[?25l\u001b[?25hdone\n",
            "  Created wheel for pyLDAvis: filename=pyLDAvis-2.1.2-py2.py3-none-any.whl size=97712 sha256=aee9b7748a74659c9ecf2b71561efc5588367be0482593c365e254b28f26027c\n",
            "  Stored in directory: /root/.cache/pip/wheels/98/71/24/513a99e58bb6b8465bae4d2d5e9dba8f0bef8179e3051ac414\n",
            "Successfully built pyLDAvis\n",
            "Installing collected packages: funcy, pyLDAvis\n",
            "Successfully installed funcy-1.15 pyLDAvis-2.1.2\n"
          ],
          "name": "stdout"
        }
      ]
    },
    {
      "cell_type": "code",
      "metadata": {
        "id": "PgH1SDi0InGr",
        "outputId": "1e7abd6e-9fdb-4309-e8d5-68c4b636dc76",
        "colab": {
          "base_uri": "https://localhost:8080/",
          "height": 459
        }
      },
      "source": [
        "!wget https://github.com/LambdaSchool/DS-Unit-4-Sprint-1-NLP/blob/main/module1-text-data/data/Datafiniti_Amazon_Consumer_Reviews_of_Amazon_Products_May19.csv.zip?raw=true -O datafiniti.zip\n",
        "!unzip datafiniti.zip"
      ],
      "execution_count": 9,
      "outputs": [
        {
          "output_type": "stream",
          "text": [
            "--2020-10-01 17:07:57--  https://github.com/LambdaSchool/DS-Unit-4-Sprint-1-NLP/blob/main/module1-text-data/data/Datafiniti_Amazon_Consumer_Reviews_of_Amazon_Products_May19.csv.zip?raw=true\n",
            "Resolving github.com (github.com)... 140.82.118.4\n",
            "Connecting to github.com (github.com)|140.82.118.4|:443... connected.\n",
            "HTTP request sent, awaiting response... 302 Found\n",
            "Location: https://github.com/LambdaSchool/DS-Unit-4-Sprint-1-NLP/raw/main/module1-text-data/data/Datafiniti_Amazon_Consumer_Reviews_of_Amazon_Products_May19.csv.zip [following]\n",
            "--2020-10-01 17:07:57--  https://github.com/LambdaSchool/DS-Unit-4-Sprint-1-NLP/raw/main/module1-text-data/data/Datafiniti_Amazon_Consumer_Reviews_of_Amazon_Products_May19.csv.zip\n",
            "Reusing existing connection to github.com:443.\n",
            "HTTP request sent, awaiting response... 302 Found\n",
            "Location: https://raw.githubusercontent.com/LambdaSchool/DS-Unit-4-Sprint-1-NLP/main/module1-text-data/data/Datafiniti_Amazon_Consumer_Reviews_of_Amazon_Products_May19.csv.zip [following]\n",
            "--2020-10-01 17:07:58--  https://raw.githubusercontent.com/LambdaSchool/DS-Unit-4-Sprint-1-NLP/main/module1-text-data/data/Datafiniti_Amazon_Consumer_Reviews_of_Amazon_Products_May19.csv.zip\n",
            "Resolving raw.githubusercontent.com (raw.githubusercontent.com)... 151.101.0.133, 151.101.64.133, 151.101.128.133, ...\n",
            "Connecting to raw.githubusercontent.com (raw.githubusercontent.com)|151.101.0.133|:443... connected.\n",
            "HTTP request sent, awaiting response... 200 OK\n",
            "Length: 8600979 (8.2M) [application/zip]\n",
            "Saving to: ‘datafiniti.zip’\n",
            "\n",
            "datafiniti.zip      100%[===================>]   8.20M  44.4MB/s    in 0.2s    \n",
            "\n",
            "2020-10-01 17:07:59 (44.4 MB/s) - ‘datafiniti.zip’ saved [8600979/8600979]\n",
            "\n",
            "Archive:  datafiniti.zip\n",
            "  inflating: Datafiniti_Amazon_Consumer_Reviews_of_Amazon_Products_May19.csv  \n",
            "   creating: __MACOSX/\n",
            "  inflating: __MACOSX/._Datafiniti_Amazon_Consumer_Reviews_of_Amazon_Products_May19.csv  \n"
          ],
          "name": "stdout"
        }
      ]
    },
    {
      "cell_type": "code",
      "metadata": {
        "id": "qsHw9rY2D3XJ"
      },
      "source": [
        "import pandas as pd\n",
        "import numpy as np\n",
        "import seaborn as sns\n",
        "import matplotlib.pyplot as plt\n",
        "import zipfile\n",
        "import re\n",
        "import gensim\n",
        "from gensim.utils import simple_preprocess\n",
        "from gensim.parsing.preprocessing import STOPWORDS\n",
        "from gensim import corpora\n",
        "from gensim.models.ldamulticore import LdaMulticore\n",
        "\n",
        "import pyLDAvis.gensim\n",
        "pyLDAvis.enable_notebook()\n",
        "\n",
        "import warnings\n",
        "warnings.filterwarnings('ignore')"
      ],
      "execution_count": 3,
      "outputs": []
    },
    {
      "cell_type": "code",
      "metadata": {
        "id": "n1ud5cgWEdTF"
      },
      "source": [
        "# creates gensim tokenizer\n",
        "def tokenize(text):\n",
        "    return [token for token in simple_preprocess(text) if token not in STOPWORDS]"
      ],
      "execution_count": 4,
      "outputs": []
    },
    {
      "cell_type": "code",
      "metadata": {
        "id": "qolK1dFWHrlZ"
      },
      "source": [
        "# import amazon dataset\n",
        "amzn = pd.read_csv('Datafiniti_Amazon_Consumer_Reviews_of_Amazon_Products_May19.csv')"
      ],
      "execution_count": 10,
      "outputs": []
    },
    {
      "cell_type": "code",
      "metadata": {
        "id": "rbjHrZvDJ66j"
      },
      "source": [
        "# create column(tokenized data)\n",
        "amzn['tokens'] = amzn['reviews.text'].apply(lambda x: tokenize(x))"
      ],
      "execution_count": 11,
      "outputs": []
    },
    {
      "cell_type": "code",
      "metadata": {
        "id": "w7M4Fg17KCJP",
        "outputId": "18b90e8b-331e-460d-8fab-b53f37e76321",
        "colab": {
          "base_uri": "https://localhost:8080/",
          "height": 199
        }
      },
      "source": [
        "# create dataframe with those columns\n",
        "df = amzn[['primaryCategories', 'brand', 'name', 'tokens', 'reviews.rating', ]].copy()\n",
        "df.head()"
      ],
      "execution_count": 12,
      "outputs": [
        {
          "output_type": "execute_result",
          "data": {
            "text/html": [
              "<div>\n",
              "<style scoped>\n",
              "    .dataframe tbody tr th:only-of-type {\n",
              "        vertical-align: middle;\n",
              "    }\n",
              "\n",
              "    .dataframe tbody tr th {\n",
              "        vertical-align: top;\n",
              "    }\n",
              "\n",
              "    .dataframe thead th {\n",
              "        text-align: right;\n",
              "    }\n",
              "</style>\n",
              "<table border=\"1\" class=\"dataframe\">\n",
              "  <thead>\n",
              "    <tr style=\"text-align: right;\">\n",
              "      <th></th>\n",
              "      <th>primaryCategories</th>\n",
              "      <th>brand</th>\n",
              "      <th>name</th>\n",
              "      <th>tokens</th>\n",
              "      <th>reviews.rating</th>\n",
              "    </tr>\n",
              "  </thead>\n",
              "  <tbody>\n",
              "    <tr>\n",
              "      <th>0</th>\n",
              "      <td>Health &amp; Beauty</td>\n",
              "      <td>Amazonbasics</td>\n",
              "      <td>AmazonBasics AAA Performance Alkaline Batterie...</td>\n",
              "      <td>[order, item, bad, quality, missing, backup, s...</td>\n",
              "      <td>3</td>\n",
              "    </tr>\n",
              "    <tr>\n",
              "      <th>1</th>\n",
              "      <td>Health &amp; Beauty</td>\n",
              "      <td>Amazonbasics</td>\n",
              "      <td>AmazonBasics AAA Performance Alkaline Batterie...</td>\n",
              "      <td>[bulk, expensive, way, products, like]</td>\n",
              "      <td>4</td>\n",
              "    </tr>\n",
              "    <tr>\n",
              "      <th>2</th>\n",
              "      <td>Health &amp; Beauty</td>\n",
              "      <td>Amazonbasics</td>\n",
              "      <td>AmazonBasics AAA Performance Alkaline Batterie...</td>\n",
              "      <td>[duracell, price, happy]</td>\n",
              "      <td>5</td>\n",
              "    </tr>\n",
              "    <tr>\n",
              "      <th>3</th>\n",
              "      <td>Health &amp; Beauty</td>\n",
              "      <td>Amazonbasics</td>\n",
              "      <td>AmazonBasics AAA Performance Alkaline Batterie...</td>\n",
              "      <td>[work, brand, batteries, better, price]</td>\n",
              "      <td>5</td>\n",
              "    </tr>\n",
              "    <tr>\n",
              "      <th>4</th>\n",
              "      <td>Health &amp; Beauty</td>\n",
              "      <td>Amazonbasics</td>\n",
              "      <td>AmazonBasics AAA Performance Alkaline Batterie...</td>\n",
              "      <td>[batteries, long, lasting, price, great]</td>\n",
              "      <td>5</td>\n",
              "    </tr>\n",
              "  </tbody>\n",
              "</table>\n",
              "</div>"
            ],
            "text/plain": [
              "  primaryCategories  ... reviews.rating\n",
              "0   Health & Beauty  ...              3\n",
              "1   Health & Beauty  ...              4\n",
              "2   Health & Beauty  ...              5\n",
              "3   Health & Beauty  ...              5\n",
              "4   Health & Beauty  ...              5\n",
              "\n",
              "[5 rows x 5 columns]"
            ]
          },
          "metadata": {
            "tags": []
          },
          "execution_count": 12
        }
      ]
    },
    {
      "cell_type": "code",
      "metadata": {
        "id": "hfBZQVQoKJsf",
        "outputId": "ee27ddab-bd6a-4439-bf82-23d8c1657a16",
        "colab": {
          "base_uri": "https://localhost:8080/",
          "height": 34
        }
      },
      "source": [
        "# creating corpora\n",
        "id2word = corpora.Dictionary(df['tokens'])\n",
        "\n",
        "# filter all extreme values\n",
        "id2word.filter_extremes(no_below=10, no_above=0.80)\n",
        "\n",
        "# checks length of id2word\n",
        "len(id2word)"
      ],
      "execution_count": 13,
      "outputs": [
        {
          "output_type": "execute_result",
          "data": {
            "text/plain": [
              "2359"
            ]
          },
          "metadata": {
            "tags": []
          },
          "execution_count": 13
        }
      ]
    },
    {
      "cell_type": "code",
      "metadata": {
        "id": "yHoDYDsAKOuQ"
      },
      "source": [
        "# creates corpus for each row\n",
        "corpus = [id2word.doc2bow(text) for text in df['tokens']]"
      ],
      "execution_count": 14,
      "outputs": []
    },
    {
      "cell_type": "code",
      "metadata": {
        "id": "eTpS5xwHKV3a"
      },
      "source": [
        "# setting up lda model\n",
        "lda = LdaMulticore(corpus=corpus,\n",
        "                   id2word=id2word,\n",
        "                   num_topics=8,\n",
        "                   passes=10,\n",
        "                   workers=4\n",
        "                  )"
      ],
      "execution_count": 15,
      "outputs": []
    },
    {
      "cell_type": "code",
      "metadata": {
        "id": "RdfWO3AeKZ9Z",
        "outputId": "46f0c118-c878-467b-a5fb-c33f6a0cfd60",
        "colab": {
          "base_uri": "https://localhost:8080/",
          "height": 880
        }
      },
      "source": [
        "pyLDAvis.gensim.prepare(lda, corpus, id2word)"
      ],
      "execution_count": 16,
      "outputs": [
        {
          "output_type": "execute_result",
          "data": {
            "text/html": [
              "\n",
              "<link rel=\"stylesheet\" type=\"text/css\" href=\"https://cdn.rawgit.com/bmabey/pyLDAvis/files/ldavis.v1.0.0.css\">\n",
              "\n",
              "\n",
              "<div id=\"ldavis_el1011397898214382565405902874\"></div>\n",
              "<script type=\"text/javascript\">\n",
              "\n",
              "var ldavis_el1011397898214382565405902874_data = {\"mdsDat\": {\"x\": [0.09148716859307483, -0.18760487239474566, -0.13183169385649798, -0.08241624068726433, -0.1365243486027136, 0.2819887595393702, -0.031691108340937024, 0.19659233574971405], \"y\": [-0.22420491882186522, 0.14951768901981713, -0.004068222981886737, 0.08531251978549294, -0.14254836668116938, 0.10828989761060885, 0.0016944002516406321, 0.026007001817361458], \"topics\": [1, 2, 3, 4, 5, 6, 7, 8], \"cluster\": [1, 1, 1, 1, 1, 1, 1, 1], \"Freq\": [22.462371148991274, 17.845108752412933, 13.9731092530866, 13.09272829357898, 9.771266464083489, 8.62244294209637, 7.702809108679701, 6.530164037070656]}, \"tinfo\": {\"Term\": [\"great\", \"good\", \"batteries\", \"price\", \"tablet\", \"kindle\", \"product\", \"loves\", \"use\", \"easy\", \"old\", \"year\", \"battery\", \"work\", \"apps\", \"value\", \"far\", \"games\", \"brand\", \"deal\", \"long\", \"screen\", \"works\", \"amazon\", \"kids\", \"quality\", \"buy\", \"best\", \"life\", \"daughter\", \"duracell\", \"aa\", \"aaa\", \"energizer\", \"alkaline\", \"amazonbasics\", \"remotes\", \"controllers\", \"flashlights\", \"pack\", \"die\", \"remote\", \"candles\", \"lasting\", \"packs\", \"wrapped\", \"costco\", \"package\", \"cardboard\", \"controller\", \"duracells\", \"leak\", \"brands\", \"leaked\", \"batch\", \"flashlight\", \"stores\", \"rayovac\", \"leaking\", \"brand\", \"batteries\", \"test\", \"toys\", \"basics\", \"box\", \"long\", \"dead\", \"packaged\", \"lasted\", \"xbox\", \"bulk\", \"work\", \"mouse\", \"half\", \"buying\", \"cheaper\", \"battery\", \"longer\", \"packaging\", \"ve\", \"power\", \"amazon\", \"time\", \"ll\", \"buy\", \"like\", \"price\", \"life\", \"better\", \"store\", \"use\", \"good\", \"far\", \"lot\", \"great\", \"yr\", \"parental\", \"educational\", \"learning\", \"appropriate\", \"entertained\", \"law\", \"nabi\", \"grand\", \"grandson\", \"entertaining\", \"watches\", \"olds\", \"grow\", \"occupied\", \"cartoons\", \"bumper\", \"loves\", \"granddaughter\", \"grandchild\", \"enjoys\", \"teaching\", \"flights\", \"limits\", \"audiobooks\", \"grandmother\", \"grandaughter\", \"aunt\", \"daughter\", \"busy\", \"year\", \"mother\", \"friendly\", \"niece\", \"old\", \"durable\", \"age\", \"kid\", \"learn\", \"son\", \"birthday\", \"games\", \"controls\", \"child\", \"kids\", \"gift\", \"christmas\", \"keeps\", \"set\", \"warranty\", \"bought\", \"children\", \"easy\", \"love\", \"tablet\", \"play\", \"use\", \"purchased\", \"apps\", \"time\", \"great\", \"case\", \"got\", \"perfect\", \"page\", \"voyage\", \"paperwhite\", \"eyes\", \"oasis\", \"generation\", \"purse\", \"lighter\", \"buttons\", \"upgraded\", \"paper\", \"ereader\", \"weight\", \"crisp\", \"lighting\", \"readers\", \"improvement\", \"reader\", \"backlight\", \"glare\", \"sunlight\", \"print\", \"font\", \"impossible\", \"brighter\", \"gen\", \"auto\", \"beach\", \"strain\", \"louder\", \"white\", \"original\", \"book\", \"kindle\", \"owned\", \"avid\", \"upgrade\", \"light\", \"design\", \"bright\", \"size\", \"model\", \"reading\", \"read\", \"easier\", \"screen\", \"carry\", \"previous\", \"books\", \"bigger\", \"new\", \"larger\", \"clear\", \"wife\", \"easy\", \"love\", \"hd\", \"like\", \"better\", \"small\", \"use\", \"nice\", \"great\", \"device\", \"features\", \"wanted\", \"bought\", \"best\", \"perfect\", \"tablet\", \"sd\", \"gb\", \"card\", \"memory\", \"micro\", \"ram\", \"hundreds\", \"credit\", \"ecosystem\", \"expand\", \"microsd\", \"seven\", \"offline\", \"integration\", \"clumsy\", \"disney\", \"invested\", \"platform\", \"minecraft\", \"matters\", \"salesman\", \"fourth\", \"restricted\", \"slot\", \"cpu\", \"proprietary\", \"surf\", \"teenager\", \"tables\", \"covered\", \"netflix\", \"toddler\", \"android\", \"rough\", \"prime\", \"google\", \"space\", \"movies\", \"ipad\", \"expandable\", \"storage\", \"surfing\", \"apple\", \"media\", \"shows\", \"plenty\", \"watch\", \"web\", \"watching\", \"video\", \"apps\", \"tablet\", \"amazon\", \"mini\", \"tablets\", \"hd\", \"browsing\", \"play\", \"videos\", \"games\", \"screen\", \"perfect\", \"great\", \"store\", \"love\", \"internet\", \"purchased\", \"need\", \"bought\", \"kids\", \"nice\", \"use\", \"price\", \"plug\", \"tap\", \"geek\", \"college\", \"voice\", \"squad\", \"echo\", \"fix\", \"usb\", \"restart\", \"notes\", \"words\", \"quit\", \"alexa\", \"typing\", \"paired\", \"adapter\", \"girlfriend\", \"laptop\", \"computers\", \"smartphone\", \"speaker\", \"series\", \"student\", \"classes\", \"provided\", \"textbooks\", \"dot\", \"songs\", \"brings\", \"connect\", \"cord\", \"charger\", \"listen\", \"cable\", \"port\", \"brother\", \"charging\", \"bluetooth\", \"win\", \"charge\", \"home\", \"audible\", \"music\", \"check\", \"wifi\", \"told\", \"keyboard\", \"dad\", \"portable\", \"phone\", \"button\", \"problem\", \"couldn\", \"bought\", \"day\", \"wouldn\", \"email\", \"family\", \"work\", \"internet\", \"got\", \"amazon\", \"kindle\", \"sound\", \"use\", \"working\", \"christmas\", \"time\", \"new\", \"love\", \"gift\", \"tablet\", \"buy\", \"son\", \"entertain\", \"def\", \"deal\", \"advertised\", \"suitable\", \"thank\", \"described\", \"rocks\", \"wonderfully\", \"bedroom\", \"product\", \"reasonable\", \"coffee\", \"value\", \"shipping\", \"seller\", \"durability\", \"beat\", \"opportunity\", \"friend\", \"anybody\", \"prompt\", \"operates\", \"service\", \"batts\", \"toddlers\", \"highly\", \"surgery\", \"great\", \"excellent\", \"exactly\", \"price\", \"item\", \"recommend\", \"thanks\", \"works\", \"delivery\", \"awesome\", \"quality\", \"customer\", \"good\", \"buy\", \"fast\", \"definitely\", \"nice\", \"complaints\", \"work\", \"recommended\", \"money\", \"batteries\", \"best\", \"love\", \"tablet\", \"kids\", \"silk\", \"advertising\", \"freeze\", \"chrome\", \"directions\", \"wide\", \"mirror\", \"met\", \"meant\", \"operation\", \"snap\", \"savy\", \"icons\", \"lil\", \"contents\", \"switching\", \"whistles\", \"bells\", \"closes\", \"greater\", \"ensure\", \"encourage\", \"crush\", \"candy\", \"al\", \"reputable\", \"appstore\", \"assured\", \"primary\", \"sensitivity\", \"filter\", \"beginner\", \"ads\", \"despite\", \"personally\", \"browser\", \"sufficient\", \"related\", \"connectivity\", \"life\", \"satisfied\", \"word\", \"use\", \"battery\", \"app\", \"person\", \"purchase\", \"annoying\", \"easy\", \"limited\", \"services\", \"build\", \"happy\", \"device\", \"handy\", \"expect\", \"expectations\", \"tablet\", \"like\", \"apps\", \"store\", \"works\", \"amazon\", \"kids\", \"fine\", \"little\", \"needs\", \"good\", \"great\", \"product\", \"available\", \"looking\", \"hours\", \"time\", \"quality\", \"screen\", \"best\", \"buck\", \"bang\", \"delighted\", \"associate\", \"forth\", \"yay\", \"monitoring\", \"upset\", \"mails\", \"boyfriend\", \"tank\", \"losing\", \"employee\", \"kiddos\", \"expected\", \"meet\", \"practical\", \"promised\", \"serves\", \"everybody\", \"lags\", \"ok\", \"bank\", \"skype\", \"highest\", \"refund\", \"class\", \"performs\", \"report\", \"slower\", \"ive\", \"good\", \"market\", \"reliable\", \"far\", \"sale\", \"job\", \"best\", \"pretty\", \"runs\", \"camera\", \"cheap\", \"quality\", \"inexpensive\", \"price\", \"slow\", \"fast\", \"tablet\", \"buy\", \"beginners\", \"better\", \"works\", \"right\", \"low\", \"money\", \"pleased\", \"issues\", \"like\", \"thing\", \"faster\", \"value\", \"tablets\", \"need\", \"got\", \"bought\", \"nice\", \"use\"], \"Freq\": [9131.0, 5728.0, 7370.0, 4998.0, 7101.0, 3068.0, 2135.0, 2095.0, 4504.0, 2971.0, 2069.0, 1720.0, 2086.0, 2262.0, 1825.0, 992.0, 1238.0, 1673.0, 1270.0, 800.0, 2494.0, 1655.0, 1546.0, 3868.0, 2473.0, 1337.0, 2307.0, 1474.0, 1002.0, 908.0, 598.320973402026, 475.7923147666262, 360.84636437678415, 314.1541740146421, 210.14559518254157, 298.2776566900249, 215.64081936090278, 134.3764545081089, 117.72733577964148, 358.7800140423972, 115.77858974078593, 311.7606653619866, 103.4382574422853, 345.84044421411204, 94.02833385379952, 88.98561558882432, 82.66815467411466, 186.34287997133478, 79.47808731798047, 89.51101019801085, 72.819921221484, 69.68295412887484, 857.0056845067659, 63.151093763050646, 62.84305122679051, 57.210512535769766, 87.85578214255553, 55.212487043336445, 51.075543202819745, 1249.9826749780539, 7003.120488235526, 106.32267564566777, 371.8920013414654, 273.2731500970021, 456.400339429936, 2117.9545611458684, 169.29610761230666, 142.9943402286319, 266.29094646661565, 155.9263075445962, 142.6933839847202, 1435.9164740858023, 153.76669346852825, 168.8758419826517, 384.0250165704426, 335.2609069554234, 1122.3963746275674, 345.08585575869273, 195.5382750537129, 538.8741451059552, 272.0627550489793, 1353.1258032049038, 847.4703194649858, 256.4806708249862, 725.5335304924916, 668.2577669700586, 852.3574521588843, 400.6666970383986, 446.505998147952, 381.1105950365428, 601.2471584940848, 556.4278141918254, 374.72814515591335, 351.96872615196503, 325.6286489891261, 322.0789849025707, 402.39928807681514, 231.7835838362241, 417.0668186024436, 119.84891306052516, 111.80906583315091, 83.17960207318208, 41.37754210540627, 154.0830142618673, 464.014906355551, 32.52642017218401, 31.3184901033424, 29.204441604472425, 26.75851618952995, 34.01810780045956, 23.2713386012098, 70.00474716365272, 2008.1623268325739, 367.2069132517533, 34.89547516344678, 150.98524368562147, 18.723076071362296, 18.842577548251967, 94.76228042938956, 17.465718649423913, 17.534719346194688, 20.853491613799672, 16.206520401116187, 861.9271389909392, 71.81104366924838, 1601.3586014659159, 167.95179080783922, 371.1418139887765, 158.39122526595293, 1830.9791009170467, 290.29729317462306, 200.98451124327067, 412.84623404041855, 152.81671213255788, 734.39921174023, 161.68454286614187, 1220.6273155242145, 286.63015577906015, 382.591859639993, 1517.6131247064784, 718.6814812269729, 589.9270074827722, 201.7594789500434, 519.3641963290542, 230.75026042047438, 1427.2251883277531, 306.2673769047971, 1233.8164931503052, 1292.1086198107946, 2124.787342418474, 587.9489937224365, 1225.7296574705936, 549.0836654225486, 653.0304732861675, 611.7524165835844, 1150.712972353296, 387.78432595991114, 442.5959268620497, 375.5480408414697, 176.6283286692822, 161.20181241138434, 145.8359398637149, 136.0805057659242, 118.53445680387304, 109.28058861691447, 86.40642725839582, 84.2540134411389, 104.49311217244846, 93.50030116431891, 73.06994412064005, 84.59431690558046, 195.61181456070094, 61.22337729756348, 52.30081138249811, 71.47801753408584, 64.45739873897789, 493.2106243990285, 44.00276766847539, 42.940889685282, 34.59046146338261, 32.931461395814715, 41.934128193541454, 29.41635947141743, 27.672731164611818, 27.22329918791783, 26.674927075834248, 26.3365625169227, 22.495376579555515, 21.054504600491114, 90.94758241964405, 153.87800425819094, 335.8065659545882, 2519.6334358691056, 84.36292300546448, 57.827485221072784, 192.05765719166277, 556.9486040399566, 80.57507521583314, 106.35528861787063, 760.5116731260945, 198.8356816838189, 881.9132968216775, 879.1740539053628, 253.57182652914238, 1052.8375551765403, 169.98753100665783, 166.34184367317664, 837.9370315833702, 155.24450205925854, 503.4428297713128, 144.37992641913135, 188.45624599450048, 264.21353264177236, 894.3412871627733, 914.4596628727263, 350.9754729472617, 569.6803967933331, 418.9004765070385, 227.42350814146263, 589.8134858039705, 307.2410235303885, 536.1228221748739, 270.0599093776266, 226.75047194533911, 208.64711779578883, 271.0465957772295, 229.49127182468916, 220.90617764754475, 195.12752120854265, 182.97073649184227, 280.76758759004787, 294.96189786182185, 314.3469627719377, 74.98211075799695, 45.93451132492152, 38.15763860754421, 36.14397726692247, 30.078440986194664, 27.45583302136664, 26.727785944712966, 21.263231791629764, 25.80293556535588, 20.373626703010135, 17.94519950130504, 17.034550270654098, 15.308532855153562, 23.243703930780967, 14.239995572314658, 14.21299971290425, 13.764082710582464, 13.678831368522209, 13.119877118769983, 45.01999837885214, 12.440862756280593, 12.727128736876459, 71.73218585476957, 12.800874413110991, 11.774027645402265, 11.649655899795489, 266.4140056228653, 128.8632748898513, 266.7155532247976, 48.31142801974266, 388.80806689223465, 390.40771345981454, 154.9200804927193, 520.8696137110467, 631.8142940285053, 65.28180528253966, 295.2056926060304, 114.22358194658523, 142.88558486037797, 85.50213024334526, 162.58290180169163, 125.06973092594403, 339.87675303277354, 203.70718544820843, 190.47016480895962, 154.83293148512166, 829.8110767696331, 2431.6826338274677, 1339.6471775175248, 93.6254243689838, 352.85358492115336, 346.58819311651547, 99.30013044865856, 380.7062180967771, 200.75272649928127, 407.4794363199591, 399.541527591106, 317.1806276161721, 822.9742471533026, 297.3088850088883, 469.10627623159974, 212.39042881579985, 296.27449430833155, 248.45186390041124, 333.72427745643546, 306.0254452287251, 254.45551690905648, 316.5857385335502, 274.0336992057509, 96.0468910283639, 224.27403667590198, 62.932315328654944, 53.73944663376946, 72.46176702934474, 52.53082018542119, 215.51229704257307, 54.77231840182632, 70.13735218062776, 34.8190041413735, 31.49507130985009, 41.28977457619575, 30.281314033371896, 310.25083370261774, 29.741011973005694, 26.642730104615453, 39.307196048026185, 24.466011995756563, 221.69306681106502, 24.453460520311406, 31.06605173996498, 197.44357542215073, 20.17867091547376, 19.762900314247755, 18.329060111927255, 18.642988197901932, 18.43190463572253, 44.850763235501866, 17.474256660188573, 17.253153012569758, 100.50819372101738, 68.93297533727569, 183.63433938473023, 121.84632121566194, 83.05747150258922, 108.32611275647814, 68.44163389812277, 234.35284764152158, 115.59312102990883, 49.71847991309667, 423.64943013227645, 242.25029451299616, 45.66005950803779, 333.16500325387733, 131.85535564063926, 222.94704392794364, 73.93371587919127, 147.62606508229703, 81.40277262587627, 144.0318859532247, 211.60871672860492, 108.40379648848243, 194.76431685504764, 125.06122735183035, 607.8461327773691, 196.8500052946744, 108.30442582113321, 112.51482149149673, 125.04505911889042, 316.7677475665501, 163.40261305251641, 225.53138897945496, 324.8203441480543, 289.5573464483343, 140.17472806565223, 282.5902806713371, 142.25678273575457, 174.3114613571706, 204.48899180271286, 170.8125087650349, 184.73528989287442, 158.7675426846298, 179.30963648502123, 162.54302922045775, 147.52147512426393, 14.494442294428186, 16.325466000587223, 685.6021205649657, 115.03365169989769, 12.769864953982717, 140.10343714611125, 101.29088365652343, 9.089677164227924, 12.857971284017339, 10.662026353897959, 1666.7391759135778, 105.87522905037208, 8.9295257337346, 728.5629057997845, 83.35247028955328, 14.57939162233194, 40.35644312319651, 332.96809901694394, 15.742861748576063, 94.42436348975976, 12.56788362055283, 8.918871039191641, 6.406426512421589, 135.6388386595261, 11.067075882166552, 34.569098273522165, 239.62334919169254, 8.837435245994163, 5892.2712907481355, 449.4173126423404, 109.67506466886417, 2915.1036264675067, 247.80526589632774, 605.6196892519282, 128.5940912359934, 658.3583360821901, 43.06428926854167, 213.86713570631946, 439.8386649369471, 54.41727725476854, 1236.6230807496847, 585.7249613776366, 229.93471831743764, 166.59968916046677, 312.4501251794244, 81.12835553300225, 450.1732397640728, 68.24213636068413, 178.81962626062312, 340.4296848121754, 162.97382342449592, 197.92262663904205, 210.19032559359482, 130.88065548785784, 45.9073760089907, 32.97879103533828, 29.55042949079117, 29.21025403735757, 23.93593460171828, 20.1683377002173, 19.819938749474506, 44.869032071186645, 19.089900860333078, 16.691746926425168, 20.086640499862014, 16.285264496889422, 17.42589790530034, 15.604808985849006, 15.411212141743079, 18.571325671649994, 14.734549202521057, 14.734539814967052, 14.903136261676055, 14.636646401793254, 14.565445827895735, 14.58282487251899, 13.930853882490844, 14.358989375880832, 13.05781135993971, 12.911981072774221, 26.90941014719595, 11.669506114190442, 12.074589798179307, 12.885536333139527, 16.636860580310806, 69.71415932485374, 162.90509993852103, 33.67029972068111, 30.56704526430894, 63.55269457838813, 23.586457423343948, 24.66784463734432, 30.036627005707814, 449.75764805212424, 113.55155285395485, 27.66906711030522, 1339.2181120830721, 693.4691499355196, 225.7608464145595, 63.27687214874429, 312.55345015476706, 61.44353649455266, 696.0683973459468, 77.0901804442895, 44.105786380288826, 39.750087382978585, 246.95564743244677, 286.76591440091994, 68.21625438608528, 82.11510743804907, 49.4722915962663, 910.9012082351574, 406.9724598548565, 320.53857869263993, 211.0947619844828, 258.93277162169915, 431.70264589727503, 321.99383195032203, 134.07012812442096, 176.87454203229282, 109.68497492409452, 377.8955895491317, 322.3513100068677, 183.50138269888993, 93.10064307276345, 98.59769429690563, 90.12398380539862, 139.22312281208767, 115.09786002117785, 107.5593859385904, 101.23029702779496, 55.00237914885106, 50.85960701135112, 25.068490780900877, 32.96441760615442, 16.391012016088297, 16.939835585370105, 15.314198910506104, 15.205192293958993, 13.967172092140245, 13.218275864959132, 11.515938115003252, 11.422867686194236, 10.578018941603403, 18.64222449666209, 306.39395461821806, 22.35502994400584, 14.721226518919543, 28.833426218982094, 48.02604209564803, 10.889412982279024, 10.599756824856051, 268.3307391358562, 15.528199957930944, 22.807546277280917, 13.429218601403344, 19.95630227765635, 32.8926985082808, 36.12536277468875, 9.695997507115674, 22.655124150913252, 29.650402267661736, 3481.9765405814132, 76.52286083060231, 79.38038289462652, 600.3912037081391, 169.83518953208142, 138.73130734863773, 588.7533776890755, 254.49363962463488, 65.12714389702086, 190.61780650763484, 220.21472585144872, 396.379368502994, 111.19837728129131, 876.7454774106859, 120.67593066317089, 220.11303985363924, 1048.8825177769015, 434.1410731778975, 35.41686467541644, 303.6596381468886, 293.8655302508981, 144.15889298287863, 119.394677995423, 174.19157048009603, 99.47243552459106, 111.37006108224404, 253.06092211596382, 112.86827419648093, 91.60794222424177, 136.39838680354504, 122.44176531582868, 130.18977448612915, 135.51287275517907, 155.65885170723774, 127.05311617230419, 145.6055172796222], \"Total\": [9131.0, 5728.0, 7370.0, 4998.0, 7101.0, 3068.0, 2135.0, 2095.0, 4504.0, 2971.0, 2069.0, 1720.0, 2086.0, 2262.0, 1825.0, 992.0, 1238.0, 1673.0, 1270.0, 800.0, 2494.0, 1655.0, 1546.0, 3868.0, 2473.0, 1337.0, 2307.0, 1474.0, 1002.0, 908.0, 599.2874038617769, 476.715536077336, 361.7893833602063, 315.0737541670356, 211.08944506499964, 299.88942351425914, 216.865027253576, 135.2006625788433, 118.53182974726052, 361.34388934242185, 116.62091675720593, 314.17504595118965, 104.25685767289937, 348.64878953332294, 94.82372313922767, 89.77959266885009, 83.45950390716808, 188.19984565292955, 80.27096448801446, 90.47365689038946, 73.65649272675189, 70.50760813943666, 867.7655467298954, 63.95764674756403, 63.706865278812295, 58.01967611927709, 89.11333179667075, 56.00417276418619, 51.87081401012157, 1270.3868612250862, 7370.981147718441, 108.53189506683762, 390.94676000193374, 286.521751168211, 487.84820304751787, 2494.8490551999685, 179.75709076096993, 151.87902006537269, 303.10047838324874, 167.7552051124405, 152.56633245899374, 2262.2096486829564, 170.73839201317952, 191.70229900788385, 529.5170056357116, 448.85206447579964, 2086.2861715037475, 477.9279327046338, 230.78146757029808, 899.6461845568135, 372.0814046922437, 3868.043990346965, 2073.9910675633755, 357.2405942306042, 2307.313358215399, 2513.3999971227668, 4998.047359501497, 1002.7400317101782, 1450.845419504275, 1032.3354431856599, 4504.607391533296, 5728.03782634755, 1238.121830657552, 940.3320664685136, 9131.822207621126, 323.12401459809684, 404.5290447006372, 233.17764256162909, 420.38145655954304, 120.94348502261818, 112.83562668803943, 84.32560929485378, 42.25151184121394, 157.5315030158503, 476.45987592930464, 33.43932105865776, 32.19958074872235, 30.084678350614997, 27.711853680411068, 35.33193768516929, 24.179048516788956, 72.84802414279221, 2095.337738065457, 383.1687528477534, 36.45296160263492, 157.76903570918367, 19.597176822155543, 19.72742541729112, 99.32782758859868, 18.338249751863785, 18.42700006412969, 21.940826822965274, 17.079240112501765, 908.5291165481314, 75.77057799045853, 1720.4068535650506, 177.5573825994956, 398.0996833713162, 168.50182859512802, 2069.971851806117, 326.5402272412469, 224.84806501108704, 480.73276620105105, 174.7726305497561, 940.6041637109183, 187.93162764476284, 1673.9883342630546, 351.73427872756224, 481.8844039953155, 2473.4258956654503, 1064.3817624416486, 895.088634270202, 246.62296801019562, 802.5819739102906, 293.10350085314474, 3160.3272636853458, 429.3012591767569, 2971.604031761345, 3452.058342112249, 7101.072258046573, 1133.6360771065404, 4504.607391533296, 1341.1775075543017, 1825.7945297773979, 2073.9910675633755, 9131.822207621126, 780.1426402848634, 1272.1866406773854, 1089.6811049338157, 177.60264311447688, 162.0924450160291, 146.73031056160409, 136.9476245767317, 119.44147577849333, 110.31152863608855, 87.26813724457523, 85.13690403993647, 105.60425030051476, 94.5873725085355, 73.94833085594298, 85.73290419269289, 198.26127438994615, 62.138524912714324, 53.20307344976844, 72.78631735798247, 65.69609286805151, 502.7683614116942, 44.862822344940916, 43.798858814562124, 35.44969073530781, 33.86303682785649, 43.149963021968624, 30.309243279388816, 28.531505214677814, 28.08924888772075, 27.53788497618083, 27.19368366512059, 23.35319036449412, 21.916552940571297, 95.40882690187188, 163.21545120411233, 365.5478951307022, 3068.183741177631, 90.3702433018469, 61.192818104449266, 219.80225707689078, 684.0789248300405, 87.63376782921497, 118.37580691881317, 1012.6562859973277, 234.82081197928812, 1214.2631180890746, 1223.7970748515268, 311.94779961364253, 1655.2799037053062, 204.34630014299498, 203.0031033136766, 1503.3192700057407, 191.8358838101154, 992.2725070628624, 183.88578692783153, 270.1245180977739, 456.0741331366321, 2971.604031761345, 3452.058342112249, 757.7278543152437, 2513.3999971227668, 1450.845419504275, 484.7441961674436, 4504.607391533296, 1223.786893766563, 9131.822207621126, 1042.6215816225344, 583.1275563443223, 522.1829969079694, 3160.3272636853458, 1474.2848833163816, 1089.6811049338157, 7101.072258046573, 183.8494224659239, 282.56817751044366, 296.98869451621243, 316.53361898309936, 75.86563658718056, 46.81160107588354, 39.026938240364444, 37.106962524028006, 30.944208858091784, 28.326150708066915, 27.59345897336835, 22.128723652471624, 26.949244701902543, 21.31744436756615, 18.889519225214503, 17.98027491174126, 16.173010858042613, 24.55901459897062, 15.104805199066176, 15.106045337925156, 14.63322165252618, 14.554557145262649, 13.986805200314175, 48.098081222161085, 13.326241752163709, 13.635149200771096, 76.91132070635138, 13.739666355251511, 12.641468159205937, 12.519709009060998, 286.606197206987, 139.48484827824657, 302.430705851784, 53.53238479940541, 467.3160847106002, 471.68309030781467, 181.48219151091712, 642.396371117511, 806.9229655910766, 74.65467745407165, 373.19569664040563, 137.7462166002831, 177.01135228747094, 102.07938109710611, 211.1933775446749, 162.44299669627804, 508.4888767046669, 293.1649029311625, 290.1614435535182, 229.23502444504825, 1825.7945297773979, 7101.072258046573, 3868.043990346965, 125.45810284398198, 758.8507097216258, 757.7278543152437, 136.28268149348943, 1133.6360771065404, 438.50578113740823, 1673.9883342630546, 1655.2799037053062, 1089.6811049338157, 9131.822207621126, 1032.3354431856599, 3452.058342112249, 521.5266080613766, 1341.1775075543017, 946.1002344579961, 3160.3272636853458, 2473.4258956654503, 1223.786893766563, 4504.607391533296, 4998.047359501497, 96.93848741792569, 226.78119279331915, 63.78999109709538, 54.59920973745815, 73.63724373005643, 53.390962521240155, 219.23219691049914, 55.71909656545875, 71.39871170666633, 35.68771341861266, 32.345125987135724, 42.43941965910688, 31.130067350757948, 319.24068080949314, 30.657242195085626, 27.48975322963924, 40.60862243988039, 25.37852987781733, 230.0997681141664, 25.43205829511655, 32.35607813881495, 205.67702697263488, 21.02293893762386, 20.611235178512462, 19.172756463749767, 19.502494262267323, 19.282936645472617, 46.991987222961846, 18.31807501694662, 18.097294179010245, 105.64376327719816, 72.73165345874725, 196.45533954176844, 131.7175719890054, 89.10445317872893, 117.18624225774967, 73.6767472785437, 268.04075669499997, 131.6845967597184, 54.27493324502345, 586.5166018382661, 321.88689997851606, 49.63783235643561, 479.2862262580174, 167.45759252040583, 306.6273196413471, 86.25443238242168, 200.30837483740402, 98.4967480256217, 201.24144818241925, 331.01801520675656, 148.7401152541152, 350.5767211656735, 199.66658757693605, 3160.3272636853458, 469.90951746828495, 165.96308139569777, 203.41433406710726, 260.51533343372336, 2262.2096486829564, 521.5266080613766, 1272.1866406773854, 3868.043990346965, 3068.183741177631, 364.8188463848619, 4504.607391533296, 392.6998001921703, 895.088634270202, 2073.9910675633755, 992.2725070628624, 3452.058342112249, 1064.3817624416486, 7101.072258046573, 2307.313358215399, 940.6041637109183, 15.32968739409427, 17.844390278622623, 800.7256502468831, 136.4856514777094, 15.17443838138815, 170.59858640778913, 125.80282908253345, 11.467170997078389, 16.35866208999321, 13.593187308213565, 2135.612547786425, 136.97194345153596, 11.889442308771285, 992.3085264626677, 117.66371679502839, 20.754823564192908, 57.47775371249862, 475.88310986737264, 22.647164895417834, 136.03164964317935, 18.135502297469476, 12.882264137124036, 9.288019936600664, 199.14860924202333, 16.51351252366265, 52.649429602858575, 368.6662994638001, 13.67360217843724, 9131.822207621126, 708.7904262084385, 175.79628581260818, 4998.047359501497, 407.2501954201927, 1160.5282139794056, 240.350677272315, 1546.3094072626955, 73.85260785019777, 546.9632034029615, 1337.790613660685, 106.277922177401, 5728.03782634755, 2307.313358215399, 722.4869003180299, 478.73897753090074, 1223.786893766563, 179.27704022194445, 2262.2096486829564, 142.6489532297563, 782.3104914701721, 7370.981147718441, 1474.2848833163816, 3452.058342112249, 7101.072258046573, 2473.4258956654503, 46.9917319101419, 33.86489370620737, 30.521132025359474, 30.218774547010206, 24.82353361316657, 21.029519235957427, 20.668500373437478, 47.02361662074944, 20.026409053331644, 17.56006901123499, 21.147260983095226, 17.151325686388525, 18.372564965737244, 16.459955062760752, 16.27567138284722, 19.627690728099626, 15.583368919657534, 15.58336498516686, 15.764980316031377, 15.4865848883556, 15.421395560657245, 15.441079653873444, 14.782303998315664, 15.241507416714928, 13.90627300267243, 13.764001798057759, 28.68692072276149, 12.528941594341083, 12.972754715071922, 13.876897963595733, 17.91981627454612, 76.58592311515069, 182.70413534172815, 37.3132260639848, 33.964369966549334, 78.96402226337156, 26.849859787948205, 28.331298042826646, 35.67718952391876, 1002.7400317101782, 197.3200658707522, 34.18053577440398, 4504.607391533296, 2086.2861715037475, 544.2110789194693, 103.7017566941699, 949.4837632714357, 104.04751237066287, 2971.604031761345, 145.0014110671315, 66.6686717706771, 57.540597386949244, 825.6281658620774, 1042.6215816225344, 128.47290728721347, 173.43241671007775, 80.97694730048065, 7101.072258046573, 2513.3999971227668, 1825.7945297773979, 1032.3354431856599, 1546.3094072626955, 3868.043990346965, 2473.4258956654503, 540.1993228191016, 981.7841560963235, 391.4253777534733, 5728.03782634755, 9131.822207621126, 2135.612547786425, 346.3747971056159, 460.9296815075495, 349.5466050978812, 2073.9910675633755, 1337.790613660685, 1655.2799037053062, 1474.2848833163816, 56.017957187297455, 51.88633639006931, 25.935469287628248, 34.27281067516321, 17.227052656475927, 17.828073586907465, 16.152804886447505, 16.048372277720144, 14.811803215393937, 14.055638945249063, 12.352769528169881, 12.258106773540764, 11.435430332995447, 20.250468578161364, 350.9453535775499, 25.699371727049616, 17.097673977433136, 33.62918867882264, 56.632522266867966, 12.915830655568186, 12.664110721913767, 320.7559224978, 18.587545752831407, 27.380228219665682, 16.63058710913939, 25.83528032055994, 43.95969211325441, 49.01572847363404, 13.253862549359868, 31.21821584167908, 41.62910003253903, 5728.03782634755, 115.50168230898132, 121.15421536810913, 1238.121830657552, 298.7015196447485, 259.6838113553027, 1474.2848833163816, 569.7972063939759, 106.129260324128, 410.2834139023551, 573.0810170062289, 1337.790613660685, 240.6538408963176, 4998.047359501497, 298.5238442608674, 722.4869003180299, 7101.072258046573, 2307.313358215399, 53.122163853548166, 1450.845419504275, 1546.3094072626955, 524.2296704210744, 396.3415757496515, 782.3104914701721, 303.4172808018019, 385.88119055868316, 2513.3999971227668, 478.8331812615853, 278.0753710109897, 992.3085264626677, 758.8507097216258, 946.1002344579961, 1272.1866406773854, 3160.3272636853458, 1223.786893766563, 4504.607391533296], \"Category\": [\"Default\", \"Default\", \"Default\", \"Default\", \"Default\", \"Default\", \"Default\", \"Default\", \"Default\", \"Default\", \"Default\", \"Default\", \"Default\", \"Default\", \"Default\", \"Default\", \"Default\", \"Default\", \"Default\", \"Default\", \"Default\", \"Default\", \"Default\", \"Default\", \"Default\", \"Default\", \"Default\", \"Default\", \"Default\", \"Default\", \"Topic1\", \"Topic1\", \"Topic1\", \"Topic1\", \"Topic1\", \"Topic1\", \"Topic1\", \"Topic1\", \"Topic1\", \"Topic1\", \"Topic1\", \"Topic1\", \"Topic1\", \"Topic1\", \"Topic1\", \"Topic1\", \"Topic1\", \"Topic1\", \"Topic1\", \"Topic1\", \"Topic1\", \"Topic1\", \"Topic1\", \"Topic1\", \"Topic1\", \"Topic1\", \"Topic1\", \"Topic1\", \"Topic1\", \"Topic1\", \"Topic1\", \"Topic1\", \"Topic1\", \"Topic1\", \"Topic1\", \"Topic1\", \"Topic1\", \"Topic1\", \"Topic1\", \"Topic1\", \"Topic1\", \"Topic1\", \"Topic1\", \"Topic1\", \"Topic1\", \"Topic1\", \"Topic1\", \"Topic1\", \"Topic1\", \"Topic1\", \"Topic1\", \"Topic1\", \"Topic1\", \"Topic1\", \"Topic1\", \"Topic1\", \"Topic1\", \"Topic1\", \"Topic1\", \"Topic1\", \"Topic1\", \"Topic1\", \"Topic1\", \"Topic1\", \"Topic1\", \"Topic2\", \"Topic2\", \"Topic2\", \"Topic2\", \"Topic2\", \"Topic2\", \"Topic2\", \"Topic2\", \"Topic2\", \"Topic2\", \"Topic2\", \"Topic2\", \"Topic2\", \"Topic2\", \"Topic2\", \"Topic2\", \"Topic2\", \"Topic2\", \"Topic2\", \"Topic2\", \"Topic2\", \"Topic2\", \"Topic2\", \"Topic2\", \"Topic2\", \"Topic2\", \"Topic2\", \"Topic2\", \"Topic2\", \"Topic2\", \"Topic2\", \"Topic2\", \"Topic2\", \"Topic2\", \"Topic2\", \"Topic2\", \"Topic2\", \"Topic2\", \"Topic2\", \"Topic2\", \"Topic2\", \"Topic2\", \"Topic2\", \"Topic2\", \"Topic2\", \"Topic2\", \"Topic2\", \"Topic2\", \"Topic2\", \"Topic2\", \"Topic2\", \"Topic2\", \"Topic2\", \"Topic2\", \"Topic2\", \"Topic2\", \"Topic2\", \"Topic2\", \"Topic2\", \"Topic2\", \"Topic2\", \"Topic2\", \"Topic2\", \"Topic2\", \"Topic3\", \"Topic3\", \"Topic3\", \"Topic3\", \"Topic3\", \"Topic3\", \"Topic3\", \"Topic3\", \"Topic3\", \"Topic3\", \"Topic3\", \"Topic3\", \"Topic3\", \"Topic3\", \"Topic3\", \"Topic3\", \"Topic3\", \"Topic3\", \"Topic3\", \"Topic3\", \"Topic3\", \"Topic3\", \"Topic3\", \"Topic3\", \"Topic3\", \"Topic3\", \"Topic3\", \"Topic3\", \"Topic3\", \"Topic3\", \"Topic3\", \"Topic3\", \"Topic3\", \"Topic3\", \"Topic3\", \"Topic3\", \"Topic3\", \"Topic3\", \"Topic3\", \"Topic3\", \"Topic3\", \"Topic3\", \"Topic3\", \"Topic3\", \"Topic3\", \"Topic3\", \"Topic3\", \"Topic3\", \"Topic3\", \"Topic3\", \"Topic3\", \"Topic3\", \"Topic3\", \"Topic3\", \"Topic3\", \"Topic3\", \"Topic3\", \"Topic3\", \"Topic3\", \"Topic3\", \"Topic3\", \"Topic3\", \"Topic3\", \"Topic3\", \"Topic3\", \"Topic3\", \"Topic3\", \"Topic3\", \"Topic3\", \"Topic3\", \"Topic4\", \"Topic4\", \"Topic4\", \"Topic4\", \"Topic4\", \"Topic4\", \"Topic4\", \"Topic4\", \"Topic4\", \"Topic4\", \"Topic4\", \"Topic4\", \"Topic4\", \"Topic4\", \"Topic4\", \"Topic4\", \"Topic4\", \"Topic4\", \"Topic4\", \"Topic4\", \"Topic4\", \"Topic4\", \"Topic4\", \"Topic4\", \"Topic4\", \"Topic4\", \"Topic4\", \"Topic4\", \"Topic4\", \"Topic4\", \"Topic4\", \"Topic4\", \"Topic4\", \"Topic4\", \"Topic4\", \"Topic4\", \"Topic4\", \"Topic4\", \"Topic4\", \"Topic4\", \"Topic4\", \"Topic4\", \"Topic4\", \"Topic4\", \"Topic4\", \"Topic4\", \"Topic4\", \"Topic4\", \"Topic4\", \"Topic4\", \"Topic4\", \"Topic4\", \"Topic4\", \"Topic4\", \"Topic4\", \"Topic4\", \"Topic4\", \"Topic4\", \"Topic4\", \"Topic4\", \"Topic4\", \"Topic4\", \"Topic4\", \"Topic4\", \"Topic4\", \"Topic4\", \"Topic4\", \"Topic4\", \"Topic4\", \"Topic4\", \"Topic4\", \"Topic4\", \"Topic4\", \"Topic5\", \"Topic5\", \"Topic5\", \"Topic5\", \"Topic5\", \"Topic5\", \"Topic5\", \"Topic5\", \"Topic5\", \"Topic5\", \"Topic5\", \"Topic5\", \"Topic5\", \"Topic5\", \"Topic5\", \"Topic5\", \"Topic5\", \"Topic5\", \"Topic5\", \"Topic5\", \"Topic5\", \"Topic5\", \"Topic5\", \"Topic5\", \"Topic5\", \"Topic5\", \"Topic5\", \"Topic5\", \"Topic5\", \"Topic5\", \"Topic5\", \"Topic5\", \"Topic5\", \"Topic5\", \"Topic5\", \"Topic5\", \"Topic5\", \"Topic5\", \"Topic5\", \"Topic5\", \"Topic5\", \"Topic5\", \"Topic5\", \"Topic5\", \"Topic5\", \"Topic5\", \"Topic5\", \"Topic5\", \"Topic5\", \"Topic5\", \"Topic5\", \"Topic5\", \"Topic5\", \"Topic5\", \"Topic5\", \"Topic5\", \"Topic5\", \"Topic5\", \"Topic5\", \"Topic5\", \"Topic5\", \"Topic5\", \"Topic5\", \"Topic5\", \"Topic5\", \"Topic5\", \"Topic5\", \"Topic5\", \"Topic5\", \"Topic5\", \"Topic5\", \"Topic5\", \"Topic5\", \"Topic5\", \"Topic5\", \"Topic6\", \"Topic6\", \"Topic6\", \"Topic6\", \"Topic6\", \"Topic6\", \"Topic6\", \"Topic6\", \"Topic6\", \"Topic6\", \"Topic6\", \"Topic6\", \"Topic6\", \"Topic6\", \"Topic6\", \"Topic6\", \"Topic6\", \"Topic6\", \"Topic6\", \"Topic6\", \"Topic6\", \"Topic6\", \"Topic6\", \"Topic6\", \"Topic6\", \"Topic6\", \"Topic6\", \"Topic6\", \"Topic6\", \"Topic6\", \"Topic6\", \"Topic6\", \"Topic6\", \"Topic6\", \"Topic6\", \"Topic6\", \"Topic6\", \"Topic6\", \"Topic6\", \"Topic6\", \"Topic6\", \"Topic6\", \"Topic6\", \"Topic6\", \"Topic6\", \"Topic6\", \"Topic6\", \"Topic6\", \"Topic6\", \"Topic6\", \"Topic6\", \"Topic6\", \"Topic6\", \"Topic6\", \"Topic7\", \"Topic7\", \"Topic7\", \"Topic7\", \"Topic7\", \"Topic7\", \"Topic7\", \"Topic7\", \"Topic7\", \"Topic7\", \"Topic7\", \"Topic7\", \"Topic7\", \"Topic7\", \"Topic7\", \"Topic7\", \"Topic7\", \"Topic7\", \"Topic7\", \"Topic7\", \"Topic7\", \"Topic7\", \"Topic7\", \"Topic7\", \"Topic7\", \"Topic7\", \"Topic7\", \"Topic7\", \"Topic7\", \"Topic7\", \"Topic7\", \"Topic7\", \"Topic7\", \"Topic7\", \"Topic7\", \"Topic7\", \"Topic7\", \"Topic7\", \"Topic7\", \"Topic7\", \"Topic7\", \"Topic7\", \"Topic7\", \"Topic7\", \"Topic7\", \"Topic7\", \"Topic7\", \"Topic7\", \"Topic7\", \"Topic7\", \"Topic7\", \"Topic7\", \"Topic7\", \"Topic7\", \"Topic7\", \"Topic7\", \"Topic7\", \"Topic7\", \"Topic7\", \"Topic7\", \"Topic7\", \"Topic7\", \"Topic7\", \"Topic7\", \"Topic7\", \"Topic7\", \"Topic7\", \"Topic7\", \"Topic7\", \"Topic7\", \"Topic7\", \"Topic7\", \"Topic7\", \"Topic7\", \"Topic7\", \"Topic7\", \"Topic7\", \"Topic8\", \"Topic8\", \"Topic8\", \"Topic8\", \"Topic8\", \"Topic8\", \"Topic8\", \"Topic8\", \"Topic8\", \"Topic8\", \"Topic8\", \"Topic8\", \"Topic8\", \"Topic8\", \"Topic8\", \"Topic8\", \"Topic8\", \"Topic8\", \"Topic8\", \"Topic8\", \"Topic8\", \"Topic8\", \"Topic8\", \"Topic8\", \"Topic8\", \"Topic8\", \"Topic8\", \"Topic8\", \"Topic8\", \"Topic8\", \"Topic8\", \"Topic8\", \"Topic8\", \"Topic8\", \"Topic8\", \"Topic8\", \"Topic8\", \"Topic8\", \"Topic8\", \"Topic8\", \"Topic8\", \"Topic8\", \"Topic8\", \"Topic8\", \"Topic8\", \"Topic8\", \"Topic8\", \"Topic8\", \"Topic8\", \"Topic8\", \"Topic8\", \"Topic8\", \"Topic8\", \"Topic8\", \"Topic8\", \"Topic8\", \"Topic8\", \"Topic8\", \"Topic8\", \"Topic8\", \"Topic8\", \"Topic8\", \"Topic8\", \"Topic8\", \"Topic8\", \"Topic8\", \"Topic8\"], \"logprob\": [30.0, 29.0, 28.0, 27.0, 26.0, 25.0, 24.0, 23.0, 22.0, 21.0, 20.0, 19.0, 18.0, 17.0, 16.0, 15.0, 14.0, 13.0, 12.0, 11.0, 10.0, 9.0, 8.0, 7.0, 6.0, 5.0, 4.0, 3.0, 2.0, 1.0, -4.721099853515625, -4.950200080871582, -5.226799964904785, -5.365300178527832, -5.767399787902832, -5.417200088500977, -5.741600036621094, -6.214600086212158, -6.34689998626709, -5.232500076293945, -6.363500118255615, -5.373000144958496, -6.476200103759766, -5.269199848175049, -6.571599960327148, -6.626800060272217, -6.700399875640869, -5.887599945068359, -6.739699840545654, -6.6209001541137695, -6.827199935913086, -6.871300220489502, -4.361800193786621, -6.969699859619141, -6.974599838256836, -7.06850004196167, -6.639500141143799, -7.104000091552734, -7.1819000244140625, -3.984299898147583, -2.2611000537872314, -6.448699951171875, -5.196599960327148, -5.504799842834473, -4.9918999671936035, -3.4570000171661377, -5.98360013961792, -6.152400016784668, -5.530600070953369, -6.065800189971924, -6.1545000076293945, -3.8457000255584717, -6.079800128936768, -5.986100196838379, -5.1645002365112305, -5.300300121307373, -4.0920000076293945, -5.271399974822998, -5.8394999504089355, -4.825699806213379, -5.509200096130371, -3.905100107192993, -4.373000144958496, -5.56820011138916, -4.528299808502197, -4.610599994659424, -4.367199897766113, -5.122099876403809, -5.013800144195557, -5.172100067138672, -4.71619987487793, -4.793700218200684, -5.189000129699707, -5.251699924468994, -5.329500198364258, -5.110300064086914, -4.887700080871582, -5.439300060272217, -4.851900100708008, -6.098899841308594, -6.168300151824951, -6.464099884033203, -7.162399768829346, -5.847599983215332, -4.745200157165527, -7.40310001373291, -7.440899848937988, -7.510799884796143, -7.598299980163574, -7.3582000732421875, -7.7378997802734375, -6.636499881744385, -3.280100107192993, -4.9791998863220215, -7.332799911499023, -5.8678998947143555, -7.955399990081787, -7.948999881744385, -6.333700180053711, -8.024900436401367, -8.020899772644043, -7.847599983215332, -8.099699974060059, -4.125899791717529, -6.611100196838379, -3.506500005722046, -5.76140022277832, -4.968500137329102, -5.820000171661377, -3.372499942779541, -5.214200019836426, -5.581900119781494, -4.861999988555908, -5.855899810791016, -4.286099910736084, -5.799499988555908, -3.7780001163482666, -5.226900100708008, -4.9380998611450195, -3.5601999759674072, -4.307700157165527, -4.505099773406982, -5.578000068664551, -4.632500171661377, -5.44379997253418, -3.6215999126434326, -5.160699844360352, -3.767199993133545, -3.721100091934204, -3.2237000465393066, -4.508500099182129, -3.7737998962402344, -4.576900005340576, -4.403500080108643, -4.468800067901611, -3.8369998931884766, -4.924699783325195, -4.792500019073486, -4.956699848175049, -5.4664998054504395, -5.5578999519348145, -5.6579999923706055, -5.72730016708374, -5.865300178527832, -5.946599960327148, -6.18149995803833, -6.206699848175049, -5.991399765014648, -6.10260009765625, -6.349100112915039, -6.202700138092041, -5.3643999099731445, -6.526000022888184, -6.683499813079834, -6.371099948883057, -6.4745001792907715, -4.439599990844727, -6.856299877166748, -6.88070011138916, -7.09689998626709, -7.146100044250488, -6.904399871826172, -7.258999824523926, -7.320099830627441, -7.336400032043457, -7.356800079345703, -7.36959981918335, -7.527200222015381, -7.593400001525879, -6.130199909210205, -5.604400157928467, -4.823999881744385, -2.8085999488830566, -6.205399990081787, -6.583099842071533, -5.382699966430664, -4.317999839782715, -6.251299858093262, -5.973700046539307, -4.006499767303467, -5.3480000495910645, -3.8584001064300537, -3.8615000247955322, -5.104899883270264, -3.681299924850464, -5.504799842834473, -5.526500225067139, -3.909600019454956, -5.5954999923706055, -4.419000148773193, -5.668099880218506, -5.401700019836426, -5.063799858093262, -3.844399929046631, -3.822200059890747, -4.779799938201904, -4.295400142669678, -4.60290002822876, -5.213699817657471, -4.260700225830078, -4.912899971008301, -4.356200218200684, -5.041900157928467, -5.216700077056885, -5.299900054931641, -5.0381999015808105, -5.204699993133545, -5.242800235748291, -5.3668999671936035, -5.366099834442139, -4.937900066375732, -4.888599872589111, -4.824900150299072, -6.258200168609619, -6.748199939727783, -6.933700084686279, -6.9878997802734375, -7.171599864959717, -7.262899875640869, -7.289700031280518, -7.518499851226807, -7.324999809265137, -7.561200141906738, -7.6880998611450195, -7.740200042724609, -7.8470001220703125, -7.4293999671936035, -7.919400215148926, -7.921299934387207, -7.953400135040283, -7.95959997177124, -8.001299858093262, -6.7683000564575195, -8.054499626159668, -8.031700134277344, -6.302499771118164, -8.025899887084961, -8.10949993133545, -8.120200157165527, -4.9903998374938965, -5.716700077056885, -4.989299774169922, -6.697800159454346, -4.612400054931641, -4.6082000732421875, -5.53249979019165, -4.319900035858154, -4.126800060272217, -6.396699905395508, -4.887800216674805, -5.837299823760986, -5.613399982452393, -6.1269001960754395, -5.484300136566162, -5.746600151062012, -4.7469000816345215, -5.258800029754639, -5.325900077819824, -5.533100128173828, -3.8541998863220215, -2.779099941253662, -3.3752999305725098, -6.036099910736084, -4.709400177001953, -4.72730016708374, -5.97730016708374, -4.633399963378906, -5.273399829864502, -4.565400123596191, -4.585100173950195, -4.815999984741211, -3.862499952316284, -4.88070011138916, -4.424600124359131, -5.2170000076293945, -4.884200096130371, -5.060200214385986, -4.765100002288818, -4.851799964904785, -5.036300182342529, -4.817800045013428, -4.962200164794922, -5.7179999351501465, -4.869999885559082, -6.1407999992370605, -6.298699855804443, -5.999800205230713, -6.321400165557861, -4.909800052642822, -6.279600143432617, -6.032400131225586, -6.732699871063232, -6.833000183105469, -6.56220006942749, -6.872300148010254, -4.545400142669678, -6.8902997970581055, -7.00029993057251, -6.611400127410889, -7.0854997634887695, -4.881499767303467, -7.086100101470947, -6.846700191497803, -4.997399806976318, -7.278200149536133, -7.298999786376953, -7.374300003051758, -7.357399940490723, -7.36870002746582, -6.479499816894531, -7.422100067138672, -7.434800148010254, -5.672599792480469, -6.049699783325195, -5.069900035858154, -5.480100154876709, -5.86329984664917, -5.597700119018555, -6.05679988861084, -4.826000213623047, -5.532800197601318, -6.376500129699707, -4.23390007019043, -4.792900085449219, -6.461599826812744, -4.4741997718811035, -5.401100158691406, -4.875899791717529, -5.979700088500977, -5.288099765777588, -5.883399963378906, -5.31279993057251, -4.928100109100342, -5.5970001220703125, -5.011000156402588, -5.453999996185303, -3.8729000091552734, -5.000400066375732, -5.597899913787842, -5.559700012207031, -5.45419979095459, -4.524700164794922, -5.186600208282471, -4.8643999099731445, -4.499599933624268, -4.614500045776367, -5.339900016784668, -4.638800144195557, -5.325200080871582, -5.122000217437744, -4.962299823760986, -5.142300128936768, -5.063899993896484, -5.215400218963623, -5.093699932098389, -5.19189977645874, -5.288899898529053, -7.484000205993652, -7.364999771118164, -3.627500057220459, -5.412499904632568, -7.6107001304626465, -5.215400218963623, -5.53980016708374, -7.9506001472473145, -7.603799819946289, -7.791100025177002, -2.7390999794006348, -5.495500087738037, -7.968400001525879, -3.566699981689453, -5.7347002029418945, -7.478099822998047, -6.460000038146973, -4.349699974060059, -7.401400089263916, -5.610000133514404, -7.6265997886657715, -7.969600200653076, -8.300399780273438, -5.247799873352051, -7.753799915313721, -6.614799976348877, -4.678699970245361, -7.978799819946289, -1.4764000177383423, -4.049799919128418, -5.46019983291626, -2.1800999641418457, -4.645100116729736, -3.751499891281128, -5.30109977722168, -3.6679999828338623, -6.395100116729736, -4.792399883270264, -4.071300029754639, -6.161099910736084, -3.037600040435791, -3.784899950027466, -4.71999979019165, -5.042200088500977, -4.413300037384033, -5.76170015335083, -4.048099994659424, -5.934700012207031, -4.971399784088135, -4.327499866485596, -5.064199924468994, -4.869900226593018, -4.809700012207031, -5.2835001945495605, -6.218299865722656, -6.549099922180176, -6.658899784088135, -6.670400142669678, -6.86959981918335, -7.040900230407715, -7.058300018310547, -6.241199970245361, -7.095799922943115, -7.230100154876709, -7.044899940490723, -7.254700183868408, -7.186999797821045, -7.297399997711182, -7.309899806976318, -7.1234002113342285, -7.354800224304199, -7.354800224304199, -7.343400001525879, -7.361400127410889, -7.366300106048584, -7.365099906921387, -7.410900115966797, -7.3805999755859375, -7.475599765777588, -7.486800193786621, -6.752500057220459, -7.5879998207092285, -7.553899765014648, -7.488900184631348, -7.23330020904541, -5.800600051879883, -4.9517998695373535, -6.52839994430542, -6.625, -5.893099784851074, -6.884300231933594, -6.8394999504089355, -6.642600059509277, -3.936300039291382, -5.312699794769287, -6.724699974060059, -2.845099925994873, -3.5032999515533447, -4.625500202178955, -5.89739990234375, -4.30019998550415, -5.926799774169922, -3.499500036239624, -5.699999809265137, -6.258399963378906, -6.362400054931641, -4.535799980163574, -4.386300086975098, -5.822299957275391, -5.6367998123168945, -6.143599987030029, -3.2304999828338623, -4.036200046539307, -4.275000095367432, -4.692699909210205, -4.488399982452393, -3.9772000312805176, -4.270400047302246, -5.146599769592285, -4.869500160217285, -5.347400188446045, -4.110400199890137, -4.2692999839782715, -4.832699775695801, -5.511300086975098, -5.45389986038208, -5.543799877166748, -5.10890007019043, -5.299200057983398, -5.3668999671936035, -5.427599906921387, -5.872399806976318, -5.950699806213379, -6.658199787139893, -6.384399890899658, -7.083099842071533, -7.050099849700928, -7.151000022888184, -7.158199787139893, -7.243100166320801, -7.2982001304626465, -7.436100006103516, -7.444200038909912, -7.520999908447266, -6.954400062561035, -4.154900074005127, -6.772799968719482, -7.190499782562256, -6.5183000564575195, -6.0081000328063965, -7.492000102996826, -7.519000053405762, -4.287600040435791, -7.137199878692627, -6.752699851989746, -7.282400131225586, -6.886300086975098, -6.386600017547607, -6.292799949645996, -7.608099937438965, -6.759399890899658, -6.490300178527832, -1.7244999408721924, -5.542200088500977, -5.5055999755859375, -3.4821999073028564, -4.744999885559082, -4.947299957275391, -3.501800060272217, -4.3404998779296875, -5.703499794006348, -4.629499912261963, -4.485199928283691, -3.89739990234375, -5.168499946594238, -3.103600025177002, -5.086699962615967, -4.4857001304626465, -2.924299955368042, -3.8064000606536865, -6.312600135803223, -4.163899898529053, -4.196700096130371, -4.908899784088135, -5.097400188446045, -4.719699859619141, -5.279900074005127, -5.166999816894531, -4.346199989318848, -5.153600215911865, -5.362299919128418, -4.964200019836426, -5.072199821472168, -5.010799884796143, -4.970699787139893, -4.832099914550781, -5.035200119018555, -4.898900032043457], \"loglift\": [30.0, 29.0, 28.0, 27.0, 26.0, 25.0, 24.0, 23.0, 22.0, 21.0, 20.0, 19.0, 18.0, 17.0, 16.0, 15.0, 14.0, 13.0, 12.0, 11.0, 10.0, 9.0, 8.0, 7.0, 6.0, 5.0, 4.0, 3.0, 2.0, 1.0, 1.4917, 1.4914, 1.4907, 1.4904, 1.4888, 1.4879, 1.4877, 1.4872, 1.4865, 1.4862, 1.4861, 1.4856, 1.4854, 1.4852, 1.4849, 1.4844, 1.4838, 1.4834, 1.4834, 1.4826, 1.4819, 1.4816, 1.4809, 1.4806, 1.4797, 1.4793, 1.4791, 1.4791, 1.4779, 1.4771, 1.4421, 1.4728, 1.4434, 1.446, 1.4267, 1.3296, 1.4334, 1.433, 1.3639, 1.4202, 1.4264, 1.0388, 1.3886, 1.3665, 1.1721, 1.2015, 0.8734, 1.1677, 1.3276, 0.9808, 1.1802, 0.443, 0.5984, 1.162, 0.3364, 0.1686, -0.2755, 0.576, 0.3149, 0.4968, -0.5205, -0.8383, 0.2982, 0.5106, -1.8404, 1.7202, 1.7182, 1.7174, 1.7155, 1.7143, 1.7143, 1.7098, 1.7025, 1.7013, 1.697, 1.6958, 1.6957, 1.6937, 1.6884, 1.6855, 1.6852, 1.6836, 1.6809, 1.6809, 1.6798, 1.6795, 1.6778, 1.6776, 1.6764, 1.6747, 1.6738, 1.6726, 1.671, 1.6708, 1.6698, 1.6517, 1.6678, 1.6533, 1.6616, 1.6008, 1.6058, 1.6112, 1.5712, 1.5892, 1.476, 1.573, 1.4076, 1.5188, 1.4927, 1.235, 1.3307, 1.3065, 1.5227, 1.2882, 1.4843, 0.9285, 1.3857, 0.8445, 0.7407, 0.5169, 1.0669, 0.4219, 0.8304, 0.6953, 0.5025, -0.3479, 1.0244, 0.6676, 0.6582, 1.9625, 1.9625, 1.9619, 1.9617, 1.9604, 1.9586, 1.9581, 1.9576, 1.9575, 1.9565, 1.9561, 1.9547, 1.9546, 1.9532, 1.9509, 1.9499, 1.949, 1.9488, 1.9487, 1.9483, 1.9435, 1.9401, 1.9395, 1.9381, 1.9375, 1.9367, 1.9362, 1.936, 1.9306, 1.9279, 1.9201, 1.9091, 1.8832, 1.7711, 1.8992, 1.9115, 1.8331, 1.7624, 1.8841, 1.861, 1.6817, 1.8017, 1.6482, 1.6373, 1.7608, 1.5156, 1.7839, 1.7689, 1.3835, 1.7564, 1.2895, 1.7262, 1.608, 1.4221, 0.7673, 0.6396, 1.1984, 0.4837, 0.7258, 1.2112, -0.065, 0.586, -0.8671, 0.6172, 1.0235, 1.0507, -0.4881, 0.108, 0.3721, -1.6263, 2.0283, 2.0267, 2.0263, 2.0262, 2.0214, 2.0142, 2.0106, 2.0068, 2.0047, 2.0019, 2.0012, 1.9932, 1.9896, 1.9878, 1.9818, 1.9791, 1.9782, 1.9781, 1.9742, 1.9722, 1.9719, 1.9711, 1.9691, 1.967, 1.9644, 1.9642, 1.9634, 1.9623, 1.962, 1.9611, 1.9601, 1.9539, 1.9074, 1.9305, 1.8492, 1.844, 1.8749, 1.8234, 1.7885, 1.899, 1.7987, 1.8459, 1.8189, 1.8559, 1.7715, 1.7717, 1.6303, 1.6691, 1.6122, 1.6407, 1.2445, 0.9615, 0.9728, 1.7404, 1.2674, 1.2509, 1.7165, 0.942, 1.2518, 0.6201, 0.6117, 0.7989, -0.3735, 0.7883, 0.0372, 1.1348, 0.5231, 0.696, -0.215, -0.0566, 0.4625, -0.6221, -0.8704, 2.3165, 2.3146, 2.3122, 2.3099, 2.3096, 2.3095, 2.3086, 2.3086, 2.3079, 2.3011, 2.2991, 2.2983, 2.2981, 2.2972, 2.2954, 2.2944, 2.2932, 2.2891, 2.2885, 2.2865, 2.285, 2.2849, 2.2847, 2.2837, 2.2807, 2.2807, 2.2806, 2.2791, 2.2786, 2.278, 2.2759, 2.2721, 2.2582, 2.2478, 2.2554, 2.2471, 2.252, 2.1914, 2.1954, 2.238, 2.0004, 2.0415, 2.2422, 1.9621, 2.0867, 2.007, 2.1716, 2.0205, 2.1351, 1.9913, 1.8783, 2.0094, 1.7379, 1.8579, 0.6772, 1.4556, 1.8989, 1.7336, 1.5917, 0.3598, 1.1652, 0.5957, -0.1515, -0.0348, 1.3692, -0.4431, 1.3103, 0.6896, 0.009, 0.5663, -0.6021, 0.423, -1.3532, -0.3272, 0.4732, 2.3948, 2.3618, 2.2956, 2.2798, 2.2783, 2.2539, 2.2341, 2.2185, 2.21, 2.2079, 2.2029, 2.1933, 2.1645, 2.1418, 2.106, 2.0976, 2.0972, 2.0937, 2.0872, 2.0857, 2.0841, 2.0831, 2.0794, 2.0667, 2.0506, 2.0301, 2.02, 2.0143, 2.0127, 1.9952, 1.979, 1.9117, 1.954, 1.8004, 1.8254, 1.5969, 1.9114, 1.5118, 1.3384, 1.7814, 0.9178, 1.0798, 1.3059, 1.3952, 1.0855, 1.6579, 0.8363, 1.7135, 0.9749, -0.6243, 0.2485, -0.408, -1.0692, -0.4883, 2.5402, 2.5371, 2.5313, 2.5296, 2.5272, 2.5218, 2.5217, 2.5167, 2.5157, 2.5129, 2.5121, 2.5118, 2.5107, 2.5102, 2.509, 2.5083, 2.5076, 2.5076, 2.5074, 2.5071, 2.5065, 2.5064, 2.5043, 2.5039, 2.5006, 2.4997, 2.4996, 2.4925, 2.4918, 2.4895, 2.4893, 2.4696, 2.4489, 2.4609, 2.4582, 2.3465, 2.434, 2.4251, 2.3915, 1.7618, 2.011, 2.3522, 1.3506, 1.4622, 1.6837, 2.0696, 1.4524, 2.0369, 1.1122, 1.9318, 2.1504, 2.1937, 1.3566, 1.2728, 1.9305, 1.8159, 2.0708, 0.51, 0.7429, 0.8238, 0.9763, 0.7765, 0.3708, 0.5248, 1.17, 0.8497, 1.2914, -0.1549, -0.7803, 0.1093, 1.2497, 1.0214, 1.2081, -0.1376, 0.1106, -0.1701, -0.1149, 2.7104, 2.7088, 2.6947, 2.6898, 2.679, 2.6776, 2.6754, 2.6748, 2.67, 2.6673, 2.6586, 2.6582, 2.6508, 2.646, 2.593, 2.5893, 2.5791, 2.5749, 2.5639, 2.5581, 2.5508, 2.5503, 2.5489, 2.546, 2.5149, 2.4705, 2.4387, 2.4236, 2.4162, 2.4081, 2.3894, 2.231, 2.317, 2.3059, 2.005, 2.1641, 2.1018, 1.8108, 1.9227, 2.2404, 1.9622, 1.7723, 1.5123, 1.9567, 0.9882, 1.823, 1.5402, 0.8162, 1.0583, 2.3233, 1.1647, 1.0682, 1.4377, 1.5289, 1.2266, 1.6135, 1.4861, 0.433, 1.2836, 1.6184, 0.7443, 0.9046, 0.7454, 0.4893, -0.282, 0.4636, -0.7032]}, \"token.table\": {\"Topic\": [1, 1, 3, 5, 2, 4, 7, 1, 2, 3, 6, 7, 1, 2, 4, 7, 2, 3, 4, 5, 6, 1, 1, 2, 3, 4, 5, 6, 7, 8, 1, 8, 2, 4, 5, 7, 8, 1, 3, 5, 7, 6, 7, 2, 4, 5, 7, 2, 3, 4, 5, 7, 2, 2, 3, 4, 5, 6, 7, 8, 2, 7, 3, 8, 7, 2, 3, 5, 2, 2, 3, 1, 2, 3, 4, 5, 6, 7, 8, 3, 7, 1, 2, 3, 4, 5, 6, 7, 3, 8, 1, 8, 1, 4, 1, 1, 6, 7, 8, 1, 3, 4, 5, 6, 7, 8, 1, 6, 3, 1, 4, 5, 6, 7, 8, 3, 6, 2, 4, 6, 7, 2, 6, 8, 7, 1, 2, 3, 4, 5, 6, 7, 8, 1, 2, 3, 4, 5, 6, 7, 8, 1, 2, 3, 4, 7, 8, 2, 3, 4, 5, 1, 4, 5, 7, 2, 3, 5, 7, 2, 3, 4, 5, 7, 1, 2, 3, 4, 5, 6, 7, 8, 1, 2, 3, 4, 5, 8, 1, 6, 8, 1, 6, 1, 3, 3, 5, 4, 5, 2, 3, 4, 5, 7, 3, 4, 5, 7, 8, 8, 2, 3, 4, 7, 1, 3, 2, 5, 1, 2, 5, 3, 5, 3, 1, 2, 3, 4, 5, 6, 7, 8, 1, 2, 3, 4, 5, 6, 7, 8, 4, 5, 7, 8, 1, 2, 3, 4, 7, 8, 1, 7, 4, 5, 1, 1, 3, 4, 7, 2, 1, 2, 3, 4, 5, 6, 7, 1, 2, 3, 4, 5, 7, 8, 1, 2, 4, 5, 8, 2, 3, 5, 7, 8, 1, 4, 6, 8, 1, 2, 3, 4, 5, 6, 7, 1, 3, 5, 7, 2, 4, 5, 7, 8, 1, 2, 4, 7, 8, 1, 2, 3, 4, 5, 6, 7, 8, 7, 3, 8, 5, 1, 2, 3, 4, 5, 7, 7, 4, 5, 6, 5, 1, 3, 4, 5, 6, 7, 5, 2, 3, 5, 3, 7, 7, 1, 1, 1, 2, 4, 7, 2, 5, 1, 1, 2, 3, 5, 6, 7, 4, 4, 4, 3, 7, 1, 3, 4, 5, 6, 7, 3, 4, 5, 2, 4, 5, 8, 1, 2, 3, 4, 5, 6, 7, 8, 1, 5, 1, 4, 5, 6, 7, 8, 1, 6, 1, 2, 3, 4, 5, 6, 7, 8, 1, 6, 8, 1, 6, 7, 3, 4, 6, 7, 1, 7, 1, 2, 3, 4, 5, 6, 7, 1, 7, 4, 3, 5, 1, 4, 6, 1, 2, 4, 6, 7, 1, 1, 1, 2, 3, 4, 5, 1, 2, 3, 4, 5, 6, 7, 8, 3, 5, 4, 2, 4, 3, 4, 5, 7, 8, 7, 1, 2, 3, 5, 7, 7, 6, 2, 2, 3, 4, 8, 1, 3, 4, 5, 6, 7, 1, 2, 3, 4, 5, 6, 7, 4, 4, 8, 1, 3, 4, 6, 7, 8, 1, 3, 4, 6, 7, 8, 1, 8, 3, 1, 2, 4, 5, 6, 7, 1, 2, 3, 4, 5, 6, 7, 8, 1, 2, 3, 4, 5, 6, 7, 8, 1, 3, 4, 5, 8, 2, 3, 4, 5, 6, 7, 8, 7, 1, 2, 4, 5, 6, 7, 8, 5, 1, 1, 2, 3, 8, 4, 7, 3, 4, 6, 7, 2, 3, 6, 7, 2, 3, 4, 5, 6, 7, 8, 2, 4, 5, 3, 3, 2, 3, 4, 5, 6, 7, 8, 5, 3, 1, 2, 3, 4, 5, 6, 7, 8, 2, 4, 5, 7, 1, 2, 3, 4, 5, 6, 7, 8, 2, 7, 2, 2, 4, 2, 4, 5, 2, 2, 7, 1, 2, 3, 4, 5, 6, 7, 8, 7, 2, 1, 2, 5, 1, 2, 4, 5, 6, 7, 1, 2, 3, 4, 5, 6, 7, 8, 2, 3, 4, 5, 7, 8, 1, 8, 1, 2, 3, 4, 6, 7, 1, 2, 3, 4, 5, 8, 1, 2, 3, 5, 7, 8, 4, 7, 3, 3, 1, 2, 3, 4, 6, 7, 8, 4, 2, 3, 4, 5, 7, 8, 4, 2, 3, 4, 5, 7, 8, 1, 2, 3, 4, 5, 6, 7, 8, 1, 2, 3, 4, 5, 6, 7, 1, 8, 1, 3, 4, 5, 6, 7, 8, 1, 2, 3, 5, 7, 8, 1, 3, 5, 1, 2, 4, 6, 7, 8, 4, 8, 1, 2, 4, 5, 6, 7, 8, 2, 3, 4, 5, 6, 7, 5, 8, 3, 4, 5, 7, 2, 3, 4, 5, 7, 1, 3, 5, 7, 1, 6, 2, 1, 1, 1, 2, 3, 5, 2, 3, 4, 1, 3, 4, 5, 6, 7, 8, 1, 2, 3, 4, 7, 8, 3, 3, 1, 2, 3, 4, 5, 6, 7, 8, 7, 2, 4, 5, 7, 2, 4, 2, 3, 4, 5, 1, 2, 3, 4, 5, 6, 7, 8, 1, 2, 3, 4, 5, 7, 8, 1, 2, 3, 4, 5, 6, 7, 8, 1, 2, 3, 4, 5, 7, 1, 2, 3, 4, 5, 6, 7, 8, 8, 1, 2, 3, 4, 5, 6, 7, 8, 3, 1, 2, 3, 4, 5, 6, 7, 8, 2, 3, 4, 5, 1, 2, 3, 4, 5, 6, 7, 8, 8, 1, 2, 3, 4, 5, 8, 4, 7, 3, 4, 5, 7, 1, 3, 7, 8, 2, 4, 6, 3, 7, 4, 4, 4, 3, 4, 5, 7, 7, 3, 4, 5, 1, 2, 3, 4, 5, 6, 7, 8, 8, 2, 3, 1, 2, 2, 3, 4, 5, 7, 2, 3, 4, 5, 7, 2, 1, 2, 3, 4, 5, 6, 7, 8, 1, 2, 3, 4, 5, 6, 7, 8, 4, 5, 1, 2, 3, 4, 5, 7, 8, 1, 2, 3, 4, 5, 6, 7, 8, 2, 4, 5, 5, 3, 2, 4, 1, 2, 3, 4, 5, 8, 1, 2, 3, 4, 5, 7, 8, 2, 3, 4, 6, 7, 1, 2, 6, 1, 3, 3, 4, 1, 3, 1, 8, 1, 8, 1, 6, 1, 3, 5, 3, 3, 2, 4, 1, 2, 3, 4, 5, 6, 7, 8, 4, 7, 8, 2, 5, 6, 7, 1, 7, 2, 3, 4, 5, 7, 4, 6, 1, 2, 3, 4, 5, 7, 8, 1, 2, 3, 4, 5, 6, 7, 8, 1, 2, 4, 7, 8, 5, 2, 3, 5, 8, 1, 3, 4, 5, 7, 1, 3, 4, 5, 6, 7, 8, 3, 8, 1, 2, 3, 4, 5, 7, 8, 1, 2, 3, 4, 7, 1, 2, 3, 4, 5, 6, 7, 8, 7, 1, 2, 4, 5, 6, 7, 8, 3, 1, 2, 3, 4, 5, 6, 7, 8, 1, 2, 3, 4, 5, 6, 7, 8, 3, 4, 8, 5, 6, 4, 5, 1, 2, 3, 4, 5, 6, 7, 8, 1, 2, 3, 4, 5, 6, 7, 8, 3, 1, 2, 3, 4, 5, 6, 7, 8, 5, 4, 1, 1, 2, 3, 4, 5, 7, 3, 4, 5, 7, 3, 4, 1, 2, 3, 4, 5, 6, 7, 8, 1, 6, 7, 1, 2, 3, 4, 6, 7, 8, 1, 3, 4, 5, 6, 7, 8, 1, 8, 2, 4, 7, 1, 5, 8, 1, 5, 7, 1, 1, 8, 7, 5, 4, 1, 2, 3, 4, 5, 6, 8, 2, 6, 1, 4, 5, 3, 4, 7, 8, 1, 3, 4, 5, 6, 7, 8, 4, 1, 2, 3, 6, 7, 8, 7, 2, 3, 4, 5, 6, 7, 8, 4, 1, 6, 7, 5, 6, 7, 8, 1, 3, 4, 5, 6, 7, 4, 5, 6, 7, 1, 2, 3, 4, 5, 7, 4, 1, 6, 2, 3, 4, 7, 1, 2, 3, 4, 5, 6, 8, 2, 8, 1, 4, 2, 3, 4, 7, 8, 3, 4, 5, 8, 1, 2, 3, 4, 5, 6, 7, 8, 5, 7, 1, 2, 4, 5, 8, 5, 3, 4, 5, 6, 7, 8, 1, 2, 3, 4, 3, 5, 7, 5, 1, 2, 3, 4, 6, 1, 2, 3, 4, 5, 6, 7, 8, 1, 3, 5, 2, 3, 7, 1, 6, 3, 2, 3, 4, 5, 2, 3, 4, 5, 2, 6, 7, 4, 2, 3, 4, 5, 6, 7, 8, 2, 3, 4, 5, 6, 7, 8, 8, 3, 5, 2, 4, 1, 7, 5, 1, 2, 4, 5, 6, 1, 2, 6, 7, 8, 1, 2, 3, 4, 5, 8, 1, 2, 3, 4, 5, 6, 7, 8, 1, 4, 7, 1, 4, 6, 2, 3, 5, 7, 1, 6, 7, 5, 3, 4, 5, 3, 8, 5, 1, 2, 3, 4, 5, 6, 7, 8, 1, 3, 4, 6, 8, 1, 2, 3, 4, 5, 6, 7, 8, 1, 2, 3, 4, 5, 6, 7, 8, 2, 3, 4, 5, 5, 3, 1, 2, 3, 4, 5, 6, 7, 8, 2, 4, 5, 2, 4, 5, 2, 2, 3, 4, 5, 6, 7, 2, 3, 4, 5, 7, 1, 3, 7, 1, 3, 4, 7, 2, 3, 4, 5, 7, 2, 3, 4, 5, 7, 8, 1, 5, 1, 5, 6, 2, 5, 7, 5, 1, 2, 4, 5, 6, 7, 8, 1, 2, 3, 4, 5, 6, 7, 8, 1, 2, 3, 4, 5, 6, 7, 8, 1, 2, 3, 4, 5, 7, 1, 1, 2, 7, 8, 1, 2, 4, 5, 2], \"Freq\": [0.9984990292466156, 0.9978181135309315, 0.024625312062246486, 0.960387170427613, 0.005473329862674477, 0.09851993752814059, 0.8921527676159398, 0.1318819949578343, 0.01465355499531492, 0.00732677749765746, 0.842579412230608, 0.9744604629882883, 0.0266846859442804, 0.8939369791333934, 0.07560661017546114, 0.9348299143488505, 0.006264865727414921, 0.015662164318537303, 0.0031324328637074607, 0.9710541877493128, 0.0031324328637074607, 0.9948389410722825, 0.3497891966525012, 0.048344848317825366, 0.018614059245365917, 0.34642832484431013, 0.0840217952047767, 0.02507727426111797, 0.1116843554721955, 0.016028773239065094, 0.9936995993652664, 0.003334562413977404, 0.023145797911904412, 0.8828468632112112, 0.0033065425588434875, 0.08927664908877417, 0.0033065425588434875, 0.07688795068449586, 0.009610993835561982, 0.3171627965735454, 0.586270623969281, 0.7168260237166934, 0.2757023168141128, 0.2058024989538543, 0.2774658691252857, 0.10290124947692715, 0.41528004253188455, 0.011298710360406429, 0.005649355180203214, 0.8078577907690596, 0.1186364587842675, 0.06214290698223535, 0.9921989595186402, 0.35765251201602305, 0.0005477067565329603, 0.45459660792235707, 0.010954135130659206, 0.0005477067565329603, 0.17581386884708025, 0.0005477067565329603, 0.03485909169772115, 0.9411954758384712, 0.029177647829294585, 0.9628623783667213, 0.9577824199787165, 0.020145924036716095, 0.04029184807343219, 0.9267125056889403, 0.9270241288033623, 0.9368098284588331, 0.9804674550479792, 0.09238547454202513, 0.22518959419618625, 0.12125593533640798, 0.1934320873223651, 0.04907978335045085, 0.0028870460794382853, 0.2684952853877605, 0.04907978335045085, 0.9478236465756572, 0.032683574019850246, 0.06581795589908795, 0.25047388772708473, 0.10421176350688927, 0.15357523043120525, 0.03290897794954398, 0.3912511822890229, 0.0018282765527524434, 0.9807675420349872, 0.9829177303364408, 0.10759892815302653, 0.8607914252242123, 0.9528072437325268, 0.0453717735110727, 0.988904409662621, 0.9500770466856582, 0.046126830768688246, 0.0001356671493196713, 0.0035273458823114542, 0.537797745738442, 0.0872363544780717, 0.0038345650320031517, 0.007669130064006303, 0.029717878998024423, 0.332169195897273, 0.0009586412580007879, 0.3027823422082593, 0.6661211528581704, 0.9561043777731502, 0.2080342797364484, 0.06934475991214946, 0.002101356360974226, 0.6997516682044173, 0.01681085088779381, 0.004202712721948452, 0.14713252709991845, 0.8092288990495515, 0.013057229831864152, 0.06528614915932077, 0.013057229831864152, 0.9140060882304907, 0.150596275069952, 0.150596275069952, 0.6588587034310399, 0.9625648898217978, 0.052907006564796466, 0.06104654603630362, 0.15532954491459477, 0.06375972586013934, 0.08817834427466079, 0.11056207782130545, 0.06850779055185184, 0.39951572905980925, 0.30809622720022856, 0.03721967845371888, 0.2887971346686706, 0.12475484815042812, 0.004824773132889485, 0.013785066093969957, 0.013785066093969957, 0.20953300462834334, 0.010425578157106711, 0.0052127890785533555, 0.80798230717577, 0.10946857064962046, 0.057340679864086905, 0.0052127890785533555, 0.8620156278655766, 0.05853192534889718, 0.005321084122627016, 0.0691740935941512, 0.03796951293493631, 0.015187805173974524, 0.8808927000905223, 0.0607512206958981, 0.008206858909493502, 0.9191681978632723, 0.06839049091244585, 0.0027356196364978344, 0.24412645225960453, 0.5574331525709771, 0.14368205364597977, 0.039246486875522256, 0.014634283241720163, 0.09998964462670983, 0.4515355154503637, 0.0857506129551847, 0.10568525729531988, 0.19238513902860624, 0.007594150224813405, 0.007910573150847297, 0.04936197646128713, 0.9347169819452716, 0.002049817942862438, 0.016398543542899505, 0.004099635885724876, 0.03894654091438632, 0.9248956984907556, 0.9839522417561637, 0.014168912281288757, 0.0007871617934049309, 0.9875939454263142, 0.011523850004974495, 0.0929243929677644, 0.8954532413257298, 0.9813712872602184, 0.9393669480002752, 0.05429121327625288, 0.9229506256962989, 0.012663995213727384, 0.025327990427454768, 0.050655980854909535, 0.11397595692354645, 0.8104956936785526, 0.06603920543220272, 0.7264312597542298, 0.14675378984933937, 0.022013068477400904, 0.03668844746233484, 0.9818280201847795, 0.06951613611344323, 0.20854840834032973, 0.01737903402836081, 0.6951613611344324, 0.937297224723122, 0.05899073442313355, 0.9609045794130299, 0.027454416554658, 0.03959320463911173, 0.9502369113386815, 0.01319773487970391, 0.2622022978358623, 0.7260986709300802, 0.9848088472201678, 0.3146516694037292, 0.05157513589399969, 0.06111003496683997, 0.03207193324500821, 0.07064493403968025, 0.2539750389402002, 0.02860469721852084, 0.18809755443694004, 0.7251891741210253, 0.04910135033111109, 0.08120607939376065, 0.03399324253692306, 0.06420945812529912, 0.0018885134742735034, 0.03965878295974357, 0.0037770269485470067, 0.02244556729379538, 0.9314910426925084, 0.03366835094069307, 0.01122278364689769, 0.05362147056043524, 0.09261890369529722, 0.22423524052545646, 0.08043220584065286, 0.08286954541158173, 0.46553185804741504, 0.9879446043075392, 0.9185443156788152, 0.9933038039732389, 0.003367131538892335, 0.9841665726066586, 0.05383018920480847, 0.8319211058924946, 0.009787307128146995, 0.09787307128146995, 0.9512367694712937, 0.03332723870920103, 0.49734494689115394, 0.17689072853345164, 0.2422633890784229, 0.034609055582631845, 0.001281816873430809, 0.0140999856077389, 0.14662841551365802, 0.0017049815757402096, 0.04603450254498566, 0.011934871030181466, 0.7229121881138488, 0.003409963151480419, 0.06649428145386818, 0.03054129256041085, 0.010180430853470283, 0.020360861706940566, 0.9365996385192661, 0.0050902154267351415, 0.029846207340412392, 0.07834629426858253, 0.8730015647070625, 0.011192327752654647, 0.003730775917551549, 0.5112715153795007, 0.09597246875724415, 0.006979815909617756, 0.3838898750289766, 0.7463483550894126, 0.002227905537580336, 0.08020459935289209, 0.13144642671723983, 0.008911622150321343, 0.015595338763062351, 0.013367433225482016, 0.05971661152826757, 0.029858305764133786, 0.788259272173132, 0.11346156190370839, 0.7947964217653395, 0.10168413751044812, 0.002075186479805064, 0.09960895103064306, 0.002075186479805064, 0.0372698650609182, 0.7127861692900606, 0.10016276235121765, 0.06755163042291423, 0.07919846325445117, 0.04692272741709441, 0.659152599430612, 0.00670324677387063, 0.03351623386935315, 0.19439415644224828, 0.0011172077956451052, 0.012289285752096157, 0.04580551962144931, 0.9596683000790054, 0.22748112007328802, 0.7506876962418505, 0.9388321410138852, 0.0037019964238790104, 0.007403992847758021, 0.695975327689254, 0.22211978543274064, 0.014807985695516042, 0.05552994635818516, 0.9514759739183772, 0.952909377173182, 0.16821646870051468, 0.7569741091523161, 0.989025303839754, 0.3012097920243895, 0.06135755022719046, 0.0892473457850043, 0.027889795557813842, 0.45181468803658426, 0.06693550933875322, 0.9436908220915987, 0.009465774116509887, 0.037863096466039546, 0.9560431857674985, 0.1401455682670265, 0.8408734096021591, 0.9216209670962244, 0.9947646982926388, 0.9911194031453573, 0.1734263723759716, 0.8159568667525222, 0.005686110569703987, 0.005686110569703987, 0.0412475154535236, 0.9486928554310428, 0.9944942890185497, 0.06510853998038509, 0.0550918415218643, 0.005008349229260391, 0.6260436536575489, 0.09515863535594743, 0.15525882610707212, 0.9584887309533421, 0.9004789364602084, 0.9701683336837067, 0.9816776321241355, 0.9470783445933191, 0.00940929197252071, 0.03763716789008284, 0.01881858394504142, 0.3010973431206627, 0.5081017665161184, 0.11291150367024853, 0.13198405288079507, 0.0406104778094754, 0.8223621756418769, 0.9487863231891629, 0.030819045300808076, 0.017610883029033186, 0.0022013603786291483, 0.21280692619031533, 0.1510929175951239, 0.10214732457135135, 0.04043331597615991, 0.4192296445949212, 0.004256138523806306, 0.051073662285675676, 0.017024554095225224, 0.9401576276327588, 0.0556306288540094, 0.1248867199010892, 0.008742070393076243, 0.0012488671990108918, 0.8567228985214719, 0.004995468796043567, 0.003746601597032676, 0.0560400206667744, 0.8966403306683904, 0.29452375222758836, 0.10444104688921572, 0.08146401657358827, 0.15875039127160792, 0.0020888209377843145, 0.3488330966099805, 0.008355283751137258, 0.9639308902702414, 0.2708096651179589, 0.5822407800036116, 0.13540483255897945, 0.11128525568224895, 0.8028436302790818, 0.07948946834446353, 0.9243012369142545, 0.022822252763314926, 0.03423337914497239, 0.022822252763314926, 0.08040044553787962, 0.9112050494293022, 0.061383728409307226, 0.17168261539478114, 0.25896260422676487, 0.09399383412675169, 0.13811338892094124, 0.0009591207563954254, 0.2752676570854871, 0.9946757685115902, 0.9668244809139597, 0.9454805381701292, 0.02128022369548498, 0.957610066296824, 0.10438821304694257, 0.19137839058606138, 0.6959214203129505, 0.00918722947351785, 0.8880988491067255, 0.06431060631462496, 0.00918722947351785, 0.024499278596047603, 0.9978517755362771, 0.9910871030855715, 0.0769359489944304, 0.07052461991156121, 0.8142387935243885, 0.032056645414346004, 0.0032056645414346003, 0.007403408988834909, 0.4152639405555581, 0.3008476198190186, 0.02927711736493805, 0.0023556301328111076, 0.0013460743616063471, 0.2342169389195044, 0.009086001940842843, 0.013684121412261087, 0.9852567416827982, 0.9694867345802289, 0.9949495905838492, 0.004288575821482109, 0.01966429759409375, 0.2212233479335547, 0.5555164070331485, 0.2064751247379844, 0.9619226981131554, 0.9714346623577712, 0.9965920545496584, 0.957095283756053, 0.006338379362622867, 0.02535351745049147, 0.006338379362622867, 0.9726746156662824, 0.9132606321374479, 0.9925943009972399, 0.9868621417914818, 0.991451307994354, 0.07742436601000856, 0.8516680261100941, 0.06826082783564336, 0.05688402319636947, 0.09101443711419115, 0.03981881623745863, 0.6257242551600641, 0.11945644871237587, 0.05502331656569388, 0.035271356772880694, 0.1368528642787771, 0.0507907537529482, 0.005643417083660911, 0.6334735676409372, 0.08324040198399844, 0.9531828125277451, 0.8706755184896311, 0.12055507179087199, 0.2537011294350675, 0.051893412838991085, 0.040361543319215286, 0.005765934759887898, 0.47280665031080765, 0.16721210803674905, 0.03704758082405748, 0.04939677443207664, 0.07409516164811496, 0.02469838721603832, 0.6051104867929389, 0.20993629133632571, 0.12537564481610136, 0.8719306207665231, 0.993080386902215, 0.08828654995791768, 0.0038385456503442473, 0.2610211042234088, 0.4798182062930309, 0.08444800430757343, 0.08444800430757343, 0.30287810998441234, 0.01857652407904396, 0.08157517095580173, 0.02746094863858672, 0.023422573838794557, 0.00807674959958433, 0.053306547357256574, 0.48460497597505975, 0.074741839576925, 0.022145730245014816, 0.11903330006695463, 0.14809957101353657, 0.011072865122507408, 0.31834487227208796, 0.002768216280626852, 0.30450379086895374, 0.1150767142147779, 0.48188374077438245, 0.06113450442660076, 0.007192294638423619, 0.33084555336748644, 0.19549753524713526, 0.38928017983420793, 0.08231475168300431, 0.04630204782168993, 0.10632322092388058, 0.02572335990093885, 0.1543401594056331, 0.9486704405640222, 0.5109225212642947, 0.011107011331832494, 0.04998155099324622, 0.05553505665916247, 0.07774907932282746, 0.24805658641092568, 0.044428045327329975, 0.9870942529620171, 0.9824253393421082, 0.9955131904367417, 0.9631261859110348, 0.9733496174403868, 0.9287717591079251, 0.9618980406117578, 0.9829255341863967, 0.2719955252843998, 0.02205369123927566, 0.6910156588306373, 0.014702460826183771, 0.9319273928031746, 0.052750607139802334, 0.0025119336733239205, 0.010047734693295682, 0.729395764001859, 0.0005973757280932505, 0.24313192133395298, 0.005376381552839256, 0.0005973757280932505, 0.02031077475517052, 0.0005973757280932505, 0.0035389689271115472, 0.9944502685183447, 0.987615751569977, 0.9612218577978098, 0.9881106838758874, 0.6755095073694641, 0.009395125276348597, 0.05073367649228242, 0.14938249189394268, 0.049794163964647566, 0.009395125276348597, 0.05449172660282186, 0.9456812555946251, 0.9817607390652717, 0.09706639810277408, 0.0012220589689198175, 0.0038407567594622837, 0.0071577739608160735, 0.0006983194108113243, 0.21595527779340204, 0.06599118432167014, 0.6078870471112577, 0.04664148546356213, 0.8268263332176923, 0.004240135042142012, 0.12084384870104734, 0.11240489046784721, 0.34821934599479937, 0.12891190235473385, 0.08410715580461295, 0.17764688983030397, 0.02751168647814442, 0.015720963701796813, 0.10690255317221832, 0.9775822426102608, 0.012695873280652739, 0.957119809998203, 0.9601414661866624, 0.027432613319618927, 0.9578025276654596, 0.036537426123478024, 0.0026098161516770017, 0.9768274780135864, 0.9738490551696458, 0.023086938807901088, 0.03569933717368379, 0.12604275180033753, 0.05869584271501383, 0.0901244002881649, 0.007665501847110016, 0.6452162411881744, 0.03526130849670607, 0.0013140860309331455, 0.9685802330298487, 0.9743123037303614, 0.8815752386623689, 0.015649264591639685, 0.09911200908038466, 0.1790260723887979, 0.031134969111095288, 0.015567484555547644, 0.0700536804999644, 0.17124233011102408, 0.5292944748886199, 0.11990869993713141, 0.12838709286197908, 0.1877358433359128, 0.04118076563497442, 0.12111989892639537, 0.0968959191411163, 0.29916615034819655, 0.004844795957055815, 0.002639470079673122, 0.4632269989826329, 0.45794805882328665, 0.03167364095607746, 0.019796025597548415, 0.0237552307170581, 0.18039050457523179, 0.781692186492671, 0.08679936312741851, 0.01627488058639097, 0.1139241641047368, 0.11663664420246862, 0.6509952234556388, 0.01627488058639097, 0.1491207004795899, 0.040386856379888925, 0.015533406299957279, 0.03728017511989747, 0.7518168649179323, 0.003106681259991456, 0.3318584655328502, 0.2631980933536398, 0.04291273261200649, 0.10299055826881558, 0.25747639567203895, 0.002860848840800433, 0.9736864256673277, 0.9252926867698157, 0.9568038282143738, 0.9741827436913477, 0.22438868957535216, 0.004155346103247262, 0.004155346103247262, 0.24516542009158848, 0.004155346103247262, 0.05817484544546167, 0.4612434174604461, 0.9381987660035552, 0.09778983317759694, 0.10737707172442017, 0.40649891438530494, 0.3125439766264373, 0.0019174477093646459, 0.07286301295585655, 0.9274710894379143, 0.0421353728296663, 0.12144901580315579, 0.7832222243632088, 0.004957102685843094, 0.04709247551550939, 0.0012392756714607735, 0.16326268691352352, 0.07256119418378823, 0.018140298545947058, 0.038872068312743695, 0.20213475522626723, 0.129573561042479, 0.08292707906718655, 0.28765330551430335, 0.01964394391940256, 0.15224056537536987, 0.017188450929477243, 0.007366478969775961, 0.1325966214559673, 0.6089622615014795, 0.06138732474813301, 0.26423823698811516, 0.720649737240314, 0.284961929716721, 0.0038508368880637973, 0.023105021328382786, 0.015403347552255189, 0.1347792910822329, 0.0038508368880637973, 0.5352663274408679, 0.06082158576317144, 0.8190640216107088, 0.016219089536845716, 0.056766813378960015, 0.016219089536845716, 0.03243817907369143, 0.1697382849199329, 0.08986144495761153, 0.7388607696514726, 0.02288173549501638, 0.8591051599492513, 0.08320631089096865, 0.0020801577722742164, 0.010400788861371081, 0.024961893267290595, 0.04938157337645146, 0.9382498941525776, 0.03557818334247062, 0.6137236626576182, 0.12371504662268193, 0.006468760607721931, 0.05296297747572331, 0.13018380723040388, 0.03719537349440111, 0.05703700128885745, 0.8213328185595472, 0.016296286082530698, 0.09451845927867805, 0.00032592572165061396, 0.010429623092819647, 0.07896330203980423, 0.8685963224378466, 0.004345940928996676, 0.017383763715986704, 0.964798886237262, 0.013037822786990026, 0.02719079099877533, 0.7830947807647295, 0.1305157967941216, 0.04894342379779559, 0.005438158199755066, 0.8775967673124625, 0.0032992359673400845, 0.07258319128148186, 0.046189303542761184, 0.9924026997573449, 0.005736431790504883, 0.9842798729124075, 0.9928006614770877, 0.9850268608014334, 0.9832118692035245, 0.8754231112659392, 0.07438235585919745, 0.045773757451813814, 0.9919562185563148, 0.0023787918910223374, 0.004757583782044675, 0.3999042496748559, 0.1286475017657267, 0.014959011833224036, 0.002991802366644807, 0.003989069822193076, 0.4487703549967211, 0.000997267455548269, 0.07309098144256163, 0.0058472785154049306, 0.8142335332701366, 0.023389114061619722, 0.08186189921566903, 0.0014618196288512326, 0.9866461665154848, 0.977387143791527, 0.2657754439264335, 0.10861780867053344, 0.22678443568572917, 0.07479907703318787, 0.05172276603358736, 0.009150950913634687, 0.1619320444282312, 0.10066046004998155, 0.9720561167386561, 0.03448242305507733, 0.40689259204991246, 0.02758593844406186, 0.5310293150481908, 0.9564288508702323, 0.04027068845769399, 0.007592001468744588, 0.015184002937489177, 0.05314401028121212, 0.9262241791868397, 0.12324501189865261, 0.13037488862006227, 0.16398716459242207, 0.20269220965150306, 0.05296479850190029, 0.07231732103144078, 0.18028402566992985, 0.07333587484878502, 0.7166038914232354, 0.013996169754360067, 0.053185445066568256, 0.07278008272267235, 0.07837855062441638, 0.03918927531220819, 0.025193105557848122, 0.8489491560964344, 0.011623949729365722, 0.03767763015725441, 0.022446247753257945, 0.019640466784100703, 0.03366937162988692, 0.02485120286967844, 0.0008016517054734981, 0.7218661567814553, 0.00418473134366061, 0.10461828359151526, 0.00836946268732122, 0.025108388061963662, 0.13391140299713952, 0.0498991514817934, 0.04339056650590731, 0.15837556774656167, 0.3210901921437141, 0.015186698277067557, 0.0564077364576795, 0.21478330420424116, 0.1431888694694941, 0.8973653275515271, 0.3743358464015398, 0.20418318894629442, 0.1286779472005293, 0.10315504858224249, 0.051045797236573605, 0.07337833352757456, 0.05529961367295474, 0.010634541090952835, 0.9581798769607331, 0.08458721465910414, 0.3742694566423375, 0.2647695691726753, 0.13586097149013646, 0.053591214766898175, 0.057357083912680205, 0.026071401778491005, 0.0031865046618155674, 0.9583180618194314, 0.0009545000615731388, 0.004295250277079125, 0.035793752308992705, 0.340615288074831, 0.002523076207961711, 0.06055382899108107, 0.12867688660604726, 0.010092304831846845, 0.032799990703502244, 0.12363073419012385, 0.30024606874744364, 0.9451921414571436, 0.051947295312541476, 0.008657882552090245, 0.18181553359389518, 0.03463153020836098, 0.051947295312541476, 0.6666569565109489, 0.9267812777479011, 0.9487472241978955, 0.0293888929160548, 0.8424815969269043, 0.07837038110947947, 0.04898148819342467, 0.038911457082332485, 0.038911457082332485, 0.038911457082332485, 0.8560520558113146, 0.0031592220858328254, 0.9919957349515072, 0.0031592220858328254, 0.021265910022725563, 0.9569659510226504, 0.9885898724887674, 0.9784927662044428, 0.9268573685985385, 0.05579551931137606, 0.74925411646705, 0.12753261556885956, 0.0717370962574835, 0.9676560775402644, 0.8474546967223348, 0.13201555577081597, 0.017034265260750445, 0.32979233029988964, 0.0025565296922472067, 0.021730502384101257, 0.16106137061157402, 0.030678356306966477, 0.228809407456125, 0.0025565296922472067, 0.22241808322550696, 0.9286312875966991, 0.9461729923049521, 0.04505585677642629, 0.9019646851782026, 0.09371061664189118, 0.17279051531207237, 0.012453370472942153, 0.8110257520503577, 0.003113342618235538, 0.001556671309117769, 0.047988026235534366, 0.004172871846568206, 0.24202656710095594, 0.6947831624536063, 0.010432179616420515, 0.9703794778772115, 0.30335052201357626, 0.009512734139798558, 0.06447519805863468, 0.2621286740744492, 0.12366554381738126, 0.015854556899664266, 0.08350066633823179, 0.13740615979709028, 0.08941678794787707, 0.13284779923684592, 0.07919772646811969, 0.1992716988552689, 0.12262873775708855, 0.012773826849696725, 0.2810241906933279, 0.08430725720799838, 0.9281027507158011, 0.06629305362255722, 0.15016036314564601, 0.08767752747430337, 0.5069171990755701, 0.04736602058956619, 0.17233169193225145, 0.024186904130842308, 0.010077876721184296, 0.10214196657661191, 0.04821100822416083, 0.2508606699121589, 0.2075524760836754, 0.007354221593516058, 0.25494634857522336, 0.023696936245773965, 0.1037762380418377, 0.9376752841041176, 0.023738614787446016, 0.02967326848430752, 0.9584133328875978, 0.9963038318505705, 0.9623021613748522, 0.9647765749132283, 0.11223487229685344, 0.01870581204947557, 0.01870581204947557, 0.009352906024737786, 0.006235270683158524, 0.8355262715432422, 0.0009661967133779795, 0.8845530910975402, 0.07874503214030533, 0.014976049057358682, 0.01932393426755959, 0.00048309835668898976, 0.0009661967133779795, 0.9639458219239089, 0.10766557423712761, 0.10766557423712761, 0.6459934454227656, 0.9681055347290118, 0.04415563734436042, 0.22077818672180208, 0.7064901975097667, 0.0551418381875186, 0.9435381200975406, 0.9295095036917234, 0.05532794664831687, 0.9935134108765827, 0.0027674468269542696, 0.9883111187190535, 0.005313500638274481, 0.9415388638829054, 0.05267350287456814, 0.8492882988548318, 0.15165862479550568, 0.9913131111924575, 0.9966067897194051, 0.982184153289845, 0.987175763875044, 0.9950227696049381, 0.993748175232983, 0.002472010386151699, 0.015600894539721815, 0.34505507923149425, 0.20281162901638358, 0.2909107981818715, 0.010094696466878822, 0.07708677301980191, 0.015600894539721815, 0.04313188490393678, 0.122409687397127, 0.122409687397127, 0.734458124382762, 0.15428861101346722, 0.23143291652020082, 0.009643038188341701, 0.6075114058655272, 0.08832785660251097, 0.9127211848926133, 0.06948262313044809, 0.19032196770514043, 0.06344065590171347, 0.6404485262458693, 0.0362518033724077, 0.9365196599119264, 0.040718246083127234, 0.009703290343472554, 0.5186849747238056, 0.0008821173039520503, 0.33608669280573117, 0.06351244588454762, 0.06968726701221198, 0.0017642346079041007, 0.1351274386602324, 0.1516063945944071, 0.23729696545211545, 0.013183164747339748, 0.02307053830784456, 0.10876110916555291, 0.003295791186834937, 0.3262833274966588, 0.18468016849068244, 0.006156005616356082, 0.7695007020445102, 0.006156005616356082, 0.030780028081780406, 0.9903187326012254, 0.017066849840623996, 0.03413369968124799, 0.9216098913936959, 0.017066849840623996, 0.029814931537171123, 0.1888278997354171, 0.009938310512390374, 0.715558356892107, 0.05466070781814706, 0.7310228261070366, 0.03225100703413397, 0.04837651055120095, 0.15319228341213634, 0.005375167839022328, 0.002687583919511164, 0.02687583919511164, 0.058487487907412386, 0.8773123186111859, 0.20709122241363018, 0.024570145032125613, 0.012285072516062806, 0.12285072516062807, 0.033345196829313334, 0.15268590127106632, 0.4457726312971361, 0.09852066137676907, 0.009852066137676908, 0.8177214894271833, 0.03448223148186917, 0.03448223148186917, 0.17046657198642032, 0.0006002344084028885, 0.007002734764700366, 0.054821409300797146, 0.0018007032252086654, 0.5832277668314733, 0.006402500356297477, 0.17546852538977772, 0.9250155625048733, 0.05349698163178358, 0.004279758530542687, 0.8324130341905526, 0.08987492914139641, 0.008559517061085374, 0.0021398792652713434, 0.010699396326356718, 0.974513897491127, 0.11695014963821417, 0.1255074776605225, 0.059901296156158475, 0.06560618150436404, 0.5562263214500429, 0.0028524426741027846, 0.028524426741027845, 0.04278664011154177, 0.021539487604003486, 0.02388073625661256, 0.02388073625661256, 0.03792822817226701, 0.021071237873481672, 0.7805723007798655, 0.08615795041601394, 0.005618996766261779, 0.08920821815392752, 0.02973607271797584, 0.8623461088212994, 0.2328783176673592, 0.6986349530020776, 0.9534182434369566, 0.9742343591794036, 0.22749204183942484, 0.11269281702230767, 0.11690563261192666, 0.0779370884079511, 0.02106407794809489, 0.07161786502352263, 0.3296528198876851, 0.04318135979359453, 0.1685086416429107, 0.4093417887697256, 0.07232450548390416, 0.22070158374469723, 0.0626315305221438, 0.0014912269171939003, 0.06039469014635296, 0.0037280672929847504, 0.9854684964682908, 0.2287353468288075, 0.0007475011334274755, 0.022425034002824265, 0.03214254873738145, 0.004485006800564853, 0.3289004987080892, 0.08596263034415967, 0.2960104488372803, 0.9636985253509118, 0.9826623944229573, 0.9820696795502292, 0.0016342578692980154, 0.14299756356357635, 0.7182563335564778, 0.06700457264121863, 0.0531133807521855, 0.016342578692980152, 0.9805708509893778, 0.001988987527361821, 0.003977975054723642, 0.011933925164170927, 0.9754580610364324, 0.013738845930090596, 0.0024706342104182473, 0.08976637631186299, 0.7263664578629647, 0.12517879999452453, 0.018117984209733814, 0.014823805262509485, 0.022235707893764226, 0.0008235447368060825, 0.2044214259828115, 0.7738811126492149, 0.014601530427343678, 0.07238083399279653, 0.10167783822797608, 0.09478442546675736, 0.1542401105322688, 0.5221760166623178, 0.048253889328531016, 0.006893412761218717, 0.04907151326042688, 0.09814302652085376, 0.11216345888097572, 0.0420612970803659, 0.47669470024414684, 0.02103064854018295, 0.18927583686164653, 0.19353380098689918, 0.7741352039475967, 0.035296653139166544, 0.07059330627833309, 0.8824163284791635, 0.22285646370590162, 0.10730126030284151, 0.6520615049172677, 0.9930769614607534, 0.0031829389790408763, 0.0031829389790408763, 0.9960112182930975, 0.2263491105953029, 0.7544970353176763, 0.9444927565931031, 0.9807296866978878, 0.9294474194655968, 0.15641999037203588, 0.05150414317128011, 0.31283998074407177, 0.005722682574586678, 0.19647876839414263, 0.0019075608581955595, 0.2746887635801606, 0.1744109336565715, 0.7848492014545718, 0.037360562349208364, 0.8966534963810007, 0.05604084352381254, 0.009422472152787204, 0.24498427597246733, 0.12249213798623367, 0.6124606899311683, 0.0033478236106375334, 0.09373906109785093, 0.16739118053187668, 0.033478236106375334, 0.013391294442550133, 0.11717382637231367, 0.5691300138083807, 0.9567271194571931, 0.1520372490634099, 0.005067908302113663, 0.07601862453170495, 0.04054326641690931, 0.5777415464409577, 0.1520372490634099, 0.9328724958384862, 0.042288920347130776, 0.636146187507553, 0.24165097341217587, 0.014499058404730553, 0.0006041274335304397, 0.06524576282128748, 0.0006041274335304397, 0.9953797925795423, 0.2890894245110063, 0.7227235612775157, 0.936808790704078, 0.9513417728768099, 0.01765769843850016, 0.12360388906950112, 0.8475695250480076, 0.015064127293774519, 0.020085503058366025, 0.005021375764591506, 0.2360046609358008, 0.6829071039844449, 0.04519238188132356, 0.029999097730332477, 0.2849914284381585, 0.014999548865166239, 0.6599801500673145, 0.11463003529940158, 0.646662916525972, 0.07600469731808147, 0.01370576509014584, 0.04236327391499623, 0.1071541634320493, 0.9489928262380576, 0.2889590854862116, 0.7054001204516341, 0.1893998782776159, 0.03314497869858278, 0.7718045039812848, 0.9788956084436662, 0.04147507953168508, 0.013825026510561694, 0.7514889410383893, 0.08591266474420481, 0.001975003787223099, 0.029625056808346487, 0.07505014391447777, 0.14609082027764198, 0.8400222165964413, 0.04158170033357805, 0.9355882575055062, 0.08039558802889933, 0.016749080839354027, 0.21438823474373156, 0.28138455810114765, 0.40532775631236745, 0.06406516023025964, 0.12813032046051928, 0.06406516023025964, 0.7367493426479859, 0.18360199194475146, 0.06601419935092187, 0.46828822664560205, 0.11552484886411328, 0.08045480545893603, 0.04332181832404248, 0.03507004340517725, 0.006188831189148925, 0.9580889212531548, 0.9457489561408294, 0.011694611213076342, 0.7803495118543667, 0.03402068716531299, 0.1573456781395726, 0.015947197108740464, 0.9280451130521505, 0.18913496570626495, 0.038375210433155206, 0.3837521043315521, 0.2028403980038204, 0.1809117063277317, 0.0027410864595110865, 0.06612219028266549, 0.0055101825235554566, 0.07163237280622094, 0.8540782911510958, 0.03403394196733184, 0.9578123667949102, 0.004861991709618834, 0.9926773651798351, 0.12593928714372893, 0.02679559300930403, 0.05359118601860806, 0.7904699937744688, 0.0026795593009304028, 0.3690660845899866, 0.022279579909631735, 0.02809164423388349, 0.28769718405046196, 0.06393270756676932, 0.021310902522256443, 0.20439092873618678, 0.0019373547747505856, 0.9875065629998996, 0.9420554389625713, 0.9703445633792154, 0.03724414234925945, 0.03724414234925945, 0.8938594163822268, 0.1318005945085291, 0.8567038643054391, 0.9873146781825117, 0.02600397420863479, 0.013001987104317395, 0.9361430715108524, 0.013001987104317395, 0.007259727524145623, 0.014519455048291247, 0.827608937752601, 0.14519455048291247, 0.29253447246752945, 0.6582025630519414, 0.9680201437451322, 0.9492568306839583, 0.29925058114879177, 0.02746064156424207, 0.34248348863711137, 0.025207460717945284, 0.029572998607645305, 0.1282904844360232, 0.147724169235333, 0.19239620933287147, 0.035580120904024175, 0.4651771362637235, 0.10937592722348173, 0.006588911278522996, 0.027673427369796583, 0.1607694351959611, 0.9714420699450914, 0.004409536733107171, 0.9877362282160063, 0.9695274055250445, 0.9461656246864539, 0.9766714193530077, 0.018427762629302034, 0.9334677767676101, 0.14654283207389202, 0.017585139848867042, 0.005861713282955681, 0.011723426565911362, 0.8206398596137953, 0.19554760790937756, 0.1164964472651611, 0.5367157749002065, 0.004160587402327182, 0.14562055908145138, 0.10442049957412022, 0.11068572954856744, 0.08562480965077858, 0.21719463911417006, 0.24643237899492373, 0.23599032903751171, 0.4083913442284476, 0.2950832380965879, 0.08486053906045664, 0.02121513476511416, 0.09836107936552929, 0.018804323996351187, 0.06702053937161065, 0.005785945845031135, 0.03584618732226687, 0.9248316329144852, 0.03584618732226687, 0.1519484647857542, 0.18993558098219274, 0.6647745334376746, 0.08115524972634998, 0.011593607103764282, 0.8579269256785569, 0.04637442841505713, 0.9515362142869785, 0.005115786098317089, 0.04092628878653671, 0.9785616008477441, 0.8735124131725133, 0.09554042019074364, 0.02729726291164104, 0.9937901593737315, 0.9346742299108057, 0.9804098467152631, 0.13341895258832517, 0.2721657834830061, 0.1309770083645788, 0.07037239262978216, 0.06282456502911152, 0.0008879797177259579, 0.2972512105087644, 0.032411259696997465, 0.11891462872000158, 0.006046506545084826, 0.003023253272542413, 0.7346505452278064, 0.13705414835525606, 0.5991244216364057, 0.023342509933885935, 0.16117447335302193, 0.07225062598583742, 0.11115480920898065, 0.0011115480920898064, 0.0055577404604490325, 0.025565606118065548, 0.03489868103431002, 0.04798568642217628, 0.008724670258577505, 0.6761619450397567, 0.039261016163598776, 0.004362335129288753, 0.12214538362008508, 0.06979736206862004, 0.5062647051634539, 0.0022804716448804226, 0.458374800620965, 0.031926603028325916, 0.9777660916253421, 0.9932603582115066, 0.001915037459896922, 0.15128795933185685, 0.4002428291184567, 0.19341878344958913, 0.14362780949226917, 0.001915037459896922, 0.045960899037526134, 0.06319623617659843, 0.7881175056852672, 0.061411753689761074, 0.15011762013052707, 0.3264574853156792, 0.6686478614899454, 0.003933222714646737, 0.9627454544180689, 0.18265693522518103, 0.0654807880995932, 0.654807880995932, 0.08271257444159141, 0.003446357268399642, 0.006892714536799284, 0.08186518836340854, 0.07504308933312451, 0.6958541010889726, 0.057987841757414386, 0.0886872873936926, 0.010087698700384326, 0.9885944726376639, 0.96256464679331, 0.031443631552932776, 0.9537901571056275, 0.010481210517644259, 0.9510440907181036, 0.2609224934147923, 0.5788532627017241, 0.030696763931152036, 0.12497968171969043, 0.0021926259950822884, 0.07500962414863234, 0.11088379221971738, 0.05218060810339641, 0.7272672254410875, 0.029351592058160483, 0.006522576012924552, 0.07369884697862371, 0.9212355872327964, 0.061129693522535195, 0.12225938704507039, 0.7946860157929575, 0.029256416768892426, 0.14628208384446212, 0.8191796695289879, 0.9660829561132322, 0.6347775949218631, 0.003978411110234518, 0.002652274073489679, 0.14012848021603802, 0.1989205555117259, 0.009282959257213876, 0.010167050615043768, 0.3284952015174772, 0.07384775848067317, 0.00254647443036804, 0.03310416759478452, 0.3615993691122617, 0.09421955392361749, 0.0127323721518402, 0.09167307949324945, 0.0025868044139244237, 0.018754332000952074, 0.032981756277536405, 0.08601124676298709, 0.0769574313142516, 0.4255293260905677, 0.16749558580160645, 0.19013012442344515, 0.19883940285080445, 0.030127182250121887, 0.030127182250121887, 0.042178055150170646, 0.6507471366026327, 0.042178055150170646, 0.9913165938307874, 0.9299264359364504, 0.05961066897028528, 0.005961066897028528, 0.9535522678392138, 0.043013081380521234, 0.9305938282461419, 0.009300125703896484, 0.016856477838312376, 0.9965214142331857], \"Term\": [\"aa\", \"aaa\", \"adapter\", \"adapter\", \"ads\", \"ads\", \"ads\", \"advertised\", \"advertised\", \"advertised\", \"advertised\", \"advertising\", \"age\", \"age\", \"age\", \"al\", \"alexa\", \"alexa\", \"alexa\", \"alexa\", \"alexa\", \"alkaline\", \"amazon\", \"amazon\", \"amazon\", \"amazon\", \"amazon\", \"amazon\", \"amazon\", \"amazon\", \"amazonbasics\", \"amazonbasics\", \"android\", \"android\", \"android\", \"android\", \"android\", \"annoying\", \"annoying\", \"annoying\", \"annoying\", \"anybody\", \"anybody\", \"app\", \"app\", \"app\", \"app\", \"apple\", \"apple\", \"apple\", \"apple\", \"apple\", \"appropriate\", \"apps\", \"apps\", \"apps\", \"apps\", \"apps\", \"apps\", \"apps\", \"appstore\", \"appstore\", \"associate\", \"associate\", \"assured\", \"audible\", \"audible\", \"audible\", \"audiobooks\", \"aunt\", \"auto\", \"available\", \"available\", \"available\", \"available\", \"available\", \"available\", \"available\", \"available\", \"avid\", \"avid\", \"awesome\", \"awesome\", \"awesome\", \"awesome\", \"awesome\", \"awesome\", \"awesome\", \"backlight\", \"bang\", \"bank\", \"bank\", \"basics\", \"basics\", \"batch\", \"batteries\", \"batteries\", \"batteries\", \"batteries\", \"battery\", \"battery\", \"battery\", \"battery\", \"battery\", \"battery\", \"battery\", \"batts\", \"batts\", \"beach\", \"beat\", \"beat\", \"beat\", \"beat\", \"beat\", \"beat\", \"bedroom\", \"bedroom\", \"beginner\", \"beginner\", \"beginner\", \"beginner\", \"beginners\", \"beginners\", \"beginners\", \"bells\", \"best\", \"best\", \"best\", \"best\", \"best\", \"best\", \"best\", \"best\", \"better\", \"better\", \"better\", \"better\", \"better\", \"better\", \"better\", \"better\", \"bigger\", \"bigger\", \"bigger\", \"bigger\", \"bigger\", \"bigger\", \"birthday\", \"birthday\", \"birthday\", \"birthday\", \"bluetooth\", \"bluetooth\", \"bluetooth\", \"bluetooth\", \"book\", \"book\", \"book\", \"book\", \"books\", \"books\", \"books\", \"books\", \"books\", \"bought\", \"bought\", \"bought\", \"bought\", \"bought\", \"bought\", \"bought\", \"bought\", \"box\", \"box\", \"box\", \"box\", \"box\", \"boyfriend\", \"brand\", \"brand\", \"brand\", \"brands\", \"brands\", \"bright\", \"bright\", \"brighter\", \"brings\", \"brother\", \"brother\", \"browser\", \"browser\", \"browser\", \"browser\", \"browser\", \"browsing\", \"browsing\", \"browsing\", \"browsing\", \"browsing\", \"buck\", \"build\", \"build\", \"build\", \"build\", \"bulk\", \"bulk\", \"bumper\", \"bumper\", \"busy\", \"busy\", \"busy\", \"button\", \"button\", \"buttons\", \"buy\", \"buy\", \"buy\", \"buy\", \"buy\", \"buy\", \"buy\", \"buy\", \"buying\", \"buying\", \"buying\", \"buying\", \"buying\", \"buying\", \"buying\", \"buying\", \"cable\", \"cable\", \"cable\", \"cable\", \"camera\", \"camera\", \"camera\", \"camera\", \"camera\", \"camera\", \"candles\", \"candy\", \"card\", \"card\", \"cardboard\", \"carry\", \"carry\", \"carry\", \"carry\", \"cartoons\", \"case\", \"case\", \"case\", \"case\", \"case\", \"case\", \"case\", \"charge\", \"charge\", \"charge\", \"charge\", \"charge\", \"charge\", \"charge\", \"charger\", \"charger\", \"charger\", \"charger\", \"charger\", \"charging\", \"charging\", \"charging\", \"charging\", \"charging\", \"cheap\", \"cheap\", \"cheap\", \"cheap\", \"cheaper\", \"cheaper\", \"cheaper\", \"cheaper\", \"cheaper\", \"cheaper\", \"cheaper\", \"check\", \"check\", \"check\", \"check\", \"child\", \"child\", \"child\", \"child\", \"child\", \"children\", \"children\", \"children\", \"children\", \"children\", \"christmas\", \"christmas\", \"christmas\", \"christmas\", \"christmas\", \"christmas\", \"christmas\", \"christmas\", \"chrome\", \"class\", \"class\", \"classes\", \"clear\", \"clear\", \"clear\", \"clear\", \"clear\", \"clear\", \"closes\", \"clumsy\", \"coffee\", \"coffee\", \"college\", \"complaints\", \"complaints\", \"complaints\", \"complaints\", \"complaints\", \"complaints\", \"computers\", \"connect\", \"connect\", \"connect\", \"connectivity\", \"connectivity\", \"contents\", \"controller\", \"controllers\", \"controls\", \"controls\", \"controls\", \"controls\", \"cord\", \"cord\", \"costco\", \"couldn\", \"couldn\", \"couldn\", \"couldn\", \"couldn\", \"couldn\", \"covered\", \"cpu\", \"credit\", \"crisp\", \"crush\", \"customer\", \"customer\", \"customer\", \"customer\", \"customer\", \"customer\", \"dad\", \"dad\", \"dad\", \"daughter\", \"daughter\", \"daughter\", \"daughter\", \"day\", \"day\", \"day\", \"day\", \"day\", \"day\", \"day\", \"day\", \"dead\", \"dead\", \"deal\", \"deal\", \"deal\", \"deal\", \"deal\", \"deal\", \"def\", \"def\", \"definitely\", \"definitely\", \"definitely\", \"definitely\", \"definitely\", \"definitely\", \"definitely\", \"delighted\", \"delivery\", \"delivery\", \"delivery\", \"described\", \"described\", \"described\", \"design\", \"design\", \"design\", \"design\", \"despite\", \"despite\", \"device\", \"device\", \"device\", \"device\", \"device\", \"device\", \"device\", \"die\", \"directions\", \"disney\", \"dot\", \"dot\", \"durability\", \"durability\", \"durability\", \"durable\", \"durable\", \"durable\", \"durable\", \"durable\", \"duracell\", \"duracells\", \"easier\", \"easier\", \"easier\", \"easier\", \"easier\", \"easy\", \"easy\", \"easy\", \"easy\", \"easy\", \"easy\", \"easy\", \"easy\", \"echo\", \"echo\", \"ecosystem\", \"educational\", \"educational\", \"email\", \"email\", \"email\", \"email\", \"employee\", \"encourage\", \"energizer\", \"enjoys\", \"enjoys\", \"enjoys\", \"enjoys\", \"ensure\", \"entertain\", \"entertained\", \"entertaining\", \"ereader\", \"everybody\", \"everybody\", \"exactly\", \"exactly\", \"exactly\", \"exactly\", \"exactly\", \"exactly\", \"excellent\", \"excellent\", \"excellent\", \"excellent\", \"excellent\", \"excellent\", \"excellent\", \"expand\", \"expandable\", \"expandable\", \"expect\", \"expect\", \"expect\", \"expect\", \"expect\", \"expect\", \"expectations\", \"expectations\", \"expectations\", \"expectations\", \"expectations\", \"expectations\", \"expected\", \"expected\", \"eyes\", \"family\", \"family\", \"family\", \"family\", \"family\", \"family\", \"far\", \"far\", \"far\", \"far\", \"far\", \"far\", \"far\", \"far\", \"fast\", \"fast\", \"fast\", \"fast\", \"fast\", \"fast\", \"fast\", \"fast\", \"faster\", \"faster\", \"faster\", \"faster\", \"faster\", \"features\", \"features\", \"features\", \"features\", \"features\", \"features\", \"features\", \"filter\", \"fine\", \"fine\", \"fine\", \"fine\", \"fine\", \"fine\", \"fine\", \"fix\", \"flashlight\", \"flashlights\", \"flights\", \"font\", \"forth\", \"fourth\", \"freeze\", \"friend\", \"friend\", \"friend\", \"friend\", \"friendly\", \"friendly\", \"friendly\", \"friendly\", \"games\", \"games\", \"games\", \"games\", \"games\", \"games\", \"games\", \"gb\", \"gb\", \"geek\", \"gen\", \"generation\", \"gift\", \"gift\", \"gift\", \"gift\", \"gift\", \"gift\", \"gift\", \"girlfriend\", \"glare\", \"good\", \"good\", \"good\", \"good\", \"good\", \"good\", \"good\", \"good\", \"google\", \"google\", \"google\", \"google\", \"got\", \"got\", \"got\", \"got\", \"got\", \"got\", \"got\", \"got\", \"grand\", \"grand\", \"grandaughter\", \"grandchild\", \"grandchild\", \"granddaughter\", \"granddaughter\", \"granddaughter\", \"grandmother\", \"grandson\", \"grandson\", \"great\", \"great\", \"great\", \"great\", \"great\", \"great\", \"great\", \"great\", \"greater\", \"grow\", \"half\", \"half\", \"half\", \"handy\", \"handy\", \"handy\", \"handy\", \"handy\", \"handy\", \"happy\", \"happy\", \"happy\", \"happy\", \"happy\", \"happy\", \"happy\", \"happy\", \"hd\", \"hd\", \"hd\", \"hd\", \"hd\", \"hd\", \"highest\", \"highest\", \"highly\", \"highly\", \"highly\", \"highly\", \"highly\", \"highly\", \"home\", \"home\", \"home\", \"home\", \"home\", \"home\", \"hours\", \"hours\", \"hours\", \"hours\", \"hours\", \"hours\", \"hundreds\", \"icons\", \"impossible\", \"improvement\", \"inexpensive\", \"inexpensive\", \"inexpensive\", \"inexpensive\", \"inexpensive\", \"inexpensive\", \"inexpensive\", \"integration\", \"internet\", \"internet\", \"internet\", \"internet\", \"internet\", \"internet\", \"invested\", \"ipad\", \"ipad\", \"ipad\", \"ipad\", \"ipad\", \"ipad\", \"issues\", \"issues\", \"issues\", \"issues\", \"issues\", \"issues\", \"issues\", \"issues\", \"item\", \"item\", \"item\", \"item\", \"item\", \"item\", \"item\", \"ive\", \"ive\", \"job\", \"job\", \"job\", \"job\", \"job\", \"job\", \"job\", \"keeps\", \"keeps\", \"keeps\", \"keeps\", \"keeps\", \"keeps\", \"keyboard\", \"keyboard\", \"keyboard\", \"kid\", \"kid\", \"kid\", \"kid\", \"kid\", \"kid\", \"kiddos\", \"kiddos\", \"kids\", \"kids\", \"kids\", \"kids\", \"kids\", \"kids\", \"kids\", \"kindle\", \"kindle\", \"kindle\", \"kindle\", \"kindle\", \"kindle\", \"lags\", \"lags\", \"laptop\", \"laptop\", \"laptop\", \"laptop\", \"larger\", \"larger\", \"larger\", \"larger\", \"larger\", \"lasted\", \"lasted\", \"lasted\", \"lasted\", \"lasting\", \"lasting\", \"law\", \"leak\", \"leaked\", \"leaking\", \"learn\", \"learn\", \"learn\", \"learning\", \"learning\", \"learning\", \"life\", \"life\", \"life\", \"life\", \"life\", \"life\", \"life\", \"light\", \"light\", \"light\", \"light\", \"light\", \"light\", \"lighter\", \"lighting\", \"like\", \"like\", \"like\", \"like\", \"like\", \"like\", \"like\", \"like\", \"lil\", \"limited\", \"limited\", \"limited\", \"limited\", \"limits\", \"limits\", \"listen\", \"listen\", \"listen\", \"listen\", \"little\", \"little\", \"little\", \"little\", \"little\", \"little\", \"little\", \"little\", \"ll\", \"ll\", \"ll\", \"ll\", \"ll\", \"ll\", \"ll\", \"long\", \"long\", \"long\", \"long\", \"long\", \"long\", \"long\", \"long\", \"longer\", \"longer\", \"longer\", \"longer\", \"longer\", \"longer\", \"looking\", \"looking\", \"looking\", \"looking\", \"looking\", \"looking\", \"looking\", \"looking\", \"losing\", \"lot\", \"lot\", \"lot\", \"lot\", \"lot\", \"lot\", \"lot\", \"lot\", \"louder\", \"love\", \"love\", \"love\", \"love\", \"love\", \"love\", \"love\", \"love\", \"loves\", \"loves\", \"loves\", \"loves\", \"low\", \"low\", \"low\", \"low\", \"low\", \"low\", \"low\", \"low\", \"mails\", \"market\", \"market\", \"market\", \"market\", \"market\", \"market\", \"matters\", \"meant\", \"media\", \"media\", \"media\", \"media\", \"meet\", \"meet\", \"meet\", \"meet\", \"memory\", \"memory\", \"memory\", \"met\", \"met\", \"micro\", \"microsd\", \"minecraft\", \"mini\", \"mini\", \"mini\", \"mini\", \"mirror\", \"model\", \"model\", \"model\", \"money\", \"money\", \"money\", \"money\", \"money\", \"money\", \"money\", \"money\", \"monitoring\", \"mother\", \"mother\", \"mouse\", \"mouse\", \"movies\", \"movies\", \"movies\", \"movies\", \"movies\", \"music\", \"music\", \"music\", \"music\", \"music\", \"nabi\", \"need\", \"need\", \"need\", \"need\", \"need\", \"need\", \"need\", \"need\", \"needs\", \"needs\", \"needs\", \"needs\", \"needs\", \"needs\", \"needs\", \"needs\", \"netflix\", \"netflix\", \"new\", \"new\", \"new\", \"new\", \"new\", \"new\", \"new\", \"nice\", \"nice\", \"nice\", \"nice\", \"nice\", \"nice\", \"nice\", \"nice\", \"niece\", \"niece\", \"niece\", \"notes\", \"oasis\", \"occupied\", \"offline\", \"ok\", \"ok\", \"ok\", \"ok\", \"ok\", \"ok\", \"old\", \"old\", \"old\", \"old\", \"old\", \"old\", \"old\", \"olds\", \"operates\", \"operates\", \"operates\", \"operation\", \"opportunity\", \"opportunity\", \"opportunity\", \"original\", \"original\", \"owned\", \"owned\", \"pack\", \"pack\", \"package\", \"package\", \"packaged\", \"packaged\", \"packaging\", \"packaging\", \"packs\", \"page\", \"paired\", \"paper\", \"paperwhite\", \"parental\", \"parental\", \"perfect\", \"perfect\", \"perfect\", \"perfect\", \"perfect\", \"perfect\", \"perfect\", \"perfect\", \"performs\", \"performs\", \"performs\", \"person\", \"person\", \"person\", \"person\", \"personally\", \"personally\", \"phone\", \"phone\", \"phone\", \"phone\", \"phone\", \"platform\", \"platform\", \"play\", \"play\", \"play\", \"play\", \"play\", \"play\", \"play\", \"pleased\", \"pleased\", \"pleased\", \"pleased\", \"pleased\", \"pleased\", \"pleased\", \"pleased\", \"plenty\", \"plenty\", \"plenty\", \"plenty\", \"plenty\", \"plug\", \"port\", \"port\", \"port\", \"port\", \"portable\", \"portable\", \"portable\", \"portable\", \"portable\", \"power\", \"power\", \"power\", \"power\", \"power\", \"power\", \"power\", \"practical\", \"practical\", \"pretty\", \"pretty\", \"pretty\", \"pretty\", \"pretty\", \"pretty\", \"pretty\", \"previous\", \"previous\", \"previous\", \"previous\", \"previous\", \"price\", \"price\", \"price\", \"price\", \"price\", \"price\", \"price\", \"price\", \"primary\", \"prime\", \"prime\", \"prime\", \"prime\", \"prime\", \"prime\", \"prime\", \"print\", \"problem\", \"problem\", \"problem\", \"problem\", \"problem\", \"problem\", \"problem\", \"problem\", \"product\", \"product\", \"product\", \"product\", \"product\", \"product\", \"product\", \"product\", \"promised\", \"promised\", \"promised\", \"prompt\", \"prompt\", \"proprietary\", \"provided\", \"purchase\", \"purchase\", \"purchase\", \"purchase\", \"purchase\", \"purchase\", \"purchase\", \"purchase\", \"purchased\", \"purchased\", \"purchased\", \"purchased\", \"purchased\", \"purchased\", \"purchased\", \"purchased\", \"purse\", \"quality\", \"quality\", \"quality\", \"quality\", \"quality\", \"quality\", \"quality\", \"quality\", \"quit\", \"ram\", \"rayovac\", \"read\", \"read\", \"read\", \"read\", \"read\", \"read\", \"reader\", \"reader\", \"reader\", \"reader\", \"readers\", \"readers\", \"reading\", \"reading\", \"reading\", \"reading\", \"reading\", \"reading\", \"reading\", \"reading\", \"reasonable\", \"reasonable\", \"reasonable\", \"recommend\", \"recommend\", \"recommend\", \"recommend\", \"recommend\", \"recommend\", \"recommend\", \"recommended\", \"recommended\", \"recommended\", \"recommended\", \"recommended\", \"recommended\", \"recommended\", \"refund\", \"refund\", \"related\", \"related\", \"related\", \"reliable\", \"reliable\", \"reliable\", \"remote\", \"remote\", \"remote\", \"remotes\", \"report\", \"report\", \"reputable\", \"restart\", \"restricted\", \"right\", \"right\", \"right\", \"right\", \"right\", \"right\", \"right\", \"rocks\", \"rocks\", \"rough\", \"rough\", \"rough\", \"runs\", \"runs\", \"runs\", \"runs\", \"sale\", \"sale\", \"sale\", \"sale\", \"sale\", \"sale\", \"sale\", \"salesman\", \"satisfied\", \"satisfied\", \"satisfied\", \"satisfied\", \"satisfied\", \"satisfied\", \"savy\", \"screen\", \"screen\", \"screen\", \"screen\", \"screen\", \"screen\", \"screen\", \"sd\", \"seller\", \"seller\", \"sensitivity\", \"series\", \"serves\", \"serves\", \"serves\", \"service\", \"service\", \"service\", \"service\", \"service\", \"service\", \"services\", \"services\", \"services\", \"services\", \"set\", \"set\", \"set\", \"set\", \"set\", \"set\", \"seven\", \"shipping\", \"shipping\", \"shows\", \"shows\", \"shows\", \"silk\", \"size\", \"size\", \"size\", \"size\", \"size\", \"size\", \"size\", \"skype\", \"skype\", \"slot\", \"slot\", \"slow\", \"slow\", \"slow\", \"slow\", \"slow\", \"slower\", \"slower\", \"slower\", \"slower\", \"small\", \"small\", \"small\", \"small\", \"small\", \"small\", \"small\", \"small\", \"smartphone\", \"snap\", \"son\", \"son\", \"son\", \"son\", \"son\", \"songs\", \"sound\", \"sound\", \"sound\", \"sound\", \"sound\", \"sound\", \"space\", \"space\", \"space\", \"space\", \"speaker\", \"speaker\", \"speaker\", \"squad\", \"storage\", \"storage\", \"storage\", \"storage\", \"storage\", \"store\", \"store\", \"store\", \"store\", \"store\", \"store\", \"store\", \"store\", \"stores\", \"strain\", \"student\", \"sufficient\", \"sufficient\", \"sufficient\", \"suitable\", \"suitable\", \"sunlight\", \"surf\", \"surf\", \"surf\", \"surf\", \"surfing\", \"surfing\", \"surfing\", \"surfing\", \"surgery\", \"surgery\", \"switching\", \"tables\", \"tablet\", \"tablet\", \"tablet\", \"tablet\", \"tablet\", \"tablet\", \"tablet\", \"tablets\", \"tablets\", \"tablets\", \"tablets\", \"tablets\", \"tablets\", \"tablets\", \"tank\", \"tap\", \"tap\", \"teaching\", \"teenager\", \"test\", \"test\", \"textbooks\", \"thank\", \"thank\", \"thank\", \"thank\", \"thank\", \"thanks\", \"thanks\", \"thanks\", \"thanks\", \"thanks\", \"thing\", \"thing\", \"thing\", \"thing\", \"thing\", \"thing\", \"time\", \"time\", \"time\", \"time\", \"time\", \"time\", \"time\", \"time\", \"toddler\", \"toddler\", \"toddler\", \"toddlers\", \"toddlers\", \"toddlers\", \"told\", \"told\", \"told\", \"told\", \"toys\", \"toys\", \"toys\", \"typing\", \"upgrade\", \"upgrade\", \"upgrade\", \"upgraded\", \"upset\", \"usb\", \"use\", \"use\", \"use\", \"use\", \"use\", \"use\", \"use\", \"use\", \"value\", \"value\", \"value\", \"value\", \"value\", \"ve\", \"ve\", \"ve\", \"ve\", \"ve\", \"ve\", \"ve\", \"ve\", \"video\", \"video\", \"video\", \"video\", \"video\", \"video\", \"video\", \"video\", \"videos\", \"videos\", \"videos\", \"videos\", \"voice\", \"voyage\", \"wanted\", \"wanted\", \"wanted\", \"wanted\", \"wanted\", \"wanted\", \"wanted\", \"wanted\", \"warranty\", \"warranty\", \"warranty\", \"watch\", \"watch\", \"watch\", \"watches\", \"watching\", \"watching\", \"watching\", \"watching\", \"watching\", \"watching\", \"web\", \"web\", \"web\", \"web\", \"web\", \"weight\", \"weight\", \"whistles\", \"white\", \"white\", \"white\", \"wide\", \"wife\", \"wife\", \"wife\", \"wife\", \"wife\", \"wifi\", \"wifi\", \"wifi\", \"wifi\", \"wifi\", \"wifi\", \"win\", \"win\", \"wonderfully\", \"wonderfully\", \"wonderfully\", \"word\", \"word\", \"word\", \"words\", \"work\", \"work\", \"work\", \"work\", \"work\", \"work\", \"work\", \"working\", \"working\", \"working\", \"working\", \"working\", \"working\", \"working\", \"working\", \"works\", \"works\", \"works\", \"works\", \"works\", \"works\", \"works\", \"works\", \"wouldn\", \"wouldn\", \"wouldn\", \"wouldn\", \"wouldn\", \"wouldn\", \"wrapped\", \"xbox\", \"xbox\", \"xbox\", \"yay\", \"year\", \"year\", \"year\", \"year\", \"yr\"]}, \"R\": 30, \"lambda.step\": 0.01, \"plot.opts\": {\"xlab\": \"PC1\", \"ylab\": \"PC2\"}, \"topic.order\": [5, 4, 7, 3, 1, 2, 6, 8]};\n",
              "\n",
              "function LDAvis_load_lib(url, callback){\n",
              "  var s = document.createElement('script');\n",
              "  s.src = url;\n",
              "  s.async = true;\n",
              "  s.onreadystatechange = s.onload = callback;\n",
              "  s.onerror = function(){console.warn(\"failed to load library \" + url);};\n",
              "  document.getElementsByTagName(\"head\")[0].appendChild(s);\n",
              "}\n",
              "\n",
              "if(typeof(LDAvis) !== \"undefined\"){\n",
              "   // already loaded: just create the visualization\n",
              "   !function(LDAvis){\n",
              "       new LDAvis(\"#\" + \"ldavis_el1011397898214382565405902874\", ldavis_el1011397898214382565405902874_data);\n",
              "   }(LDAvis);\n",
              "}else if(typeof define === \"function\" && define.amd){\n",
              "   // require.js is available: use it to load d3/LDAvis\n",
              "   require.config({paths: {d3: \"https://cdnjs.cloudflare.com/ajax/libs/d3/3.5.5/d3.min\"}});\n",
              "   require([\"d3\"], function(d3){\n",
              "      window.d3 = d3;\n",
              "      LDAvis_load_lib(\"https://cdn.rawgit.com/bmabey/pyLDAvis/files/ldavis.v1.0.0.js\", function(){\n",
              "        new LDAvis(\"#\" + \"ldavis_el1011397898214382565405902874\", ldavis_el1011397898214382565405902874_data);\n",
              "      });\n",
              "    });\n",
              "}else{\n",
              "    // require.js not available: dynamically load d3 & LDAvis\n",
              "    LDAvis_load_lib(\"https://cdnjs.cloudflare.com/ajax/libs/d3/3.5.5/d3.min.js\", function(){\n",
              "         LDAvis_load_lib(\"https://cdn.rawgit.com/bmabey/pyLDAvis/files/ldavis.v1.0.0.js\", function(){\n",
              "                 new LDAvis(\"#\" + \"ldavis_el1011397898214382565405902874\", ldavis_el1011397898214382565405902874_data);\n",
              "            })\n",
              "         });\n",
              "}\n",
              "</script>"
            ],
            "text/plain": [
              "PreparedData(topic_coordinates=              x         y  topics  cluster       Freq\n",
              "topic                                                \n",
              "4      0.091487 -0.224205       1        1  22.462371\n",
              "3     -0.187605  0.149518       2        1  17.845109\n",
              "6     -0.131832 -0.004068       3        1  13.973109\n",
              "2     -0.082416  0.085313       4        1  13.092728\n",
              "0     -0.136524 -0.142548       5        1   9.771266\n",
              "1      0.281989  0.108290       6        1   8.622443\n",
              "5     -0.031691  0.001694       7        1   7.702809\n",
              "7      0.196592  0.026007       8        1   6.530164, topic_info=           Term         Freq        Total Category  logprob  loglift\n",
              "20        great  9131.000000  9131.000000  Default  30.0000  30.0000\n",
              "33         good  5728.000000  5728.000000  Default  29.0000  29.0000\n",
              "17    batteries  7370.000000  7370.000000  Default  28.0000  28.0000\n",
              "16        price  4998.000000  4998.000000  Default  27.0000  27.0000\n",
              "1831     tablet  7101.000000  7101.000000  Default  26.0000  26.0000\n",
              "...         ...          ...          ...      ...      ...      ...\n",
              "102        need   130.189774   946.100234   Topic8  -5.0108   0.7454\n",
              "97          got   135.512873  1272.186641   Topic8  -4.9707   0.4893\n",
              "27       bought   155.658852  3160.327264   Topic8  -4.8321  -0.2820\n",
              "172        nice   127.053116  1223.786894   Topic8  -5.0352   0.4636\n",
              "90          use   145.605517  4504.607392   Topic8  -4.8989  -0.7032\n",
              "\n",
              "[575 rows x 6 columns], token_table=      Topic      Freq     Term\n",
              "term                          \n",
              "55        1  0.998499       aa\n",
              "56        1  0.997818      aaa\n",
              "2005      3  0.024625  adapter\n",
              "2005      5  0.960387  adapter\n",
              "1662      2  0.005473      ads\n",
              "...     ...       ...      ...\n",
              "101       1  0.043013     year\n",
              "101       2  0.930594     year\n",
              "101       4  0.009300     year\n",
              "101       5  0.016856     year\n",
              "1463      2  0.996521       yr\n",
              "\n",
              "[1545 rows x 3 columns], R=30, lambda_step=0.01, plot_opts={'xlab': 'PC1', 'ylab': 'PC2'}, topic_order=[5, 4, 7, 3, 1, 2, 6, 8])"
            ]
          },
          "metadata": {
            "tags": []
          },
          "execution_count": 16
        }
      ]
    },
    {
      "cell_type": "code",
      "metadata": {
        "id": "hDzSWPDWKg2z"
      },
      "source": [
        "# show topics with regex\n",
        "word_list = [re.findall(r'\"([^\"]*)\"',t[1]) for t in lda.print_topics()]\n",
        "\n",
        "# create topic list\n",
        "topics = []\n",
        "for words in word_list:\n",
        "    topic = ' '.join(words)\n",
        "    topics.append(topic)"
      ],
      "execution_count": 17,
      "outputs": []
    },
    {
      "cell_type": "code",
      "metadata": {
        "id": "zBm3Ln6nKj4V"
      },
      "source": [
        "lda_values = [lda[x] for x in corpus]"
      ],
      "execution_count": 18,
      "outputs": []
    },
    {
      "cell_type": "code",
      "metadata": {
        "id": "IV3foakfKn9l"
      },
      "source": [
        "# function for formating data \n",
        "def update(doc):\n",
        "        d_dist = {k:0 for k in range(0,8)}\n",
        "        for t in doc:\n",
        "            d_dist[t[0]] = t[1]\n",
        "        return d_dist\n",
        "    \n",
        "new_distro = [update(d) for d in lda_values]"
      ],
      "execution_count": 19,
      "outputs": []
    },
    {
      "cell_type": "code",
      "metadata": {
        "id": "ZkCw_aL1KsQP",
        "outputId": "adee2788-ecd2-4554-eab4-24a1eadc0dca",
        "colab": {
          "base_uri": "https://localhost:8080/",
          "height": 267
        }
      },
      "source": [
        "df1 = pd.DataFrame.from_records(new_distro)\n",
        "df1.columns = topics\n",
        "df1.head()"
      ],
      "execution_count": 24,
      "outputs": [
        {
          "output_type": "execute_result",
          "data": {
            "text/html": [
              "<div>\n",
              "<style scoped>\n",
              "    .dataframe tbody tr th:only-of-type {\n",
              "        vertical-align: middle;\n",
              "    }\n",
              "\n",
              "    .dataframe tbody tr th {\n",
              "        vertical-align: top;\n",
              "    }\n",
              "\n",
              "    .dataframe thead th {\n",
              "        text-align: right;\n",
              "    }\n",
              "</style>\n",
              "<table border=\"1\" class=\"dataframe\">\n",
              "  <thead>\n",
              "    <tr style=\"text-align: right;\">\n",
              "      <th></th>\n",
              "      <th>bought charge music amazon work alexa kindle use home charging</th>\n",
              "      <th>great price product good value deal works recommend buy work</th>\n",
              "      <th>tablet amazon apps great ipad movies love games screen google</th>\n",
              "      <th>tablet loves old year kids bought love easy use games</th>\n",
              "      <th>batteries long work amazon brand battery brands price time buy</th>\n",
              "      <th>use tablet easy battery life amazon like good great kids</th>\n",
              "      <th>kindle screen love easy reading read books size use like</th>\n",
              "      <th>good tablet price far best buy quality expected better works</th>\n",
              "    </tr>\n",
              "  </thead>\n",
              "  <tbody>\n",
              "    <tr>\n",
              "      <th>0</th>\n",
              "      <td>0.012525</td>\n",
              "      <td>0.144827</td>\n",
              "      <td>0.012519</td>\n",
              "      <td>0.012502</td>\n",
              "      <td>0.584324</td>\n",
              "      <td>0.208279</td>\n",
              "      <td>0.012510</td>\n",
              "      <td>0.012514</td>\n",
              "    </tr>\n",
              "    <tr>\n",
              "      <th>1</th>\n",
              "      <td>0.020848</td>\n",
              "      <td>0.020843</td>\n",
              "      <td>0.020850</td>\n",
              "      <td>0.020843</td>\n",
              "      <td>0.854037</td>\n",
              "      <td>0.020850</td>\n",
              "      <td>0.020856</td>\n",
              "      <td>0.020873</td>\n",
              "    </tr>\n",
              "    <tr>\n",
              "      <th>2</th>\n",
              "      <td>0.031286</td>\n",
              "      <td>0.443196</td>\n",
              "      <td>0.031262</td>\n",
              "      <td>0.031271</td>\n",
              "      <td>0.369064</td>\n",
              "      <td>0.031365</td>\n",
              "      <td>0.031289</td>\n",
              "      <td>0.031268</td>\n",
              "    </tr>\n",
              "    <tr>\n",
              "      <th>3</th>\n",
              "      <td>0.020838</td>\n",
              "      <td>0.020922</td>\n",
              "      <td>0.020844</td>\n",
              "      <td>0.020835</td>\n",
              "      <td>0.853997</td>\n",
              "      <td>0.020836</td>\n",
              "      <td>0.020846</td>\n",
              "      <td>0.020883</td>\n",
              "    </tr>\n",
              "    <tr>\n",
              "      <th>4</th>\n",
              "      <td>0.020834</td>\n",
              "      <td>0.343661</td>\n",
              "      <td>0.020837</td>\n",
              "      <td>0.020836</td>\n",
              "      <td>0.531318</td>\n",
              "      <td>0.020836</td>\n",
              "      <td>0.020836</td>\n",
              "      <td>0.020842</td>\n",
              "    </tr>\n",
              "  </tbody>\n",
              "</table>\n",
              "</div>"
            ],
            "text/plain": [
              "   bought charge music amazon work alexa kindle use home charging  ...  good tablet price far best buy quality expected better works\n",
              "0                                           0.012525               ...                                           0.012514           \n",
              "1                                           0.020848               ...                                           0.020873           \n",
              "2                                           0.031286               ...                                           0.031268           \n",
              "3                                           0.020838               ...                                           0.020883           \n",
              "4                                           0.020834               ...                                           0.020842           \n",
              "\n",
              "[5 rows x 8 columns]"
            ]
          },
          "metadata": {
            "tags": []
          },
          "execution_count": 24
        }
      ]
    },
    {
      "cell_type": "code",
      "metadata": {
        "id": "yTf5pisSKyoT",
        "outputId": "bd731d52-c857-41b3-e692-206c1cafc344",
        "colab": {
          "base_uri": "https://localhost:8080/",
          "height": 267
        }
      },
      "source": [
        "df2 = pd.DataFrame(new_distro)\n",
        "df2.columns = topics\n",
        "df2.head()"
      ],
      "execution_count": 25,
      "outputs": [
        {
          "output_type": "execute_result",
          "data": {
            "text/html": [
              "<div>\n",
              "<style scoped>\n",
              "    .dataframe tbody tr th:only-of-type {\n",
              "        vertical-align: middle;\n",
              "    }\n",
              "\n",
              "    .dataframe tbody tr th {\n",
              "        vertical-align: top;\n",
              "    }\n",
              "\n",
              "    .dataframe thead th {\n",
              "        text-align: right;\n",
              "    }\n",
              "</style>\n",
              "<table border=\"1\" class=\"dataframe\">\n",
              "  <thead>\n",
              "    <tr style=\"text-align: right;\">\n",
              "      <th></th>\n",
              "      <th>bought charge music amazon work alexa kindle use home charging</th>\n",
              "      <th>great price product good value deal works recommend buy work</th>\n",
              "      <th>tablet amazon apps great ipad movies love games screen google</th>\n",
              "      <th>tablet loves old year kids bought love easy use games</th>\n",
              "      <th>batteries long work amazon brand battery brands price time buy</th>\n",
              "      <th>use tablet easy battery life amazon like good great kids</th>\n",
              "      <th>kindle screen love easy reading read books size use like</th>\n",
              "      <th>good tablet price far best buy quality expected better works</th>\n",
              "    </tr>\n",
              "  </thead>\n",
              "  <tbody>\n",
              "    <tr>\n",
              "      <th>0</th>\n",
              "      <td>0.012525</td>\n",
              "      <td>0.144827</td>\n",
              "      <td>0.012519</td>\n",
              "      <td>0.012502</td>\n",
              "      <td>0.584324</td>\n",
              "      <td>0.208279</td>\n",
              "      <td>0.012510</td>\n",
              "      <td>0.012514</td>\n",
              "    </tr>\n",
              "    <tr>\n",
              "      <th>1</th>\n",
              "      <td>0.020848</td>\n",
              "      <td>0.020843</td>\n",
              "      <td>0.020850</td>\n",
              "      <td>0.020843</td>\n",
              "      <td>0.854037</td>\n",
              "      <td>0.020850</td>\n",
              "      <td>0.020856</td>\n",
              "      <td>0.020873</td>\n",
              "    </tr>\n",
              "    <tr>\n",
              "      <th>2</th>\n",
              "      <td>0.031286</td>\n",
              "      <td>0.443196</td>\n",
              "      <td>0.031262</td>\n",
              "      <td>0.031271</td>\n",
              "      <td>0.369064</td>\n",
              "      <td>0.031365</td>\n",
              "      <td>0.031289</td>\n",
              "      <td>0.031268</td>\n",
              "    </tr>\n",
              "    <tr>\n",
              "      <th>3</th>\n",
              "      <td>0.020838</td>\n",
              "      <td>0.020922</td>\n",
              "      <td>0.020844</td>\n",
              "      <td>0.020835</td>\n",
              "      <td>0.853997</td>\n",
              "      <td>0.020836</td>\n",
              "      <td>0.020846</td>\n",
              "      <td>0.020883</td>\n",
              "    </tr>\n",
              "    <tr>\n",
              "      <th>4</th>\n",
              "      <td>0.020834</td>\n",
              "      <td>0.343661</td>\n",
              "      <td>0.020837</td>\n",
              "      <td>0.020836</td>\n",
              "      <td>0.531318</td>\n",
              "      <td>0.020836</td>\n",
              "      <td>0.020836</td>\n",
              "      <td>0.020842</td>\n",
              "    </tr>\n",
              "  </tbody>\n",
              "</table>\n",
              "</div>"
            ],
            "text/plain": [
              "   bought charge music amazon work alexa kindle use home charging  ...  good tablet price far best buy quality expected better works\n",
              "0                                           0.012525               ...                                           0.012514           \n",
              "1                                           0.020848               ...                                           0.020873           \n",
              "2                                           0.031286               ...                                           0.031268           \n",
              "3                                           0.020838               ...                                           0.020883           \n",
              "4                                           0.020834               ...                                           0.020842           \n",
              "\n",
              "[5 rows x 8 columns]"
            ]
          },
          "metadata": {
            "tags": []
          },
          "execution_count": 25
        }
      ]
    },
    {
      "cell_type": "code",
      "metadata": {
        "id": "Im606zZwK29g"
      },
      "source": [
        "# concat df1 with category dataframe\n",
        "finalDF = pd.concat([df['primaryCategories'], df1], axis=1)"
      ],
      "execution_count": 27,
      "outputs": []
    },
    {
      "cell_type": "code",
      "metadata": {
        "id": "IVsVA3ICK9BL",
        "outputId": "e27aebc5-e022-4edb-c5cb-1746121f1263",
        "colab": {
          "base_uri": "https://localhost:8080/",
          "height": 503
        }
      },
      "source": [
        "# look at topics\n",
        "# used for different category reviews\n",
        "\n",
        "finalDF.groupby('primaryCategories').mean()"
      ],
      "execution_count": 28,
      "outputs": [
        {
          "output_type": "execute_result",
          "data": {
            "text/html": [
              "<div>\n",
              "<style scoped>\n",
              "    .dataframe tbody tr th:only-of-type {\n",
              "        vertical-align: middle;\n",
              "    }\n",
              "\n",
              "    .dataframe tbody tr th {\n",
              "        vertical-align: top;\n",
              "    }\n",
              "\n",
              "    .dataframe thead th {\n",
              "        text-align: right;\n",
              "    }\n",
              "</style>\n",
              "<table border=\"1\" class=\"dataframe\">\n",
              "  <thead>\n",
              "    <tr style=\"text-align: right;\">\n",
              "      <th></th>\n",
              "      <th>bought charge music amazon work alexa kindle use home charging</th>\n",
              "      <th>great price product good value deal works recommend buy work</th>\n",
              "      <th>tablet amazon apps great ipad movies love games screen google</th>\n",
              "      <th>tablet loves old year kids bought love easy use games</th>\n",
              "      <th>batteries long work amazon brand battery brands price time buy</th>\n",
              "      <th>use tablet easy battery life amazon like good great kids</th>\n",
              "      <th>kindle screen love easy reading read books size use like</th>\n",
              "      <th>good tablet price far best buy quality expected better works</th>\n",
              "    </tr>\n",
              "    <tr>\n",
              "      <th>primaryCategories</th>\n",
              "      <th></th>\n",
              "      <th></th>\n",
              "      <th></th>\n",
              "      <th></th>\n",
              "      <th></th>\n",
              "      <th></th>\n",
              "      <th></th>\n",
              "      <th></th>\n",
              "    </tr>\n",
              "  </thead>\n",
              "  <tbody>\n",
              "    <tr>\n",
              "      <th>Animals &amp; Pet Supplies</th>\n",
              "      <td>0.037757</td>\n",
              "      <td>0.238941</td>\n",
              "      <td>0.015337</td>\n",
              "      <td>0.110512</td>\n",
              "      <td>0.318391</td>\n",
              "      <td>0.015332</td>\n",
              "      <td>0.238765</td>\n",
              "      <td>0.015338</td>\n",
              "    </tr>\n",
              "    <tr>\n",
              "      <th>Electronics</th>\n",
              "      <td>0.100465</td>\n",
              "      <td>0.093340</td>\n",
              "      <td>0.152504</td>\n",
              "      <td>0.268323</td>\n",
              "      <td>0.024496</td>\n",
              "      <td>0.092980</td>\n",
              "      <td>0.175616</td>\n",
              "      <td>0.079993</td>\n",
              "    </tr>\n",
              "    <tr>\n",
              "      <th>Electronics,Furniture</th>\n",
              "      <td>0.484145</td>\n",
              "      <td>0.000000</td>\n",
              "      <td>0.167038</td>\n",
              "      <td>0.191658</td>\n",
              "      <td>0.000000</td>\n",
              "      <td>0.110778</td>\n",
              "      <td>0.000000</td>\n",
              "      <td>0.000000</td>\n",
              "    </tr>\n",
              "    <tr>\n",
              "      <th>Electronics,Media</th>\n",
              "      <td>0.068208</td>\n",
              "      <td>0.054447</td>\n",
              "      <td>0.021464</td>\n",
              "      <td>0.040311</td>\n",
              "      <td>0.028999</td>\n",
              "      <td>0.073909</td>\n",
              "      <td>0.673575</td>\n",
              "      <td>0.023729</td>\n",
              "    </tr>\n",
              "    <tr>\n",
              "      <th>Health &amp; Beauty</th>\n",
              "      <td>0.043969</td>\n",
              "      <td>0.230722</td>\n",
              "      <td>0.033057</td>\n",
              "      <td>0.034870</td>\n",
              "      <td>0.441477</td>\n",
              "      <td>0.050094</td>\n",
              "      <td>0.033911</td>\n",
              "      <td>0.124611</td>\n",
              "    </tr>\n",
              "    <tr>\n",
              "      <th>Home &amp; Garden</th>\n",
              "      <td>0.041687</td>\n",
              "      <td>0.041682</td>\n",
              "      <td>0.041743</td>\n",
              "      <td>0.299946</td>\n",
              "      <td>0.200024</td>\n",
              "      <td>0.291503</td>\n",
              "      <td>0.041748</td>\n",
              "      <td>0.041668</td>\n",
              "    </tr>\n",
              "    <tr>\n",
              "      <th>Office Supplies</th>\n",
              "      <td>0.028120</td>\n",
              "      <td>0.363321</td>\n",
              "      <td>0.204753</td>\n",
              "      <td>0.028128</td>\n",
              "      <td>0.028120</td>\n",
              "      <td>0.045409</td>\n",
              "      <td>0.061554</td>\n",
              "      <td>0.240597</td>\n",
              "    </tr>\n",
              "    <tr>\n",
              "      <th>Office Supplies,Electronics</th>\n",
              "      <td>0.071215</td>\n",
              "      <td>0.091532</td>\n",
              "      <td>0.075940</td>\n",
              "      <td>0.107051</td>\n",
              "      <td>0.025626</td>\n",
              "      <td>0.082936</td>\n",
              "      <td>0.468726</td>\n",
              "      <td>0.065465</td>\n",
              "    </tr>\n",
              "    <tr>\n",
              "      <th>Toys &amp; Games,Electronics</th>\n",
              "      <td>0.070211</td>\n",
              "      <td>0.065055</td>\n",
              "      <td>0.107319</td>\n",
              "      <td>0.558094</td>\n",
              "      <td>0.022137</td>\n",
              "      <td>0.071526</td>\n",
              "      <td>0.039712</td>\n",
              "      <td>0.052370</td>\n",
              "    </tr>\n",
              "  </tbody>\n",
              "</table>\n",
              "</div>"
            ],
            "text/plain": [
              "                             bought charge music amazon work alexa kindle use home charging  ...  good tablet price far best buy quality expected better works\n",
              "primaryCategories                                                                            ...                                                              \n",
              "Animals & Pet Supplies                                                0.037757               ...                                           0.015338           \n",
              "Electronics                                                           0.100465               ...                                           0.079993           \n",
              "Electronics,Furniture                                                 0.484145               ...                                           0.000000           \n",
              "Electronics,Media                                                     0.068208               ...                                           0.023729           \n",
              "Health & Beauty                                                       0.043969               ...                                           0.124611           \n",
              "Home & Garden                                                         0.041687               ...                                           0.041668           \n",
              "Office Supplies                                                       0.028120               ...                                           0.240597           \n",
              "Office Supplies,Electronics                                           0.071215               ...                                           0.065465           \n",
              "Toys & Games,Electronics                                              0.070211               ...                                           0.052370           \n",
              "\n",
              "[9 rows x 8 columns]"
            ]
          },
          "metadata": {
            "tags": []
          },
          "execution_count": 28
        }
      ]
    },
    {
      "cell_type": "markdown",
      "metadata": {
        "id": "uZLmuLqYD3XM"
      },
      "source": [
        "## Stretch Goals\n",
        "\n",
        "* Incorporate Named Entity Recognition in your analysis\n",
        "* Incorporate some custom pre-processing from our previous lessons (like spacy lemmatization)\n",
        "* Analyze a dataset of interest to you with topic modeling"
      ]
    }
  ]
}